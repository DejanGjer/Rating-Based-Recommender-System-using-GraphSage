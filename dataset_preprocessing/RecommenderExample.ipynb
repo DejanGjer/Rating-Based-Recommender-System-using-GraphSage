{
 "cells": [
  {
   "cell_type": "code",
   "execution_count": 74,
   "source": [
    "import numpy as np\r\n",
    "import pandas as pd\r\n",
    "import json\r\n",
    "import gc\r\n",
    "from collections import defaultdict\r\n",
    "import sys\r\n",
    "from enum import Enum\r\n",
    "import random\r\n",
    "import pickle\r\n",
    "\r\n",
    "random.seed(824)\r\n",
    "\r\n",
    "print(\"Setup complete!\")"
   ],
   "outputs": [
    {
     "output_type": "stream",
     "name": "stdout",
     "text": [
      "Setup complete!\n"
     ]
    }
   ],
   "metadata": {}
  },
  {
   "cell_type": "code",
   "execution_count": 75,
   "source": [
    "a_file = open(\"prepared_data/data-small.pkl\", \"rb\")\r\n",
    "data = pickle.load(a_file)\r\n",
    "a_file.close()\r\n",
    "movies_feat = data[\"movies_feat\"]\r\n",
    "movie_map = data[\"movie_map\"]\r\n",
    "movie_adj_list = data[\"movie_adj_list_train\"]\r\n",
    "user_adj_list = data[\"user_adj_list_train\"]\r\n",
    "edge_list_train = data[\"edge_list_train\"]\r\n",
    "edge_list_valid = data[\"edge_list_valid\"]\r\n",
    "edge_list_test = data[\"edge_list_test\"]\r\n"
   ],
   "outputs": [],
   "metadata": {}
  },
  {
   "cell_type": "code",
   "execution_count": 76,
   "source": [
    "pos_to_idx = dict((y,x) for x, y in movie_map.items())"
   ],
   "outputs": [],
   "metadata": {}
  },
  {
   "cell_type": "code",
   "execution_count": 77,
   "source": [
    "dataset_dir = \"../datasets/ml-25m\"\r\n",
    "movies_df = pd.read_csv(dataset_dir + \"/movies.csv\")\r\n",
    "movies_df = movies_df.set_index(\"movieId\")\r\n",
    "movies_df"
   ],
   "outputs": [
    {
     "output_type": "execute_result",
     "data": {
      "text/plain": [
       "                                      title  \\\n",
       "movieId                                       \n",
       "1                          Toy Story (1995)   \n",
       "2                            Jumanji (1995)   \n",
       "3                   Grumpier Old Men (1995)   \n",
       "4                  Waiting to Exhale (1995)   \n",
       "5        Father of the Bride Part II (1995)   \n",
       "...                                     ...   \n",
       "209157                            We (2018)   \n",
       "209159            Window of the Soul (2001)   \n",
       "209163                     Bad Poems (2018)   \n",
       "209169                  A Girl Thing (2001)   \n",
       "209171       Women of Devil's Island (1962)   \n",
       "\n",
       "                                              genres  \n",
       "movieId                                               \n",
       "1        Adventure|Animation|Children|Comedy|Fantasy  \n",
       "2                         Adventure|Children|Fantasy  \n",
       "3                                     Comedy|Romance  \n",
       "4                               Comedy|Drama|Romance  \n",
       "5                                             Comedy  \n",
       "...                                              ...  \n",
       "209157                                         Drama  \n",
       "209159                                   Documentary  \n",
       "209163                                  Comedy|Drama  \n",
       "209169                            (no genres listed)  \n",
       "209171                        Action|Adventure|Drama  \n",
       "\n",
       "[62423 rows x 2 columns]"
      ],
      "text/html": [
       "<div>\n",
       "<style scoped>\n",
       "    .dataframe tbody tr th:only-of-type {\n",
       "        vertical-align: middle;\n",
       "    }\n",
       "\n",
       "    .dataframe tbody tr th {\n",
       "        vertical-align: top;\n",
       "    }\n",
       "\n",
       "    .dataframe thead th {\n",
       "        text-align: right;\n",
       "    }\n",
       "</style>\n",
       "<table border=\"1\" class=\"dataframe\">\n",
       "  <thead>\n",
       "    <tr style=\"text-align: right;\">\n",
       "      <th></th>\n",
       "      <th>title</th>\n",
       "      <th>genres</th>\n",
       "    </tr>\n",
       "    <tr>\n",
       "      <th>movieId</th>\n",
       "      <th></th>\n",
       "      <th></th>\n",
       "    </tr>\n",
       "  </thead>\n",
       "  <tbody>\n",
       "    <tr>\n",
       "      <th>1</th>\n",
       "      <td>Toy Story (1995)</td>\n",
       "      <td>Adventure|Animation|Children|Comedy|Fantasy</td>\n",
       "    </tr>\n",
       "    <tr>\n",
       "      <th>2</th>\n",
       "      <td>Jumanji (1995)</td>\n",
       "      <td>Adventure|Children|Fantasy</td>\n",
       "    </tr>\n",
       "    <tr>\n",
       "      <th>3</th>\n",
       "      <td>Grumpier Old Men (1995)</td>\n",
       "      <td>Comedy|Romance</td>\n",
       "    </tr>\n",
       "    <tr>\n",
       "      <th>4</th>\n",
       "      <td>Waiting to Exhale (1995)</td>\n",
       "      <td>Comedy|Drama|Romance</td>\n",
       "    </tr>\n",
       "    <tr>\n",
       "      <th>5</th>\n",
       "      <td>Father of the Bride Part II (1995)</td>\n",
       "      <td>Comedy</td>\n",
       "    </tr>\n",
       "    <tr>\n",
       "      <th>...</th>\n",
       "      <td>...</td>\n",
       "      <td>...</td>\n",
       "    </tr>\n",
       "    <tr>\n",
       "      <th>209157</th>\n",
       "      <td>We (2018)</td>\n",
       "      <td>Drama</td>\n",
       "    </tr>\n",
       "    <tr>\n",
       "      <th>209159</th>\n",
       "      <td>Window of the Soul (2001)</td>\n",
       "      <td>Documentary</td>\n",
       "    </tr>\n",
       "    <tr>\n",
       "      <th>209163</th>\n",
       "      <td>Bad Poems (2018)</td>\n",
       "      <td>Comedy|Drama</td>\n",
       "    </tr>\n",
       "    <tr>\n",
       "      <th>209169</th>\n",
       "      <td>A Girl Thing (2001)</td>\n",
       "      <td>(no genres listed)</td>\n",
       "    </tr>\n",
       "    <tr>\n",
       "      <th>209171</th>\n",
       "      <td>Women of Devil's Island (1962)</td>\n",
       "      <td>Action|Adventure|Drama</td>\n",
       "    </tr>\n",
       "  </tbody>\n",
       "</table>\n",
       "<p>62423 rows × 2 columns</p>\n",
       "</div>"
      ]
     },
     "metadata": {},
     "execution_count": 77
    }
   ],
   "metadata": {}
  },
  {
   "cell_type": "code",
   "execution_count": 78,
   "source": [
    "pos = 2301\r\n",
    "index = pos_to_idx[pos]\r\n",
    "movies_df.loc[index]"
   ],
   "outputs": [
    {
     "output_type": "execute_result",
     "data": {
      "text/plain": [
       "title     For Your Eyes Only (1981)\n",
       "genres    Action|Adventure|Thriller\n",
       "Name: 2989, dtype: object"
      ]
     },
     "metadata": {},
     "execution_count": 78
    }
   ],
   "metadata": {}
  },
  {
   "cell_type": "code",
   "execution_count": 79,
   "source": [
    "a_file = open(\"../models/20210808-231009/recommends.pkl\", \"rb\")\r\n",
    "personal_ratings = pickle.load(a_file)\r\n",
    "a_file.close()"
   ],
   "outputs": [],
   "metadata": {}
  },
  {
   "cell_type": "code",
   "execution_count": 80,
   "source": [
    "print(len(personal_ratings))\r\n",
    "print(personal_ratings[0])"
   ],
   "outputs": [
    {
     "output_type": "stream",
     "name": "stdout",
     "text": [
      "8726\n",
      "3.5414512157440186\n"
     ]
    }
   ],
   "metadata": {}
  },
  {
   "cell_type": "code",
   "execution_count": 81,
   "source": [
    "movie_ratings = dict()\r\n",
    "for i in range(len(movie_adj_list)):\r\n",
    "    num = len(movie_adj_list[i])\r\n",
    "    sum = 0\r\n",
    "    for rate in movie_adj_list[i]:\r\n",
    "        sum += rate[1]\r\n",
    "    movie_ratings[i] = sum / num\r\n",
    "print(len(movie_ratings))\r\n",
    "print(movie_ratings[0])"
   ],
   "outputs": [
    {
     "output_type": "stream",
     "name": "stdout",
     "text": [
      "8726\n",
      "3.8731404958677684\n"
     ]
    }
   ],
   "metadata": {}
  },
  {
   "cell_type": "code",
   "execution_count": 82,
   "source": [
    "razlike = dict()\r\n",
    "for i in range(len(movie_ratings)):\r\n",
    "    razlike[i] = personal_ratings[i] - movie_ratings[i] \r\n",
    "print(len(razlike))\r\n",
    "print(razlike[0])"
   ],
   "outputs": [
    {
     "output_type": "stream",
     "name": "stdout",
     "text": [
      "8726\n",
      "-0.3316892801237499\n"
     ]
    }
   ],
   "metadata": {}
  },
  {
   "cell_type": "code",
   "execution_count": 48,
   "source": [
    "print(max(razlike.values()))"
   ],
   "outputs": [
    {
     "output_type": "stream",
     "name": "stdout",
     "text": [
      "3.1939712524414063\n"
     ]
    }
   ],
   "metadata": {}
  },
  {
   "cell_type": "code",
   "execution_count": 51,
   "source": [
    "naj = 0\r\n",
    "for i in range(len(razlike)):\r\n",
    "    if razlike[i] > naj:\r\n",
    "        naj = razlike[i]\r\n",
    "print(naj)"
   ],
   "outputs": [
    {
     "output_type": "stream",
     "name": "stdout",
     "text": [
      "3.1939712524414063\n"
     ]
    }
   ],
   "metadata": {}
  },
  {
   "cell_type": "code",
   "execution_count": 83,
   "source": [
    "max_razlika = max(razlike.values())\r\n",
    "max_personal_rating = max(personal_ratings.values())\r\n",
    "print(max_razlika)\r\n",
    "print(max_personal_rating)\r\n",
    "for i in range(len(personal_ratings)):\r\n",
    "    personal_ratings[i] /= max_personal_rating\r\n",
    "for i in range(len(razlike)):\r\n",
    "    razlike[i] /= max_razlika\r\n",
    "\r\n",
    "print(razlike[0])\r\n",
    "print(personal_ratings[0])"
   ],
   "outputs": [
    {
     "output_type": "stream",
     "name": "stdout",
     "text": [
      "2.8124493492974176\n",
      "5.464280605316162\n",
      "-0.11793609019362773\n",
      "0.6481093251870272\n"
     ]
    }
   ],
   "metadata": {}
  },
  {
   "cell_type": "code",
   "execution_count": 84,
   "source": [
    "best = dict()\r\n",
    "for i in range(len(razlike)):\r\n",
    "    best[i] = razlike[i] + personal_ratings[i]\r\n",
    "print(len(best))\r\n",
    "print(best[0])"
   ],
   "outputs": [
    {
     "output_type": "stream",
     "name": "stdout",
     "text": [
      "8726\n",
      "0.5301732349933995\n"
     ]
    }
   ],
   "metadata": {}
  },
  {
   "cell_type": "code",
   "execution_count": 85,
   "source": [
    "to_watch = sorted(best.items(), key=lambda x: x[1], reverse=True)[:10]"
   ],
   "outputs": [],
   "metadata": {}
  },
  {
   "cell_type": "code",
   "execution_count": 86,
   "source": [
    "print(to_watch)"
   ],
   "outputs": [
    {
     "output_type": "stream",
     "name": "stdout",
     "text": [
      "[(4401, 1.657035644103322), (4450, 1.6062651258957217), (6098, 1.5630900692571807), (5629, 1.548475395052495), (6112, 1.5206424804350545), (1930, 1.5007737607312799), (8131, 1.4766063708457513), (8645, 1.4758427893489703), (6170, 1.4715532391559916), (5590, 1.436012969433299)]\n"
     ]
    }
   ],
   "metadata": {}
  },
  {
   "cell_type": "code",
   "execution_count": 92,
   "source": [
    "pos = 6112\r\n",
    "index = pos_to_idx[pos]\r\n",
    "movies_df.loc[index]"
   ],
   "outputs": [
    {
     "output_type": "execute_result",
     "data": {
      "text/plain": [
       "title     Seven Up! (1964)\n",
       "genres         Documentary\n",
       "Name: 50740, dtype: object"
      ]
     },
     "metadata": {},
     "execution_count": 92
    }
   ],
   "metadata": {}
  },
  {
   "cell_type": "code",
   "execution_count": 60,
   "source": [
    "good_users = []\r\n",
    "for i in range(len(user_adj_list)):\r\n",
    "    if len(user_adj_list[i]) <= 12:\r\n",
    "        good_users.append(i)\r\n",
    "\r\n",
    "print(len(good_users))"
   ],
   "outputs": [
    {
     "output_type": "stream",
     "name": "stdout",
     "text": [
      "75\n"
     ]
    }
   ],
   "metadata": {}
  },
  {
   "cell_type": "code",
   "execution_count": 61,
   "source": [
    "print(good_users)"
   ],
   "outputs": [
    {
     "output_type": "stream",
     "name": "stdout",
     "text": [
      "[69, 149, 344, 582, 636, 680, 748, 788, 821, 908, 1052, 1083, 1085, 1121, 1152, 1193, 1281, 1292, 1310, 1400, 1469, 1713, 1797, 1902, 1975, 2040, 2057, 2176, 2198, 2230, 2251, 2261, 2351, 2364, 2398, 2423, 2443, 2510, 2678, 2802, 2823, 2852, 2900, 2902, 2934, 3019, 3076, 3124, 3157, 3186, 3221, 3347, 3358, 3395, 3542, 3654, 3658, 3684, 3694, 3697, 3761, 3783, 3806, 3837, 3852, 3938, 4008, 4081, 4082, 4170, 4255, 4351, 4434, 4649, 4793]\n"
     ]
    }
   ],
   "metadata": {}
  },
  {
   "cell_type": "code",
   "execution_count": null,
   "source": [],
   "outputs": [],
   "metadata": {}
  }
 ],
 "metadata": {
  "orig_nbformat": 4,
  "language_info": {
   "name": "python",
   "version": "3.8.8",
   "mimetype": "text/x-python",
   "codemirror_mode": {
    "name": "ipython",
    "version": 3
   },
   "pygments_lexer": "ipython3",
   "nbconvert_exporter": "python",
   "file_extension": ".py"
  },
  "kernelspec": {
   "name": "python3",
   "display_name": "Python 3.8.8 64-bit ('psiml2021': conda)"
  },
  "interpreter": {
   "hash": "69a205db9aae4119a42a9d80f3530e8403e32af34de8d4ddc40822022be891a5"
  }
 },
 "nbformat": 4,
 "nbformat_minor": 2
}