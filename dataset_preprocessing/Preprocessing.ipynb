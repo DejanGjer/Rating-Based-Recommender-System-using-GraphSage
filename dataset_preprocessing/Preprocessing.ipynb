{
 "cells": [
  {
   "cell_type": "code",
   "execution_count": 27,
   "id": "e9affe90",
   "metadata": {},
   "outputs": [
    {
     "output_type": "stream",
     "name": "stdout",
     "text": [
      "Setup complete!\n"
     ]
    }
   ],
   "source": [
    "import pandas as pd\n",
    "import numpy as np\n",
    "\n",
    "dataset_dir = \"../datasets/ml-25m\"\n",
    "\n",
    "movies_df = pd.read_csv(dataset_dir + \"/movies.csv\")\n",
    "movies_df = movies_df.set_index(\"movieId\")\n",
    "ratings_df = pd.read_csv(dataset_dir + \"/ratings.csv\")\n",
    "tags_df = pd.read_csv(dataset_dir + \"/tags.csv\")\n",
    "\n",
    "print('Setup complete!')"
   ]
  },
  {
   "cell_type": "code",
   "execution_count": 28,
   "metadata": {},
   "outputs": [
    {
     "output_type": "execute_result",
     "data": {
      "text/plain": [
       "                                      title  \\\n",
       "movieId                                       \n",
       "1                          Toy Story (1995)   \n",
       "2                            Jumanji (1995)   \n",
       "3                   Grumpier Old Men (1995)   \n",
       "4                  Waiting to Exhale (1995)   \n",
       "5        Father of the Bride Part II (1995)   \n",
       "...                                     ...   \n",
       "209157                            We (2018)   \n",
       "209159            Window of the Soul (2001)   \n",
       "209163                     Bad Poems (2018)   \n",
       "209169                  A Girl Thing (2001)   \n",
       "209171       Women of Devil's Island (1962)   \n",
       "\n",
       "                                              genres  \n",
       "movieId                                               \n",
       "1        Adventure|Animation|Children|Comedy|Fantasy  \n",
       "2                         Adventure|Children|Fantasy  \n",
       "3                                     Comedy|Romance  \n",
       "4                               Comedy|Drama|Romance  \n",
       "5                                             Comedy  \n",
       "...                                              ...  \n",
       "209157                                         Drama  \n",
       "209159                                   Documentary  \n",
       "209163                                  Comedy|Drama  \n",
       "209169                            (no genres listed)  \n",
       "209171                        Action|Adventure|Drama  \n",
       "\n",
       "[62423 rows x 2 columns]"
      ],
      "text/html": "<div>\n<style scoped>\n    .dataframe tbody tr th:only-of-type {\n        vertical-align: middle;\n    }\n\n    .dataframe tbody tr th {\n        vertical-align: top;\n    }\n\n    .dataframe thead th {\n        text-align: right;\n    }\n</style>\n<table border=\"1\" class=\"dataframe\">\n  <thead>\n    <tr style=\"text-align: right;\">\n      <th></th>\n      <th>title</th>\n      <th>genres</th>\n    </tr>\n    <tr>\n      <th>movieId</th>\n      <th></th>\n      <th></th>\n    </tr>\n  </thead>\n  <tbody>\n    <tr>\n      <th>1</th>\n      <td>Toy Story (1995)</td>\n      <td>Adventure|Animation|Children|Comedy|Fantasy</td>\n    </tr>\n    <tr>\n      <th>2</th>\n      <td>Jumanji (1995)</td>\n      <td>Adventure|Children|Fantasy</td>\n    </tr>\n    <tr>\n      <th>3</th>\n      <td>Grumpier Old Men (1995)</td>\n      <td>Comedy|Romance</td>\n    </tr>\n    <tr>\n      <th>4</th>\n      <td>Waiting to Exhale (1995)</td>\n      <td>Comedy|Drama|Romance</td>\n    </tr>\n    <tr>\n      <th>5</th>\n      <td>Father of the Bride Part II (1995)</td>\n      <td>Comedy</td>\n    </tr>\n    <tr>\n      <th>...</th>\n      <td>...</td>\n      <td>...</td>\n    </tr>\n    <tr>\n      <th>209157</th>\n      <td>We (2018)</td>\n      <td>Drama</td>\n    </tr>\n    <tr>\n      <th>209159</th>\n      <td>Window of the Soul (2001)</td>\n      <td>Documentary</td>\n    </tr>\n    <tr>\n      <th>209163</th>\n      <td>Bad Poems (2018)</td>\n      <td>Comedy|Drama</td>\n    </tr>\n    <tr>\n      <th>209169</th>\n      <td>A Girl Thing (2001)</td>\n      <td>(no genres listed)</td>\n    </tr>\n    <tr>\n      <th>209171</th>\n      <td>Women of Devil's Island (1962)</td>\n      <td>Action|Adventure|Drama</td>\n    </tr>\n  </tbody>\n</table>\n<p>62423 rows × 2 columns</p>\n</div>"
     },
     "metadata": {},
     "execution_count": 28
    }
   ],
   "source": [
    "movies_df"
   ]
  },
  {
   "cell_type": "code",
   "execution_count": 29,
   "metadata": {},
   "outputs": [
    {
     "output_type": "execute_result",
     "data": {
      "text/plain": [
       "          userId  movieId  rating\n",
       "0              1      296     5.0\n",
       "1              1      306     3.5\n",
       "2              1      307     5.0\n",
       "3              1      665     5.0\n",
       "4              1      899     3.5\n",
       "...          ...      ...     ...\n",
       "25000090  162541    50872     4.5\n",
       "25000091  162541    55768     2.5\n",
       "25000092  162541    56176     2.0\n",
       "25000093  162541    58559     4.0\n",
       "25000094  162541    63876     5.0\n",
       "\n",
       "[25000095 rows x 3 columns]"
      ],
      "text/html": "<div>\n<style scoped>\n    .dataframe tbody tr th:only-of-type {\n        vertical-align: middle;\n    }\n\n    .dataframe tbody tr th {\n        vertical-align: top;\n    }\n\n    .dataframe thead th {\n        text-align: right;\n    }\n</style>\n<table border=\"1\" class=\"dataframe\">\n  <thead>\n    <tr style=\"text-align: right;\">\n      <th></th>\n      <th>userId</th>\n      <th>movieId</th>\n      <th>rating</th>\n    </tr>\n  </thead>\n  <tbody>\n    <tr>\n      <th>0</th>\n      <td>1</td>\n      <td>296</td>\n      <td>5.0</td>\n    </tr>\n    <tr>\n      <th>1</th>\n      <td>1</td>\n      <td>306</td>\n      <td>3.5</td>\n    </tr>\n    <tr>\n      <th>2</th>\n      <td>1</td>\n      <td>307</td>\n      <td>5.0</td>\n    </tr>\n    <tr>\n      <th>3</th>\n      <td>1</td>\n      <td>665</td>\n      <td>5.0</td>\n    </tr>\n    <tr>\n      <th>4</th>\n      <td>1</td>\n      <td>899</td>\n      <td>3.5</td>\n    </tr>\n    <tr>\n      <th>...</th>\n      <td>...</td>\n      <td>...</td>\n      <td>...</td>\n    </tr>\n    <tr>\n      <th>25000090</th>\n      <td>162541</td>\n      <td>50872</td>\n      <td>4.5</td>\n    </tr>\n    <tr>\n      <th>25000091</th>\n      <td>162541</td>\n      <td>55768</td>\n      <td>2.5</td>\n    </tr>\n    <tr>\n      <th>25000092</th>\n      <td>162541</td>\n      <td>56176</td>\n      <td>2.0</td>\n    </tr>\n    <tr>\n      <th>25000093</th>\n      <td>162541</td>\n      <td>58559</td>\n      <td>4.0</td>\n    </tr>\n    <tr>\n      <th>25000094</th>\n      <td>162541</td>\n      <td>63876</td>\n      <td>5.0</td>\n    </tr>\n  </tbody>\n</table>\n<p>25000095 rows × 3 columns</p>\n</div>"
     },
     "metadata": {},
     "execution_count": 29
    }
   ],
   "source": [
    "ratings_df = ratings_df.drop(\"timestamp\", axis=1)\n",
    "ratings_df"
   ]
  },
  {
   "cell_type": "code",
   "execution_count": 30,
   "metadata": {
    "tags": []
   },
   "outputs": [
    {
     "output_type": "stream",
     "name": "stdout",
     "text": [
      "32720\n"
     ]
    }
   ],
   "source": [
    "def add_valid_movies(row):\n",
    "    if row[\"counts\"] >= 5:\n",
    "        movieIds.add(row[\"movieId\"])\n",
    "\n",
    "movieIds = set()\n",
    "movie_rating_counts = ratings_df[\"movieId\"].value_counts().rename_axis('movieId').reset_index(name='counts')\n",
    "movie_rating_counts.apply(add_valid_movies, axis=1)\n",
    "print(len(movieIds))"
   ]
  },
  {
   "cell_type": "code",
   "execution_count": 31,
   "metadata": {},
   "outputs": [
    {
     "output_type": "execute_result",
     "data": {
      "text/plain": [
       "                                      title  \\\n",
       "movieId                                       \n",
       "1                          Toy Story (1995)   \n",
       "2                            Jumanji (1995)   \n",
       "3                   Grumpier Old Men (1995)   \n",
       "4                  Waiting to Exhale (1995)   \n",
       "5        Father of the Bride Part II (1995)   \n",
       "...                                     ...   \n",
       "208385           Holiday in the Wild (2019)   \n",
       "208715                   Let It Snow (2019)   \n",
       "208737                        Midway (2019)   \n",
       "208747                 The Good Liar (2019)   \n",
       "208939                         Klaus (2019)   \n",
       "\n",
       "                                              genres  \n",
       "movieId                                               \n",
       "1        Adventure|Animation|Children|Comedy|Fantasy  \n",
       "2                         Adventure|Children|Fantasy  \n",
       "3                                     Comedy|Romance  \n",
       "4                               Comedy|Drama|Romance  \n",
       "5                                             Comedy  \n",
       "...                                              ...  \n",
       "208385                                 Drama|Romance  \n",
       "208715                                Comedy|Romance  \n",
       "208737                              Action|Drama|War  \n",
       "208747                                 Drama|Mystery  \n",
       "208939           Adventure|Animation|Children|Comedy  \n",
       "\n",
       "[32720 rows x 2 columns]"
      ],
      "text/html": "<div>\n<style scoped>\n    .dataframe tbody tr th:only-of-type {\n        vertical-align: middle;\n    }\n\n    .dataframe tbody tr th {\n        vertical-align: top;\n    }\n\n    .dataframe thead th {\n        text-align: right;\n    }\n</style>\n<table border=\"1\" class=\"dataframe\">\n  <thead>\n    <tr style=\"text-align: right;\">\n      <th></th>\n      <th>title</th>\n      <th>genres</th>\n    </tr>\n    <tr>\n      <th>movieId</th>\n      <th></th>\n      <th></th>\n    </tr>\n  </thead>\n  <tbody>\n    <tr>\n      <th>1</th>\n      <td>Toy Story (1995)</td>\n      <td>Adventure|Animation|Children|Comedy|Fantasy</td>\n    </tr>\n    <tr>\n      <th>2</th>\n      <td>Jumanji (1995)</td>\n      <td>Adventure|Children|Fantasy</td>\n    </tr>\n    <tr>\n      <th>3</th>\n      <td>Grumpier Old Men (1995)</td>\n      <td>Comedy|Romance</td>\n    </tr>\n    <tr>\n      <th>4</th>\n      <td>Waiting to Exhale (1995)</td>\n      <td>Comedy|Drama|Romance</td>\n    </tr>\n    <tr>\n      <th>5</th>\n      <td>Father of the Bride Part II (1995)</td>\n      <td>Comedy</td>\n    </tr>\n    <tr>\n      <th>...</th>\n      <td>...</td>\n      <td>...</td>\n    </tr>\n    <tr>\n      <th>208385</th>\n      <td>Holiday in the Wild (2019)</td>\n      <td>Drama|Romance</td>\n    </tr>\n    <tr>\n      <th>208715</th>\n      <td>Let It Snow (2019)</td>\n      <td>Comedy|Romance</td>\n    </tr>\n    <tr>\n      <th>208737</th>\n      <td>Midway (2019)</td>\n      <td>Action|Drama|War</td>\n    </tr>\n    <tr>\n      <th>208747</th>\n      <td>The Good Liar (2019)</td>\n      <td>Drama|Mystery</td>\n    </tr>\n    <tr>\n      <th>208939</th>\n      <td>Klaus (2019)</td>\n      <td>Adventure|Animation|Children|Comedy</td>\n    </tr>\n  </tbody>\n</table>\n<p>32720 rows × 2 columns</p>\n</div>"
     },
     "metadata": {},
     "execution_count": 31
    }
   ],
   "source": [
    "movies_df = movies_df[movies_df.index.map(lambda id: id in movieIds)]\n",
    "movies_df"
   ]
  },
  {
   "cell_type": "code",
   "execution_count": 32,
   "id": "66a739a7",
   "metadata": {},
   "outputs": [],
   "source": [
    "genres_list = []\n",
    "for index, row in movies_df.iterrows():\n",
    "    try:\n",
    "        genres = row['genres'].split(\"|\")\n",
    "        genres_list.extend(genres)\n",
    "    except:\n",
    "        genres_list.append(row[\"genres\"])\n",
    "\n",
    "genres_list = list(set(genres_list))"
   ]
  },
  {
   "cell_type": "code",
   "execution_count": 33,
   "id": "97ded9d3",
   "metadata": {},
   "outputs": [
    {
     "output_type": "stream",
     "name": "stdout",
     "text": [
      "Adventure\nFantasy\nDrama\nChildren\nComedy\nSci-Fi\nFilm-Noir\nHorror\nWar\nAnimation\nWestern\nRomance\nCrime\nMusical\nMystery\nThriller\nAction\nDocumentary\n18\n"
     ]
    }
   ],
   "source": [
    "genres_list.remove(\"IMAX\")\n",
    "repl_idx = genres_list.remove(\"(no genres listed)\")\n",
    "for genre in genres_list: \n",
    "    print(genre)\n",
    "print(len(genres_list))"
   ]
  },
  {
   "cell_type": "code",
   "execution_count": 34,
   "id": "47387a75",
   "metadata": {},
   "outputs": [
    {
     "output_type": "execute_result",
     "data": {
      "text/plain": [
       "                                      title  \\\n",
       "movieId                                       \n",
       "1                          Toy Story (1995)   \n",
       "2                            Jumanji (1995)   \n",
       "3                   Grumpier Old Men (1995)   \n",
       "4                  Waiting to Exhale (1995)   \n",
       "5        Father of the Bride Part II (1995)   \n",
       "...                                     ...   \n",
       "208385           Holiday in the Wild (2019)   \n",
       "208715                   Let It Snow (2019)   \n",
       "208737                        Midway (2019)   \n",
       "208747                 The Good Liar (2019)   \n",
       "208939                         Klaus (2019)   \n",
       "\n",
       "                                              genres  Adventure  Fantasy  \\\n",
       "movieId                                                                    \n",
       "1        Adventure|Animation|Children|Comedy|Fantasy          1        1   \n",
       "2                         Adventure|Children|Fantasy          1        1   \n",
       "3                                     Comedy|Romance          0        0   \n",
       "4                               Comedy|Drama|Romance          0        0   \n",
       "5                                             Comedy          0        0   \n",
       "...                                              ...        ...      ...   \n",
       "208385                                 Drama|Romance          0        0   \n",
       "208715                                Comedy|Romance          0        0   \n",
       "208737                              Action|Drama|War          0        0   \n",
       "208747                                 Drama|Mystery          0        0   \n",
       "208939           Adventure|Animation|Children|Comedy          1        0   \n",
       "\n",
       "         Drama  Children  Comedy  Sci-Fi  Film-Noir  Horror  War  Animation  \\\n",
       "movieId                                                                       \n",
       "1            0         1       1       0          0       0    0          1   \n",
       "2            0         1       0       0          0       0    0          0   \n",
       "3            0         0       1       0          0       0    0          0   \n",
       "4            1         0       1       0          0       0    0          0   \n",
       "5            0         0       1       0          0       0    0          0   \n",
       "...        ...       ...     ...     ...        ...     ...  ...        ...   \n",
       "208385       1         0       0       0          0       0    0          0   \n",
       "208715       0         0       1       0          0       0    0          0   \n",
       "208737       1         0       0       0          0       0    1          0   \n",
       "208747       1         0       0       0          0       0    0          0   \n",
       "208939       0         1       1       0          0       0    0          1   \n",
       "\n",
       "         Western  Romance  Crime  Musical  Mystery  Thriller  Action  \\\n",
       "movieId                                                                \n",
       "1              0        0      0        0        0         0       0   \n",
       "2              0        0      0        0        0         0       0   \n",
       "3              0        1      0        0        0         0       0   \n",
       "4              0        1      0        0        0         0       0   \n",
       "5              0        0      0        0        0         0       0   \n",
       "...          ...      ...    ...      ...      ...       ...     ...   \n",
       "208385         0        1      0        0        0         0       0   \n",
       "208715         0        1      0        0        0         0       0   \n",
       "208737         0        0      0        0        0         0       1   \n",
       "208747         0        0      0        0        1         0       0   \n",
       "208939         0        0      0        0        0         0       0   \n",
       "\n",
       "         Documentary  \n",
       "movieId               \n",
       "1                  0  \n",
       "2                  0  \n",
       "3                  0  \n",
       "4                  0  \n",
       "5                  0  \n",
       "...              ...  \n",
       "208385             0  \n",
       "208715             0  \n",
       "208737             0  \n",
       "208747             0  \n",
       "208939             0  \n",
       "\n",
       "[32720 rows x 20 columns]"
      ],
      "text/html": "<div>\n<style scoped>\n    .dataframe tbody tr th:only-of-type {\n        vertical-align: middle;\n    }\n\n    .dataframe tbody tr th {\n        vertical-align: top;\n    }\n\n    .dataframe thead th {\n        text-align: right;\n    }\n</style>\n<table border=\"1\" class=\"dataframe\">\n  <thead>\n    <tr style=\"text-align: right;\">\n      <th></th>\n      <th>title</th>\n      <th>genres</th>\n      <th>Adventure</th>\n      <th>Fantasy</th>\n      <th>Drama</th>\n      <th>Children</th>\n      <th>Comedy</th>\n      <th>Sci-Fi</th>\n      <th>Film-Noir</th>\n      <th>Horror</th>\n      <th>War</th>\n      <th>Animation</th>\n      <th>Western</th>\n      <th>Romance</th>\n      <th>Crime</th>\n      <th>Musical</th>\n      <th>Mystery</th>\n      <th>Thriller</th>\n      <th>Action</th>\n      <th>Documentary</th>\n    </tr>\n    <tr>\n      <th>movieId</th>\n      <th></th>\n      <th></th>\n      <th></th>\n      <th></th>\n      <th></th>\n      <th></th>\n      <th></th>\n      <th></th>\n      <th></th>\n      <th></th>\n      <th></th>\n      <th></th>\n      <th></th>\n      <th></th>\n      <th></th>\n      <th></th>\n      <th></th>\n      <th></th>\n      <th></th>\n      <th></th>\n    </tr>\n  </thead>\n  <tbody>\n    <tr>\n      <th>1</th>\n      <td>Toy Story (1995)</td>\n      <td>Adventure|Animation|Children|Comedy|Fantasy</td>\n      <td>1</td>\n      <td>1</td>\n      <td>0</td>\n      <td>1</td>\n      <td>1</td>\n      <td>0</td>\n      <td>0</td>\n      <td>0</td>\n      <td>0</td>\n      <td>1</td>\n      <td>0</td>\n      <td>0</td>\n      <td>0</td>\n      <td>0</td>\n      <td>0</td>\n      <td>0</td>\n      <td>0</td>\n      <td>0</td>\n    </tr>\n    <tr>\n      <th>2</th>\n      <td>Jumanji (1995)</td>\n      <td>Adventure|Children|Fantasy</td>\n      <td>1</td>\n      <td>1</td>\n      <td>0</td>\n      <td>1</td>\n      <td>0</td>\n      <td>0</td>\n      <td>0</td>\n      <td>0</td>\n      <td>0</td>\n      <td>0</td>\n      <td>0</td>\n      <td>0</td>\n      <td>0</td>\n      <td>0</td>\n      <td>0</td>\n      <td>0</td>\n      <td>0</td>\n      <td>0</td>\n    </tr>\n    <tr>\n      <th>3</th>\n      <td>Grumpier Old Men (1995)</td>\n      <td>Comedy|Romance</td>\n      <td>0</td>\n      <td>0</td>\n      <td>0</td>\n      <td>0</td>\n      <td>1</td>\n      <td>0</td>\n      <td>0</td>\n      <td>0</td>\n      <td>0</td>\n      <td>0</td>\n      <td>0</td>\n      <td>1</td>\n      <td>0</td>\n      <td>0</td>\n      <td>0</td>\n      <td>0</td>\n      <td>0</td>\n      <td>0</td>\n    </tr>\n    <tr>\n      <th>4</th>\n      <td>Waiting to Exhale (1995)</td>\n      <td>Comedy|Drama|Romance</td>\n      <td>0</td>\n      <td>0</td>\n      <td>1</td>\n      <td>0</td>\n      <td>1</td>\n      <td>0</td>\n      <td>0</td>\n      <td>0</td>\n      <td>0</td>\n      <td>0</td>\n      <td>0</td>\n      <td>1</td>\n      <td>0</td>\n      <td>0</td>\n      <td>0</td>\n      <td>0</td>\n      <td>0</td>\n      <td>0</td>\n    </tr>\n    <tr>\n      <th>5</th>\n      <td>Father of the Bride Part II (1995)</td>\n      <td>Comedy</td>\n      <td>0</td>\n      <td>0</td>\n      <td>0</td>\n      <td>0</td>\n      <td>1</td>\n      <td>0</td>\n      <td>0</td>\n      <td>0</td>\n      <td>0</td>\n      <td>0</td>\n      <td>0</td>\n      <td>0</td>\n      <td>0</td>\n      <td>0</td>\n      <td>0</td>\n      <td>0</td>\n      <td>0</td>\n      <td>0</td>\n    </tr>\n    <tr>\n      <th>...</th>\n      <td>...</td>\n      <td>...</td>\n      <td>...</td>\n      <td>...</td>\n      <td>...</td>\n      <td>...</td>\n      <td>...</td>\n      <td>...</td>\n      <td>...</td>\n      <td>...</td>\n      <td>...</td>\n      <td>...</td>\n      <td>...</td>\n      <td>...</td>\n      <td>...</td>\n      <td>...</td>\n      <td>...</td>\n      <td>...</td>\n      <td>...</td>\n      <td>...</td>\n    </tr>\n    <tr>\n      <th>208385</th>\n      <td>Holiday in the Wild (2019)</td>\n      <td>Drama|Romance</td>\n      <td>0</td>\n      <td>0</td>\n      <td>1</td>\n      <td>0</td>\n      <td>0</td>\n      <td>0</td>\n      <td>0</td>\n      <td>0</td>\n      <td>0</td>\n      <td>0</td>\n      <td>0</td>\n      <td>1</td>\n      <td>0</td>\n      <td>0</td>\n      <td>0</td>\n      <td>0</td>\n      <td>0</td>\n      <td>0</td>\n    </tr>\n    <tr>\n      <th>208715</th>\n      <td>Let It Snow (2019)</td>\n      <td>Comedy|Romance</td>\n      <td>0</td>\n      <td>0</td>\n      <td>0</td>\n      <td>0</td>\n      <td>1</td>\n      <td>0</td>\n      <td>0</td>\n      <td>0</td>\n      <td>0</td>\n      <td>0</td>\n      <td>0</td>\n      <td>1</td>\n      <td>0</td>\n      <td>0</td>\n      <td>0</td>\n      <td>0</td>\n      <td>0</td>\n      <td>0</td>\n    </tr>\n    <tr>\n      <th>208737</th>\n      <td>Midway (2019)</td>\n      <td>Action|Drama|War</td>\n      <td>0</td>\n      <td>0</td>\n      <td>1</td>\n      <td>0</td>\n      <td>0</td>\n      <td>0</td>\n      <td>0</td>\n      <td>0</td>\n      <td>1</td>\n      <td>0</td>\n      <td>0</td>\n      <td>0</td>\n      <td>0</td>\n      <td>0</td>\n      <td>0</td>\n      <td>0</td>\n      <td>1</td>\n      <td>0</td>\n    </tr>\n    <tr>\n      <th>208747</th>\n      <td>The Good Liar (2019)</td>\n      <td>Drama|Mystery</td>\n      <td>0</td>\n      <td>0</td>\n      <td>1</td>\n      <td>0</td>\n      <td>0</td>\n      <td>0</td>\n      <td>0</td>\n      <td>0</td>\n      <td>0</td>\n      <td>0</td>\n      <td>0</td>\n      <td>0</td>\n      <td>0</td>\n      <td>0</td>\n      <td>1</td>\n      <td>0</td>\n      <td>0</td>\n      <td>0</td>\n    </tr>\n    <tr>\n      <th>208939</th>\n      <td>Klaus (2019)</td>\n      <td>Adventure|Animation|Children|Comedy</td>\n      <td>1</td>\n      <td>0</td>\n      <td>0</td>\n      <td>1</td>\n      <td>1</td>\n      <td>0</td>\n      <td>0</td>\n      <td>0</td>\n      <td>0</td>\n      <td>1</td>\n      <td>0</td>\n      <td>0</td>\n      <td>0</td>\n      <td>0</td>\n      <td>0</td>\n      <td>0</td>\n      <td>0</td>\n      <td>0</td>\n    </tr>\n  </tbody>\n</table>\n<p>32720 rows × 20 columns</p>\n</div>"
     },
     "metadata": {},
     "execution_count": 34
    }
   ],
   "source": [
    "movies_df1 = movies_df.copy()\n",
    "for genre in genres_list:\n",
    "    movies_df1[genre] = movies_df1[\"genres\"].map(lambda o: 1 if genre in str(o) else 0)\n",
    "movies_df1"
   ]
  },
  {
   "cell_type": "code",
   "execution_count": 35,
   "id": "dc5e68b3",
   "metadata": {},
   "outputs": [
    {
     "output_type": "execute_result",
     "data": {
      "text/plain": [
       "                                      title  \\\n",
       "movieId                                       \n",
       "1                          Toy Story (1995)   \n",
       "2                            Jumanji (1995)   \n",
       "3                   Grumpier Old Men (1995)   \n",
       "4                  Waiting to Exhale (1995)   \n",
       "5        Father of the Bride Part II (1995)   \n",
       "...                                     ...   \n",
       "208385           Holiday in the Wild (2019)   \n",
       "208715                   Let It Snow (2019)   \n",
       "208737                        Midway (2019)   \n",
       "208747                 The Good Liar (2019)   \n",
       "208939                         Klaus (2019)   \n",
       "\n",
       "                                              genres  \n",
       "movieId                                               \n",
       "1        Adventure|Animation|Children|Comedy|Fantasy  \n",
       "2                         Adventure|Children|Fantasy  \n",
       "3                                     Comedy|Romance  \n",
       "4                               Comedy|Drama|Romance  \n",
       "5                                             Comedy  \n",
       "...                                              ...  \n",
       "208385                                 Drama|Romance  \n",
       "208715                                Comedy|Romance  \n",
       "208737                              Action|Drama|War  \n",
       "208747                                 Drama|Mystery  \n",
       "208939           Adventure|Animation|Children|Comedy  \n",
       "\n",
       "[32720 rows x 2 columns]"
      ],
      "text/html": "<div>\n<style scoped>\n    .dataframe tbody tr th:only-of-type {\n        vertical-align: middle;\n    }\n\n    .dataframe tbody tr th {\n        vertical-align: top;\n    }\n\n    .dataframe thead th {\n        text-align: right;\n    }\n</style>\n<table border=\"1\" class=\"dataframe\">\n  <thead>\n    <tr style=\"text-align: right;\">\n      <th></th>\n      <th>title</th>\n      <th>genres</th>\n    </tr>\n    <tr>\n      <th>movieId</th>\n      <th></th>\n      <th></th>\n    </tr>\n  </thead>\n  <tbody>\n    <tr>\n      <th>1</th>\n      <td>Toy Story (1995)</td>\n      <td>Adventure|Animation|Children|Comedy|Fantasy</td>\n    </tr>\n    <tr>\n      <th>2</th>\n      <td>Jumanji (1995)</td>\n      <td>Adventure|Children|Fantasy</td>\n    </tr>\n    <tr>\n      <th>3</th>\n      <td>Grumpier Old Men (1995)</td>\n      <td>Comedy|Romance</td>\n    </tr>\n    <tr>\n      <th>4</th>\n      <td>Waiting to Exhale (1995)</td>\n      <td>Comedy|Drama|Romance</td>\n    </tr>\n    <tr>\n      <th>5</th>\n      <td>Father of the Bride Part II (1995)</td>\n      <td>Comedy</td>\n    </tr>\n    <tr>\n      <th>...</th>\n      <td>...</td>\n      <td>...</td>\n    </tr>\n    <tr>\n      <th>208385</th>\n      <td>Holiday in the Wild (2019)</td>\n      <td>Drama|Romance</td>\n    </tr>\n    <tr>\n      <th>208715</th>\n      <td>Let It Snow (2019)</td>\n      <td>Comedy|Romance</td>\n    </tr>\n    <tr>\n      <th>208737</th>\n      <td>Midway (2019)</td>\n      <td>Action|Drama|War</td>\n    </tr>\n    <tr>\n      <th>208747</th>\n      <td>The Good Liar (2019)</td>\n      <td>Drama|Mystery</td>\n    </tr>\n    <tr>\n      <th>208939</th>\n      <td>Klaus (2019)</td>\n      <td>Adventure|Animation|Children|Comedy</td>\n    </tr>\n  </tbody>\n</table>\n<p>32720 rows × 2 columns</p>\n</div>"
     },
     "metadata": {},
     "execution_count": 35
    }
   ],
   "source": [
    "movies_df"
   ]
  },
  {
   "cell_type": "code",
   "execution_count": 36,
   "metadata": {},
   "outputs": [],
   "source": [
    "tags_df = tags_df[tags_df[\"movieId\"].map(lambda id: id in movieIds)]"
   ]
  },
  {
   "cell_type": "code",
   "execution_count": 38,
   "id": "fe6ba554",
   "metadata": {},
   "outputs": [
    {
     "output_type": "execute_result",
     "data": {
      "text/plain": [
       "                      sum\n",
       "tag                      \n",
       " alexander skarsgård    1\n",
       " ballet school          1\n",
       " breakup                1\n",
       " filmes antigos         2\n",
       " filmes antigos         2\n",
       "...                   ...\n",
       "淘金记 莫声版                 1\n",
       "独闯龙潭                    1\n",
       "臥底                      1\n",
       "魔鬼司令                    1\n",
       "카운트다운                   1\n",
       "\n",
       "[61464 rows x 1 columns]"
      ],
      "text/html": "<div>\n<style scoped>\n    .dataframe tbody tr th:only-of-type {\n        vertical-align: middle;\n    }\n\n    .dataframe tbody tr th {\n        vertical-align: top;\n    }\n\n    .dataframe thead th {\n        text-align: right;\n    }\n</style>\n<table border=\"1\" class=\"dataframe\">\n  <thead>\n    <tr style=\"text-align: right;\">\n      <th></th>\n      <th>sum</th>\n    </tr>\n    <tr>\n      <th>tag</th>\n      <th></th>\n    </tr>\n  </thead>\n  <tbody>\n    <tr>\n      <th>alexander skarsgård</th>\n      <td>1</td>\n    </tr>\n    <tr>\n      <th>ballet school</th>\n      <td>1</td>\n    </tr>\n    <tr>\n      <th>breakup</th>\n      <td>1</td>\n    </tr>\n    <tr>\n      <th>filmes antigos</th>\n      <td>2</td>\n    </tr>\n    <tr>\n      <th>filmes antigos</th>\n      <td>2</td>\n    </tr>\n    <tr>\n      <th>...</th>\n      <td>...</td>\n    </tr>\n    <tr>\n      <th>淘金记 莫声版</th>\n      <td>1</td>\n    </tr>\n    <tr>\n      <th>独闯龙潭</th>\n      <td>1</td>\n    </tr>\n    <tr>\n      <th>臥底</th>\n      <td>1</td>\n    </tr>\n    <tr>\n      <th>魔鬼司令</th>\n      <td>1</td>\n    </tr>\n    <tr>\n      <th>카운트다운</th>\n      <td>1</td>\n    </tr>\n  </tbody>\n</table>\n<p>61464 rows × 1 columns</p>\n</div>"
     },
     "metadata": {},
     "execution_count": 38
    }
   ],
   "source": [
    "tags_df[\"tag\"] = tags_df[\"tag\"].map(lambda t: str(t).lower()) #all tags to small letters\n",
    "tag_counts = tags_df[\"tag\"].value_counts().rename_axis('tag').reset_index(name='counts')\n",
    "tag_counts = tag_counts.groupby(\"tag\").counts.agg([sum]) #merge duplicates\n",
    "tag_counts"
   ]
  },
  {
   "cell_type": "code",
   "execution_count": 39,
   "id": "9ca27f08",
   "metadata": {},
   "outputs": [
    {
     "output_type": "execute_result",
     "data": {
      "text/plain": [
       "                  tag   sum\n",
       "0              sci-fi  8762\n",
       "1         atmospheric  7041\n",
       "2              action  6703\n",
       "3              comedy  6188\n",
       "4             surreal  5540\n",
       "...               ...   ...\n",
       "5488   women's rights    20\n",
       "5489  writers at work    20\n",
       "5490   yahoo top pick    20\n",
       "5491        young boy    20\n",
       "5492      yul brynner    20\n",
       "\n",
       "[5493 rows x 2 columns]"
      ],
      "text/html": "<div>\n<style scoped>\n    .dataframe tbody tr th:only-of-type {\n        vertical-align: middle;\n    }\n\n    .dataframe tbody tr th {\n        vertical-align: top;\n    }\n\n    .dataframe thead th {\n        text-align: right;\n    }\n</style>\n<table border=\"1\" class=\"dataframe\">\n  <thead>\n    <tr style=\"text-align: right;\">\n      <th></th>\n      <th>tag</th>\n      <th>sum</th>\n    </tr>\n  </thead>\n  <tbody>\n    <tr>\n      <th>0</th>\n      <td>sci-fi</td>\n      <td>8762</td>\n    </tr>\n    <tr>\n      <th>1</th>\n      <td>atmospheric</td>\n      <td>7041</td>\n    </tr>\n    <tr>\n      <th>2</th>\n      <td>action</td>\n      <td>6703</td>\n    </tr>\n    <tr>\n      <th>3</th>\n      <td>comedy</td>\n      <td>6188</td>\n    </tr>\n    <tr>\n      <th>4</th>\n      <td>surreal</td>\n      <td>5540</td>\n    </tr>\n    <tr>\n      <th>...</th>\n      <td>...</td>\n      <td>...</td>\n    </tr>\n    <tr>\n      <th>5488</th>\n      <td>women's rights</td>\n      <td>20</td>\n    </tr>\n    <tr>\n      <th>5489</th>\n      <td>writers at work</td>\n      <td>20</td>\n    </tr>\n    <tr>\n      <th>5490</th>\n      <td>yahoo top pick</td>\n      <td>20</td>\n    </tr>\n    <tr>\n      <th>5491</th>\n      <td>young boy</td>\n      <td>20</td>\n    </tr>\n    <tr>\n      <th>5492</th>\n      <td>yul brynner</td>\n      <td>20</td>\n    </tr>\n  </tbody>\n</table>\n<p>5493 rows × 2 columns</p>\n</div>"
     },
     "metadata": {},
     "execution_count": 39
    }
   ],
   "source": [
    "tag_counts = tag_counts[tag_counts[\"sum\"] >= 20]\n",
    "tag_counts = tag_counts.sort_values([\"sum\",\"tag\"], ascending=[False,True]).reset_index()\n",
    "tag_counts"
   ]
  },
  {
   "cell_type": "code",
   "execution_count": 40,
   "id": "c88b4f7a",
   "metadata": {},
   "outputs": [
    {
     "output_type": "execute_result",
     "data": {
      "text/plain": [
       "0       None\n",
       "1       None\n",
       "2       None\n",
       "3       None\n",
       "4       None\n",
       "        ... \n",
       "5488    None\n",
       "5489    None\n",
       "5490    None\n",
       "5491    None\n",
       "5492    None\n",
       "Name: tag, Length: 5493, dtype: object"
      ]
     },
     "metadata": {},
     "execution_count": 40
    }
   ],
   "source": [
    "init_tag = np.zeros(len(movies_df))\n",
    "movies_df2 = movies_df.copy()\n",
    "\n",
    "def add_tags_as_features(tag):\n",
    "    relevant_tags.add(tag)\n",
    "    movies_df2[tag] = init_tag\n",
    "    \n",
    "relevant_tags = set()\n",
    "tag_counts[\"tag\"].apply(add_tags_as_features)\n",
    "    "
   ]
  },
  {
   "cell_type": "code",
   "execution_count": 41,
   "id": "28ecfcb4",
   "metadata": {},
   "outputs": [
    {
     "output_type": "execute_result",
     "data": {
      "text/plain": [
       "         sci-fi  atmospheric  action  comedy  surreal  funny  based on a book  \\\n",
       "movieId                                                                         \n",
       "1           0.0          0.0     0.0     0.0      0.0    0.0              0.0   \n",
       "2           0.0          0.0     0.0     0.0      0.0    0.0              0.0   \n",
       "3           0.0          0.0     0.0     0.0      0.0    0.0              0.0   \n",
       "4           0.0          0.0     0.0     0.0      0.0    0.0              0.0   \n",
       "5           0.0          0.0     0.0     0.0      0.0    0.0              0.0   \n",
       "...         ...          ...     ...     ...      ...    ...              ...   \n",
       "208385      0.0          0.0     0.0     0.0      0.0    0.0              0.0   \n",
       "208715      0.0          0.0     0.0     0.0      0.0    0.0              0.0   \n",
       "208737      0.0          0.0     0.0     0.0      0.0    0.0              0.0   \n",
       "208747      0.0          0.0     0.0     0.0      0.0    0.0              0.0   \n",
       "208939      0.0          0.0     0.0     0.0      0.0    0.0              0.0   \n",
       "\n",
       "         twist ending  visually appealing  dystopia  ...  watch-again  \\\n",
       "movieId                                              ...                \n",
       "1                 0.0                 0.0       0.0  ...          0.0   \n",
       "2                 0.0                 0.0       0.0  ...          0.0   \n",
       "3                 0.0                 0.0       0.0  ...          0.0   \n",
       "4                 0.0                 0.0       0.0  ...          0.0   \n",
       "5                 0.0                 0.0       0.0  ...          0.0   \n",
       "...               ...                 ...       ...  ...          ...   \n",
       "208385            0.0                 0.0       0.0  ...          0.0   \n",
       "208715            0.0                 0.0       0.0  ...          0.0   \n",
       "208737            0.0                 0.0       0.0  ...          0.0   \n",
       "208747            0.0                 0.0       0.0  ...          0.0   \n",
       "208939            0.0                 0.0       0.0  ...          0.0   \n",
       "\n",
       "         well-written  whiskey  william friedkin  william holden  \\\n",
       "movieId                                                            \n",
       "1                 0.0      0.0               0.0             0.0   \n",
       "2                 0.0      0.0               0.0             0.0   \n",
       "3                 0.0      0.0               0.0             0.0   \n",
       "4                 0.0      0.0               0.0             0.0   \n",
       "5                 0.0      0.0               0.0             0.0   \n",
       "...               ...      ...               ...             ...   \n",
       "208385            0.0      0.0               0.0             0.0   \n",
       "208715            0.0      0.0               0.0             0.0   \n",
       "208737            0.0      0.0               0.0             0.0   \n",
       "208747            0.0      0.0               0.0             0.0   \n",
       "208939            0.0      0.0               0.0             0.0   \n",
       "\n",
       "         women's rights  writers at work  yahoo top pick  young boy  \\\n",
       "movieId                                                               \n",
       "1                   0.0              0.0             0.0        0.0   \n",
       "2                   0.0              0.0             0.0        0.0   \n",
       "3                   0.0              0.0             0.0        0.0   \n",
       "4                   0.0              0.0             0.0        0.0   \n",
       "5                   0.0              0.0             0.0        0.0   \n",
       "...                 ...              ...             ...        ...   \n",
       "208385              0.0              0.0             0.0        0.0   \n",
       "208715              0.0              0.0             0.0        0.0   \n",
       "208737              0.0              0.0             0.0        0.0   \n",
       "208747              0.0              0.0             0.0        0.0   \n",
       "208939              0.0              0.0             0.0        0.0   \n",
       "\n",
       "         yul brynner  \n",
       "movieId               \n",
       "1                0.0  \n",
       "2                0.0  \n",
       "3                0.0  \n",
       "4                0.0  \n",
       "5                0.0  \n",
       "...              ...  \n",
       "208385           0.0  \n",
       "208715           0.0  \n",
       "208737           0.0  \n",
       "208747           0.0  \n",
       "208939           0.0  \n",
       "\n",
       "[32720 rows x 5493 columns]"
      ],
      "text/html": "<div>\n<style scoped>\n    .dataframe tbody tr th:only-of-type {\n        vertical-align: middle;\n    }\n\n    .dataframe tbody tr th {\n        vertical-align: top;\n    }\n\n    .dataframe thead th {\n        text-align: right;\n    }\n</style>\n<table border=\"1\" class=\"dataframe\">\n  <thead>\n    <tr style=\"text-align: right;\">\n      <th></th>\n      <th>sci-fi</th>\n      <th>atmospheric</th>\n      <th>action</th>\n      <th>comedy</th>\n      <th>surreal</th>\n      <th>funny</th>\n      <th>based on a book</th>\n      <th>twist ending</th>\n      <th>visually appealing</th>\n      <th>dystopia</th>\n      <th>...</th>\n      <th>watch-again</th>\n      <th>well-written</th>\n      <th>whiskey</th>\n      <th>william friedkin</th>\n      <th>william holden</th>\n      <th>women's rights</th>\n      <th>writers at work</th>\n      <th>yahoo top pick</th>\n      <th>young boy</th>\n      <th>yul brynner</th>\n    </tr>\n    <tr>\n      <th>movieId</th>\n      <th></th>\n      <th></th>\n      <th></th>\n      <th></th>\n      <th></th>\n      <th></th>\n      <th></th>\n      <th></th>\n      <th></th>\n      <th></th>\n      <th></th>\n      <th></th>\n      <th></th>\n      <th></th>\n      <th></th>\n      <th></th>\n      <th></th>\n      <th></th>\n      <th></th>\n      <th></th>\n      <th></th>\n    </tr>\n  </thead>\n  <tbody>\n    <tr>\n      <th>1</th>\n      <td>0.0</td>\n      <td>0.0</td>\n      <td>0.0</td>\n      <td>0.0</td>\n      <td>0.0</td>\n      <td>0.0</td>\n      <td>0.0</td>\n      <td>0.0</td>\n      <td>0.0</td>\n      <td>0.0</td>\n      <td>...</td>\n      <td>0.0</td>\n      <td>0.0</td>\n      <td>0.0</td>\n      <td>0.0</td>\n      <td>0.0</td>\n      <td>0.0</td>\n      <td>0.0</td>\n      <td>0.0</td>\n      <td>0.0</td>\n      <td>0.0</td>\n    </tr>\n    <tr>\n      <th>2</th>\n      <td>0.0</td>\n      <td>0.0</td>\n      <td>0.0</td>\n      <td>0.0</td>\n      <td>0.0</td>\n      <td>0.0</td>\n      <td>0.0</td>\n      <td>0.0</td>\n      <td>0.0</td>\n      <td>0.0</td>\n      <td>...</td>\n      <td>0.0</td>\n      <td>0.0</td>\n      <td>0.0</td>\n      <td>0.0</td>\n      <td>0.0</td>\n      <td>0.0</td>\n      <td>0.0</td>\n      <td>0.0</td>\n      <td>0.0</td>\n      <td>0.0</td>\n    </tr>\n    <tr>\n      <th>3</th>\n      <td>0.0</td>\n      <td>0.0</td>\n      <td>0.0</td>\n      <td>0.0</td>\n      <td>0.0</td>\n      <td>0.0</td>\n      <td>0.0</td>\n      <td>0.0</td>\n      <td>0.0</td>\n      <td>0.0</td>\n      <td>...</td>\n      <td>0.0</td>\n      <td>0.0</td>\n      <td>0.0</td>\n      <td>0.0</td>\n      <td>0.0</td>\n      <td>0.0</td>\n      <td>0.0</td>\n      <td>0.0</td>\n      <td>0.0</td>\n      <td>0.0</td>\n    </tr>\n    <tr>\n      <th>4</th>\n      <td>0.0</td>\n      <td>0.0</td>\n      <td>0.0</td>\n      <td>0.0</td>\n      <td>0.0</td>\n      <td>0.0</td>\n      <td>0.0</td>\n      <td>0.0</td>\n      <td>0.0</td>\n      <td>0.0</td>\n      <td>...</td>\n      <td>0.0</td>\n      <td>0.0</td>\n      <td>0.0</td>\n      <td>0.0</td>\n      <td>0.0</td>\n      <td>0.0</td>\n      <td>0.0</td>\n      <td>0.0</td>\n      <td>0.0</td>\n      <td>0.0</td>\n    </tr>\n    <tr>\n      <th>5</th>\n      <td>0.0</td>\n      <td>0.0</td>\n      <td>0.0</td>\n      <td>0.0</td>\n      <td>0.0</td>\n      <td>0.0</td>\n      <td>0.0</td>\n      <td>0.0</td>\n      <td>0.0</td>\n      <td>0.0</td>\n      <td>...</td>\n      <td>0.0</td>\n      <td>0.0</td>\n      <td>0.0</td>\n      <td>0.0</td>\n      <td>0.0</td>\n      <td>0.0</td>\n      <td>0.0</td>\n      <td>0.0</td>\n      <td>0.0</td>\n      <td>0.0</td>\n    </tr>\n    <tr>\n      <th>...</th>\n      <td>...</td>\n      <td>...</td>\n      <td>...</td>\n      <td>...</td>\n      <td>...</td>\n      <td>...</td>\n      <td>...</td>\n      <td>...</td>\n      <td>...</td>\n      <td>...</td>\n      <td>...</td>\n      <td>...</td>\n      <td>...</td>\n      <td>...</td>\n      <td>...</td>\n      <td>...</td>\n      <td>...</td>\n      <td>...</td>\n      <td>...</td>\n      <td>...</td>\n      <td>...</td>\n    </tr>\n    <tr>\n      <th>208385</th>\n      <td>0.0</td>\n      <td>0.0</td>\n      <td>0.0</td>\n      <td>0.0</td>\n      <td>0.0</td>\n      <td>0.0</td>\n      <td>0.0</td>\n      <td>0.0</td>\n      <td>0.0</td>\n      <td>0.0</td>\n      <td>...</td>\n      <td>0.0</td>\n      <td>0.0</td>\n      <td>0.0</td>\n      <td>0.0</td>\n      <td>0.0</td>\n      <td>0.0</td>\n      <td>0.0</td>\n      <td>0.0</td>\n      <td>0.0</td>\n      <td>0.0</td>\n    </tr>\n    <tr>\n      <th>208715</th>\n      <td>0.0</td>\n      <td>0.0</td>\n      <td>0.0</td>\n      <td>0.0</td>\n      <td>0.0</td>\n      <td>0.0</td>\n      <td>0.0</td>\n      <td>0.0</td>\n      <td>0.0</td>\n      <td>0.0</td>\n      <td>...</td>\n      <td>0.0</td>\n      <td>0.0</td>\n      <td>0.0</td>\n      <td>0.0</td>\n      <td>0.0</td>\n      <td>0.0</td>\n      <td>0.0</td>\n      <td>0.0</td>\n      <td>0.0</td>\n      <td>0.0</td>\n    </tr>\n    <tr>\n      <th>208737</th>\n      <td>0.0</td>\n      <td>0.0</td>\n      <td>0.0</td>\n      <td>0.0</td>\n      <td>0.0</td>\n      <td>0.0</td>\n      <td>0.0</td>\n      <td>0.0</td>\n      <td>0.0</td>\n      <td>0.0</td>\n      <td>...</td>\n      <td>0.0</td>\n      <td>0.0</td>\n      <td>0.0</td>\n      <td>0.0</td>\n      <td>0.0</td>\n      <td>0.0</td>\n      <td>0.0</td>\n      <td>0.0</td>\n      <td>0.0</td>\n      <td>0.0</td>\n    </tr>\n    <tr>\n      <th>208747</th>\n      <td>0.0</td>\n      <td>0.0</td>\n      <td>0.0</td>\n      <td>0.0</td>\n      <td>0.0</td>\n      <td>0.0</td>\n      <td>0.0</td>\n      <td>0.0</td>\n      <td>0.0</td>\n      <td>0.0</td>\n      <td>...</td>\n      <td>0.0</td>\n      <td>0.0</td>\n      <td>0.0</td>\n      <td>0.0</td>\n      <td>0.0</td>\n      <td>0.0</td>\n      <td>0.0</td>\n      <td>0.0</td>\n      <td>0.0</td>\n      <td>0.0</td>\n    </tr>\n    <tr>\n      <th>208939</th>\n      <td>0.0</td>\n      <td>0.0</td>\n      <td>0.0</td>\n      <td>0.0</td>\n      <td>0.0</td>\n      <td>0.0</td>\n      <td>0.0</td>\n      <td>0.0</td>\n      <td>0.0</td>\n      <td>0.0</td>\n      <td>...</td>\n      <td>0.0</td>\n      <td>0.0</td>\n      <td>0.0</td>\n      <td>0.0</td>\n      <td>0.0</td>\n      <td>0.0</td>\n      <td>0.0</td>\n      <td>0.0</td>\n      <td>0.0</td>\n      <td>0.0</td>\n    </tr>\n  </tbody>\n</table>\n<p>32720 rows × 5493 columns</p>\n</div>"
     },
     "metadata": {},
     "execution_count": 41
    }
   ],
   "source": [
    "movies_df2 = movies_df2.drop([\"genres\", \"title\"], axis=1)\n",
    "movies_df2"
   ]
  },
  {
   "cell_type": "code",
   "execution_count": 42,
   "id": "61933e58",
   "metadata": {},
   "outputs": [
    {
     "output_type": "execute_result",
     "data": {
      "text/plain": [
       "0          None\n",
       "1          None\n",
       "2          None\n",
       "3          None\n",
       "4          None\n",
       "           ... \n",
       "1093352    None\n",
       "1093353    None\n",
       "1093354    None\n",
       "1093355    None\n",
       "1093356    None\n",
       "Length: 1035024, dtype: object"
      ]
     },
     "metadata": {},
     "execution_count": 42
    }
   ],
   "source": [
    "#around 10 minutes\n",
    "\n",
    "def add_tags_to_movies(row):\n",
    "    tag = row[\"tag\"]\n",
    "    if tag not in relevant_tags:\n",
    "        return\n",
    "    movieId = row[\"movieId\"]\n",
    "    movies_df2.loc[movieId, tag] += 1\n",
    "    \n",
    "tags_df.apply(add_tags_to_movies, axis=1)\n",
    "\n",
    "#for index, row in tags_df.iterrows():\n",
    "#    if index % 10000 == 0:\n",
    "#        print(index/10000)\n",
    "#    tag = row[\"tag\"]\n",
    "#    if tag not in relevant_tags:\n",
    "#        continue\n",
    "#    movieId = row[\"movieId\"]\n",
    "#    movies_df.loc[movieId, tag] += 1"
   ]
  },
  {
   "cell_type": "code",
   "execution_count": 43,
   "id": "370b1366",
   "metadata": {},
   "outputs": [
    {
     "output_type": "execute_result",
     "data": {
      "text/plain": [
       "         sci-fi  atmospheric  action  comedy  surreal  funny  based on a book  \\\n",
       "movieId                                                                         \n",
       "1           1.0          0.0     1.0    20.0      0.0   30.0              0.0   \n",
       "2           0.0          0.0     0.0     0.0      0.0    0.0              2.0   \n",
       "3           0.0          0.0     0.0     0.0      0.0    1.0              0.0   \n",
       "4           0.0          0.0     0.0     0.0      0.0    0.0              0.0   \n",
       "5           0.0          0.0     0.0     1.0      0.0    0.0              0.0   \n",
       "...         ...          ...     ...     ...      ...    ...              ...   \n",
       "208385      0.0          0.0     0.0     0.0      0.0    0.0              0.0   \n",
       "208715      0.0          0.0     0.0     0.0      0.0    0.0              0.0   \n",
       "208737      0.0          0.0     0.0     0.0      0.0    0.0              0.0   \n",
       "208747      0.0          0.0     0.0     0.0      0.0    0.0              0.0   \n",
       "208939      0.0          0.0     0.0     0.0      0.0    0.0              0.0   \n",
       "\n",
       "         twist ending  visually appealing  dystopia  ...  watch-again  \\\n",
       "movieId                                              ...                \n",
       "1                 0.0                 0.0       0.0  ...          0.0   \n",
       "2                 0.0                 0.0       0.0  ...          0.0   \n",
       "3                 0.0                 0.0       0.0  ...          0.0   \n",
       "4                 0.0                 0.0       0.0  ...          0.0   \n",
       "5                 0.0                 0.0       0.0  ...          0.0   \n",
       "...               ...                 ...       ...  ...          ...   \n",
       "208385            0.0                 0.0       0.0  ...          0.0   \n",
       "208715            0.0                 0.0       0.0  ...          0.0   \n",
       "208737            0.0                 0.0       0.0  ...          0.0   \n",
       "208747            0.0                 0.0       0.0  ...          0.0   \n",
       "208939            0.0                 0.0       0.0  ...          0.0   \n",
       "\n",
       "         well-written  whiskey  william friedkin  william holden  \\\n",
       "movieId                                                            \n",
       "1                 0.0      0.0               0.0             0.0   \n",
       "2                 0.0      0.0               0.0             0.0   \n",
       "3                 0.0      0.0               0.0             0.0   \n",
       "4                 0.0      0.0               0.0             0.0   \n",
       "5                 0.0      0.0               0.0             0.0   \n",
       "...               ...      ...               ...             ...   \n",
       "208385            0.0      0.0               0.0             0.0   \n",
       "208715            0.0      0.0               0.0             0.0   \n",
       "208737            0.0      0.0               0.0             0.0   \n",
       "208747            0.0      0.0               0.0             0.0   \n",
       "208939            0.0      0.0               0.0             0.0   \n",
       "\n",
       "         women's rights  writers at work  yahoo top pick  young boy  \\\n",
       "movieId                                                               \n",
       "1                   0.0              0.0             0.0        0.0   \n",
       "2                   0.0              0.0             0.0        0.0   \n",
       "3                   0.0              0.0             0.0        0.0   \n",
       "4                   0.0              0.0             0.0        0.0   \n",
       "5                   0.0              0.0             0.0        0.0   \n",
       "...                 ...              ...             ...        ...   \n",
       "208385              0.0              0.0             0.0        0.0   \n",
       "208715              0.0              0.0             0.0        0.0   \n",
       "208737              0.0              0.0             0.0        0.0   \n",
       "208747              0.0              0.0             0.0        0.0   \n",
       "208939              0.0              0.0             0.0        0.0   \n",
       "\n",
       "         yul brynner  \n",
       "movieId               \n",
       "1                0.0  \n",
       "2                0.0  \n",
       "3                0.0  \n",
       "4                0.0  \n",
       "5                0.0  \n",
       "...              ...  \n",
       "208385           0.0  \n",
       "208715           0.0  \n",
       "208737           0.0  \n",
       "208747           0.0  \n",
       "208939           0.0  \n",
       "\n",
       "[32720 rows x 5493 columns]"
      ],
      "text/html": "<div>\n<style scoped>\n    .dataframe tbody tr th:only-of-type {\n        vertical-align: middle;\n    }\n\n    .dataframe tbody tr th {\n        vertical-align: top;\n    }\n\n    .dataframe thead th {\n        text-align: right;\n    }\n</style>\n<table border=\"1\" class=\"dataframe\">\n  <thead>\n    <tr style=\"text-align: right;\">\n      <th></th>\n      <th>sci-fi</th>\n      <th>atmospheric</th>\n      <th>action</th>\n      <th>comedy</th>\n      <th>surreal</th>\n      <th>funny</th>\n      <th>based on a book</th>\n      <th>twist ending</th>\n      <th>visually appealing</th>\n      <th>dystopia</th>\n      <th>...</th>\n      <th>watch-again</th>\n      <th>well-written</th>\n      <th>whiskey</th>\n      <th>william friedkin</th>\n      <th>william holden</th>\n      <th>women's rights</th>\n      <th>writers at work</th>\n      <th>yahoo top pick</th>\n      <th>young boy</th>\n      <th>yul brynner</th>\n    </tr>\n    <tr>\n      <th>movieId</th>\n      <th></th>\n      <th></th>\n      <th></th>\n      <th></th>\n      <th></th>\n      <th></th>\n      <th></th>\n      <th></th>\n      <th></th>\n      <th></th>\n      <th></th>\n      <th></th>\n      <th></th>\n      <th></th>\n      <th></th>\n      <th></th>\n      <th></th>\n      <th></th>\n      <th></th>\n      <th></th>\n      <th></th>\n    </tr>\n  </thead>\n  <tbody>\n    <tr>\n      <th>1</th>\n      <td>1.0</td>\n      <td>0.0</td>\n      <td>1.0</td>\n      <td>20.0</td>\n      <td>0.0</td>\n      <td>30.0</td>\n      <td>0.0</td>\n      <td>0.0</td>\n      <td>0.0</td>\n      <td>0.0</td>\n      <td>...</td>\n      <td>0.0</td>\n      <td>0.0</td>\n      <td>0.0</td>\n      <td>0.0</td>\n      <td>0.0</td>\n      <td>0.0</td>\n      <td>0.0</td>\n      <td>0.0</td>\n      <td>0.0</td>\n      <td>0.0</td>\n    </tr>\n    <tr>\n      <th>2</th>\n      <td>0.0</td>\n      <td>0.0</td>\n      <td>0.0</td>\n      <td>0.0</td>\n      <td>0.0</td>\n      <td>0.0</td>\n      <td>2.0</td>\n      <td>0.0</td>\n      <td>0.0</td>\n      <td>0.0</td>\n      <td>...</td>\n      <td>0.0</td>\n      <td>0.0</td>\n      <td>0.0</td>\n      <td>0.0</td>\n      <td>0.0</td>\n      <td>0.0</td>\n      <td>0.0</td>\n      <td>0.0</td>\n      <td>0.0</td>\n      <td>0.0</td>\n    </tr>\n    <tr>\n      <th>3</th>\n      <td>0.0</td>\n      <td>0.0</td>\n      <td>0.0</td>\n      <td>0.0</td>\n      <td>0.0</td>\n      <td>1.0</td>\n      <td>0.0</td>\n      <td>0.0</td>\n      <td>0.0</td>\n      <td>0.0</td>\n      <td>...</td>\n      <td>0.0</td>\n      <td>0.0</td>\n      <td>0.0</td>\n      <td>0.0</td>\n      <td>0.0</td>\n      <td>0.0</td>\n      <td>0.0</td>\n      <td>0.0</td>\n      <td>0.0</td>\n      <td>0.0</td>\n    </tr>\n    <tr>\n      <th>4</th>\n      <td>0.0</td>\n      <td>0.0</td>\n      <td>0.0</td>\n      <td>0.0</td>\n      <td>0.0</td>\n      <td>0.0</td>\n      <td>0.0</td>\n      <td>0.0</td>\n      <td>0.0</td>\n      <td>0.0</td>\n      <td>...</td>\n      <td>0.0</td>\n      <td>0.0</td>\n      <td>0.0</td>\n      <td>0.0</td>\n      <td>0.0</td>\n      <td>0.0</td>\n      <td>0.0</td>\n      <td>0.0</td>\n      <td>0.0</td>\n      <td>0.0</td>\n    </tr>\n    <tr>\n      <th>5</th>\n      <td>0.0</td>\n      <td>0.0</td>\n      <td>0.0</td>\n      <td>1.0</td>\n      <td>0.0</td>\n      <td>0.0</td>\n      <td>0.0</td>\n      <td>0.0</td>\n      <td>0.0</td>\n      <td>0.0</td>\n      <td>...</td>\n      <td>0.0</td>\n      <td>0.0</td>\n      <td>0.0</td>\n      <td>0.0</td>\n      <td>0.0</td>\n      <td>0.0</td>\n      <td>0.0</td>\n      <td>0.0</td>\n      <td>0.0</td>\n      <td>0.0</td>\n    </tr>\n    <tr>\n      <th>...</th>\n      <td>...</td>\n      <td>...</td>\n      <td>...</td>\n      <td>...</td>\n      <td>...</td>\n      <td>...</td>\n      <td>...</td>\n      <td>...</td>\n      <td>...</td>\n      <td>...</td>\n      <td>...</td>\n      <td>...</td>\n      <td>...</td>\n      <td>...</td>\n      <td>...</td>\n      <td>...</td>\n      <td>...</td>\n      <td>...</td>\n      <td>...</td>\n      <td>...</td>\n      <td>...</td>\n    </tr>\n    <tr>\n      <th>208385</th>\n      <td>0.0</td>\n      <td>0.0</td>\n      <td>0.0</td>\n      <td>0.0</td>\n      <td>0.0</td>\n      <td>0.0</td>\n      <td>0.0</td>\n      <td>0.0</td>\n      <td>0.0</td>\n      <td>0.0</td>\n      <td>...</td>\n      <td>0.0</td>\n      <td>0.0</td>\n      <td>0.0</td>\n      <td>0.0</td>\n      <td>0.0</td>\n      <td>0.0</td>\n      <td>0.0</td>\n      <td>0.0</td>\n      <td>0.0</td>\n      <td>0.0</td>\n    </tr>\n    <tr>\n      <th>208715</th>\n      <td>0.0</td>\n      <td>0.0</td>\n      <td>0.0</td>\n      <td>0.0</td>\n      <td>0.0</td>\n      <td>0.0</td>\n      <td>0.0</td>\n      <td>0.0</td>\n      <td>0.0</td>\n      <td>0.0</td>\n      <td>...</td>\n      <td>0.0</td>\n      <td>0.0</td>\n      <td>0.0</td>\n      <td>0.0</td>\n      <td>0.0</td>\n      <td>0.0</td>\n      <td>0.0</td>\n      <td>0.0</td>\n      <td>0.0</td>\n      <td>0.0</td>\n    </tr>\n    <tr>\n      <th>208737</th>\n      <td>0.0</td>\n      <td>0.0</td>\n      <td>0.0</td>\n      <td>0.0</td>\n      <td>0.0</td>\n      <td>0.0</td>\n      <td>0.0</td>\n      <td>0.0</td>\n      <td>0.0</td>\n      <td>0.0</td>\n      <td>...</td>\n      <td>0.0</td>\n      <td>0.0</td>\n      <td>0.0</td>\n      <td>0.0</td>\n      <td>0.0</td>\n      <td>0.0</td>\n      <td>0.0</td>\n      <td>0.0</td>\n      <td>0.0</td>\n      <td>0.0</td>\n    </tr>\n    <tr>\n      <th>208747</th>\n      <td>0.0</td>\n      <td>0.0</td>\n      <td>0.0</td>\n      <td>0.0</td>\n      <td>0.0</td>\n      <td>0.0</td>\n      <td>0.0</td>\n      <td>0.0</td>\n      <td>0.0</td>\n      <td>0.0</td>\n      <td>...</td>\n      <td>0.0</td>\n      <td>0.0</td>\n      <td>0.0</td>\n      <td>0.0</td>\n      <td>0.0</td>\n      <td>0.0</td>\n      <td>0.0</td>\n      <td>0.0</td>\n      <td>0.0</td>\n      <td>0.0</td>\n    </tr>\n    <tr>\n      <th>208939</th>\n      <td>0.0</td>\n      <td>0.0</td>\n      <td>0.0</td>\n      <td>0.0</td>\n      <td>0.0</td>\n      <td>0.0</td>\n      <td>0.0</td>\n      <td>0.0</td>\n      <td>0.0</td>\n      <td>0.0</td>\n      <td>...</td>\n      <td>0.0</td>\n      <td>0.0</td>\n      <td>0.0</td>\n      <td>0.0</td>\n      <td>0.0</td>\n      <td>0.0</td>\n      <td>0.0</td>\n      <td>0.0</td>\n      <td>0.0</td>\n      <td>0.0</td>\n    </tr>\n  </tbody>\n</table>\n<p>32720 rows × 5493 columns</p>\n</div>"
     },
     "metadata": {},
     "execution_count": 43
    }
   ],
   "source": [
    "movies_df2"
   ]
  },
  {
   "cell_type": "code",
   "execution_count": 44,
   "id": "24bb1c56",
   "metadata": {},
   "outputs": [
    {
     "output_type": "execute_result",
     "data": {
      "text/plain": [
       "movieId\n",
       "1         30.0\n",
       "2          0.0\n",
       "3          1.0\n",
       "4          0.0\n",
       "5          0.0\n",
       "          ... \n",
       "208385     0.0\n",
       "208715     0.0\n",
       "208737     0.0\n",
       "208747     0.0\n",
       "208939     0.0\n",
       "Name: funny, Length: 32720, dtype: float64"
      ]
     },
     "metadata": {},
     "execution_count": 44
    }
   ],
   "source": [
    "movies_df2[\"funny\"]"
   ]
  },
  {
   "cell_type": "code",
   "execution_count": 45,
   "id": "30819be1",
   "metadata": {
    "scrolled": true
   },
   "outputs": [
    {
     "output_type": "execute_result",
     "data": {
      "text/plain": [
       "           sci-fi  atmospheric    action    comedy  surreal     funny  \\\n",
       "movieId                                                                 \n",
       "1        0.008772          0.0  0.008772  0.175439      0.0  0.263158   \n",
       "2        0.000000          0.0  0.000000  0.000000      0.0  0.000000   \n",
       "3        0.000000          0.0  0.000000  0.000000      0.0  0.500000   \n",
       "4        0.000000          0.0  0.000000  0.000000      0.0  0.000000   \n",
       "5        0.000000          0.0  0.000000  0.333333      0.0  0.000000   \n",
       "...           ...          ...       ...       ...      ...       ...   \n",
       "207888   0.000000          0.0  0.000000  0.000000      0.0  0.000000   \n",
       "208096   0.000000          0.0  0.000000  0.000000      0.0  0.000000   \n",
       "208295   0.000000          0.0  0.000000  0.000000      0.0  0.000000   \n",
       "208737   0.000000          0.0  0.000000  0.000000      0.0  0.000000   \n",
       "208747   0.000000          0.0  0.000000  0.000000      0.0  0.000000   \n",
       "\n",
       "         based on a book  twist ending  visually appealing  dystopia  ...  \\\n",
       "movieId                                                               ...   \n",
       "1               0.000000           0.0                 0.0       0.0  ...   \n",
       "2               0.058824           0.0                 0.0       0.0  ...   \n",
       "3               0.000000           0.0                 0.0       0.0  ...   \n",
       "4               0.000000           0.0                 0.0       0.0  ...   \n",
       "5               0.000000           0.0                 0.0       0.0  ...   \n",
       "...                  ...           ...                 ...       ...  ...   \n",
       "207888          0.000000           0.0                 0.0       0.0  ...   \n",
       "208096          0.000000           0.0                 0.0       0.0  ...   \n",
       "208295          0.000000           0.0                 0.0       0.0  ...   \n",
       "208737          0.000000           0.0                 0.0       0.0  ...   \n",
       "208747          0.000000           0.0                 0.0       0.0  ...   \n",
       "\n",
       "         watch-again  well-written  whiskey  william friedkin  william holden  \\\n",
       "movieId                                                                         \n",
       "1                0.0           0.0      0.0               0.0             0.0   \n",
       "2                0.0           0.0      0.0               0.0             0.0   \n",
       "3                0.0           0.0      0.0               0.0             0.0   \n",
       "4                0.0           0.0      0.0               0.0             0.0   \n",
       "5                0.0           0.0      0.0               0.0             0.0   \n",
       "...              ...           ...      ...               ...             ...   \n",
       "207888           0.0           0.0      0.0               0.0             0.0   \n",
       "208096           0.0           0.0      0.0               0.0             0.0   \n",
       "208295           0.0           0.0      0.0               0.0             0.0   \n",
       "208737           0.0           0.0      0.0               0.0             0.0   \n",
       "208747           0.0           0.0      0.0               0.0             0.0   \n",
       "\n",
       "         women's rights  writers at work  yahoo top pick  young boy  \\\n",
       "movieId                                                               \n",
       "1                   0.0              0.0             0.0        0.0   \n",
       "2                   0.0              0.0             0.0        0.0   \n",
       "3                   0.0              0.0             0.0        0.0   \n",
       "4                   0.0              0.0             0.0        0.0   \n",
       "5                   0.0              0.0             0.0        0.0   \n",
       "...                 ...              ...             ...        ...   \n",
       "207888              0.0              0.0             0.0        0.0   \n",
       "208096              0.0              0.0             0.0        0.0   \n",
       "208295              0.0              0.0             0.0        0.0   \n",
       "208737              0.0              0.0             0.0        0.0   \n",
       "208747              0.0              0.0             0.0        0.0   \n",
       "\n",
       "         yul brynner  \n",
       "movieId               \n",
       "1                0.0  \n",
       "2                0.0  \n",
       "3                0.0  \n",
       "4                0.0  \n",
       "5                0.0  \n",
       "...              ...  \n",
       "207888           0.0  \n",
       "208096           0.0  \n",
       "208295           0.0  \n",
       "208737           0.0  \n",
       "208747           0.0  \n",
       "\n",
       "[27832 rows x 5493 columns]"
      ],
      "text/html": "<div>\n<style scoped>\n    .dataframe tbody tr th:only-of-type {\n        vertical-align: middle;\n    }\n\n    .dataframe tbody tr th {\n        vertical-align: top;\n    }\n\n    .dataframe thead th {\n        text-align: right;\n    }\n</style>\n<table border=\"1\" class=\"dataframe\">\n  <thead>\n    <tr style=\"text-align: right;\">\n      <th></th>\n      <th>sci-fi</th>\n      <th>atmospheric</th>\n      <th>action</th>\n      <th>comedy</th>\n      <th>surreal</th>\n      <th>funny</th>\n      <th>based on a book</th>\n      <th>twist ending</th>\n      <th>visually appealing</th>\n      <th>dystopia</th>\n      <th>...</th>\n      <th>watch-again</th>\n      <th>well-written</th>\n      <th>whiskey</th>\n      <th>william friedkin</th>\n      <th>william holden</th>\n      <th>women's rights</th>\n      <th>writers at work</th>\n      <th>yahoo top pick</th>\n      <th>young boy</th>\n      <th>yul brynner</th>\n    </tr>\n    <tr>\n      <th>movieId</th>\n      <th></th>\n      <th></th>\n      <th></th>\n      <th></th>\n      <th></th>\n      <th></th>\n      <th></th>\n      <th></th>\n      <th></th>\n      <th></th>\n      <th></th>\n      <th></th>\n      <th></th>\n      <th></th>\n      <th></th>\n      <th></th>\n      <th></th>\n      <th></th>\n      <th></th>\n      <th></th>\n      <th></th>\n    </tr>\n  </thead>\n  <tbody>\n    <tr>\n      <th>1</th>\n      <td>0.008772</td>\n      <td>0.0</td>\n      <td>0.008772</td>\n      <td>0.175439</td>\n      <td>0.0</td>\n      <td>0.263158</td>\n      <td>0.000000</td>\n      <td>0.0</td>\n      <td>0.0</td>\n      <td>0.0</td>\n      <td>...</td>\n      <td>0.0</td>\n      <td>0.0</td>\n      <td>0.0</td>\n      <td>0.0</td>\n      <td>0.0</td>\n      <td>0.0</td>\n      <td>0.0</td>\n      <td>0.0</td>\n      <td>0.0</td>\n      <td>0.0</td>\n    </tr>\n    <tr>\n      <th>2</th>\n      <td>0.000000</td>\n      <td>0.0</td>\n      <td>0.000000</td>\n      <td>0.000000</td>\n      <td>0.0</td>\n      <td>0.000000</td>\n      <td>0.058824</td>\n      <td>0.0</td>\n      <td>0.0</td>\n      <td>0.0</td>\n      <td>...</td>\n      <td>0.0</td>\n      <td>0.0</td>\n      <td>0.0</td>\n      <td>0.0</td>\n      <td>0.0</td>\n      <td>0.0</td>\n      <td>0.0</td>\n      <td>0.0</td>\n      <td>0.0</td>\n      <td>0.0</td>\n    </tr>\n    <tr>\n      <th>3</th>\n      <td>0.000000</td>\n      <td>0.0</td>\n      <td>0.000000</td>\n      <td>0.000000</td>\n      <td>0.0</td>\n      <td>0.500000</td>\n      <td>0.000000</td>\n      <td>0.0</td>\n      <td>0.0</td>\n      <td>0.0</td>\n      <td>...</td>\n      <td>0.0</td>\n      <td>0.0</td>\n      <td>0.0</td>\n      <td>0.0</td>\n      <td>0.0</td>\n      <td>0.0</td>\n      <td>0.0</td>\n      <td>0.0</td>\n      <td>0.0</td>\n      <td>0.0</td>\n    </tr>\n    <tr>\n      <th>4</th>\n      <td>0.000000</td>\n      <td>0.0</td>\n      <td>0.000000</td>\n      <td>0.000000</td>\n      <td>0.0</td>\n      <td>0.000000</td>\n      <td>0.000000</td>\n      <td>0.0</td>\n      <td>0.0</td>\n      <td>0.0</td>\n      <td>...</td>\n      <td>0.0</td>\n      <td>0.0</td>\n      <td>0.0</td>\n      <td>0.0</td>\n      <td>0.0</td>\n      <td>0.0</td>\n      <td>0.0</td>\n      <td>0.0</td>\n      <td>0.0</td>\n      <td>0.0</td>\n    </tr>\n    <tr>\n      <th>5</th>\n      <td>0.000000</td>\n      <td>0.0</td>\n      <td>0.000000</td>\n      <td>0.333333</td>\n      <td>0.0</td>\n      <td>0.000000</td>\n      <td>0.000000</td>\n      <td>0.0</td>\n      <td>0.0</td>\n      <td>0.0</td>\n      <td>...</td>\n      <td>0.0</td>\n      <td>0.0</td>\n      <td>0.0</td>\n      <td>0.0</td>\n      <td>0.0</td>\n      <td>0.0</td>\n      <td>0.0</td>\n      <td>0.0</td>\n      <td>0.0</td>\n      <td>0.0</td>\n    </tr>\n    <tr>\n      <th>...</th>\n      <td>...</td>\n      <td>...</td>\n      <td>...</td>\n      <td>...</td>\n      <td>...</td>\n      <td>...</td>\n      <td>...</td>\n      <td>...</td>\n      <td>...</td>\n      <td>...</td>\n      <td>...</td>\n      <td>...</td>\n      <td>...</td>\n      <td>...</td>\n      <td>...</td>\n      <td>...</td>\n      <td>...</td>\n      <td>...</td>\n      <td>...</td>\n      <td>...</td>\n      <td>...</td>\n    </tr>\n    <tr>\n      <th>207888</th>\n      <td>0.000000</td>\n      <td>0.0</td>\n      <td>0.000000</td>\n      <td>0.000000</td>\n      <td>0.0</td>\n      <td>0.000000</td>\n      <td>0.000000</td>\n      <td>0.0</td>\n      <td>0.0</td>\n      <td>0.0</td>\n      <td>...</td>\n      <td>0.0</td>\n      <td>0.0</td>\n      <td>0.0</td>\n      <td>0.0</td>\n      <td>0.0</td>\n      <td>0.0</td>\n      <td>0.0</td>\n      <td>0.0</td>\n      <td>0.0</td>\n      <td>0.0</td>\n    </tr>\n    <tr>\n      <th>208096</th>\n      <td>0.000000</td>\n      <td>0.0</td>\n      <td>0.000000</td>\n      <td>0.000000</td>\n      <td>0.0</td>\n      <td>0.000000</td>\n      <td>0.000000</td>\n      <td>0.0</td>\n      <td>0.0</td>\n      <td>0.0</td>\n      <td>...</td>\n      <td>0.0</td>\n      <td>0.0</td>\n      <td>0.0</td>\n      <td>0.0</td>\n      <td>0.0</td>\n      <td>0.0</td>\n      <td>0.0</td>\n      <td>0.0</td>\n      <td>0.0</td>\n      <td>0.0</td>\n    </tr>\n    <tr>\n      <th>208295</th>\n      <td>0.000000</td>\n      <td>0.0</td>\n      <td>0.000000</td>\n      <td>0.000000</td>\n      <td>0.0</td>\n      <td>0.000000</td>\n      <td>0.000000</td>\n      <td>0.0</td>\n      <td>0.0</td>\n      <td>0.0</td>\n      <td>...</td>\n      <td>0.0</td>\n      <td>0.0</td>\n      <td>0.0</td>\n      <td>0.0</td>\n      <td>0.0</td>\n      <td>0.0</td>\n      <td>0.0</td>\n      <td>0.0</td>\n      <td>0.0</td>\n      <td>0.0</td>\n    </tr>\n    <tr>\n      <th>208737</th>\n      <td>0.000000</td>\n      <td>0.0</td>\n      <td>0.000000</td>\n      <td>0.000000</td>\n      <td>0.0</td>\n      <td>0.000000</td>\n      <td>0.000000</td>\n      <td>0.0</td>\n      <td>0.0</td>\n      <td>0.0</td>\n      <td>...</td>\n      <td>0.0</td>\n      <td>0.0</td>\n      <td>0.0</td>\n      <td>0.0</td>\n      <td>0.0</td>\n      <td>0.0</td>\n      <td>0.0</td>\n      <td>0.0</td>\n      <td>0.0</td>\n      <td>0.0</td>\n    </tr>\n    <tr>\n      <th>208747</th>\n      <td>0.000000</td>\n      <td>0.0</td>\n      <td>0.000000</td>\n      <td>0.000000</td>\n      <td>0.0</td>\n      <td>0.000000</td>\n      <td>0.000000</td>\n      <td>0.0</td>\n      <td>0.0</td>\n      <td>0.0</td>\n      <td>...</td>\n      <td>0.0</td>\n      <td>0.0</td>\n      <td>0.0</td>\n      <td>0.0</td>\n      <td>0.0</td>\n      <td>0.0</td>\n      <td>0.0</td>\n      <td>0.0</td>\n      <td>0.0</td>\n      <td>0.0</td>\n    </tr>\n  </tbody>\n</table>\n<p>27832 rows × 5493 columns</p>\n</div>"
     },
     "metadata": {},
     "execution_count": 45
    }
   ],
   "source": [
    "movies_df2[\"max\"] = movies_df2.max(axis=1)\n",
    "novi = movies_df2[movies_df2[\"max\"] > 0]\n",
    "novi = novi.div(novi[\"max\"], axis=0)\n",
    "novi = novi.drop(\"max\", axis=1)\n",
    "novi"
   ]
  },
  {
   "cell_type": "code",
   "execution_count": 46,
   "id": "15544704",
   "metadata": {},
   "outputs": [
    {
     "output_type": "execute_result",
     "data": {
      "text/plain": [
       "         sci-fi  atmospheric  action  comedy  surreal  funny  based on a book  \\\n",
       "movieId                                                                         \n",
       "1           1.0          0.0     1.0    20.0      0.0   30.0              0.0   \n",
       "2           0.0          0.0     0.0     0.0      0.0    0.0              2.0   \n",
       "3           0.0          0.0     0.0     0.0      0.0    1.0              0.0   \n",
       "4           0.0          0.0     0.0     0.0      0.0    0.0              0.0   \n",
       "5           0.0          0.0     0.0     1.0      0.0    0.0              0.0   \n",
       "...         ...          ...     ...     ...      ...    ...              ...   \n",
       "208385      0.0          0.0     0.0     0.0      0.0    0.0              0.0   \n",
       "208715      0.0          0.0     0.0     0.0      0.0    0.0              0.0   \n",
       "208737      0.0          0.0     0.0     0.0      0.0    0.0              0.0   \n",
       "208747      0.0          0.0     0.0     0.0      0.0    0.0              0.0   \n",
       "208939      0.0          0.0     0.0     0.0      0.0    0.0              0.0   \n",
       "\n",
       "         twist ending  visually appealing  dystopia  ...  well-written  \\\n",
       "movieId                                              ...                 \n",
       "1                 0.0                 0.0       0.0  ...           0.0   \n",
       "2                 0.0                 0.0       0.0  ...           0.0   \n",
       "3                 0.0                 0.0       0.0  ...           0.0   \n",
       "4                 0.0                 0.0       0.0  ...           0.0   \n",
       "5                 0.0                 0.0       0.0  ...           0.0   \n",
       "...               ...                 ...       ...  ...           ...   \n",
       "208385            0.0                 0.0       0.0  ...           0.0   \n",
       "208715            0.0                 0.0       0.0  ...           0.0   \n",
       "208737            0.0                 0.0       0.0  ...           0.0   \n",
       "208747            0.0                 0.0       0.0  ...           0.0   \n",
       "208939            0.0                 0.0       0.0  ...           0.0   \n",
       "\n",
       "         whiskey  william friedkin  william holden  women's rights  \\\n",
       "movieId                                                              \n",
       "1            0.0               0.0             0.0             0.0   \n",
       "2            0.0               0.0             0.0             0.0   \n",
       "3            0.0               0.0             0.0             0.0   \n",
       "4            0.0               0.0             0.0             0.0   \n",
       "5            0.0               0.0             0.0             0.0   \n",
       "...          ...               ...             ...             ...   \n",
       "208385       0.0               0.0             0.0             0.0   \n",
       "208715       0.0               0.0             0.0             0.0   \n",
       "208737       0.0               0.0             0.0             0.0   \n",
       "208747       0.0               0.0             0.0             0.0   \n",
       "208939       0.0               0.0             0.0             0.0   \n",
       "\n",
       "         writers at work  yahoo top pick  young boy  yul brynner    max  \n",
       "movieId                                                                  \n",
       "1                    0.0             0.0        0.0          0.0  114.0  \n",
       "2                    0.0             0.0        0.0          0.0   34.0  \n",
       "3                    0.0             0.0        0.0          0.0    2.0  \n",
       "4                    0.0             0.0        0.0          0.0    3.0  \n",
       "5                    0.0             0.0        0.0          0.0    3.0  \n",
       "...                  ...             ...        ...          ...    ...  \n",
       "208385               0.0             0.0        0.0          0.0    0.0  \n",
       "208715               0.0             0.0        0.0          0.0    0.0  \n",
       "208737               0.0             0.0        0.0          0.0    1.0  \n",
       "208747               0.0             0.0        0.0          0.0    1.0  \n",
       "208939               0.0             0.0        0.0          0.0    0.0  \n",
       "\n",
       "[32720 rows x 5494 columns]"
      ],
      "text/html": "<div>\n<style scoped>\n    .dataframe tbody tr th:only-of-type {\n        vertical-align: middle;\n    }\n\n    .dataframe tbody tr th {\n        vertical-align: top;\n    }\n\n    .dataframe thead th {\n        text-align: right;\n    }\n</style>\n<table border=\"1\" class=\"dataframe\">\n  <thead>\n    <tr style=\"text-align: right;\">\n      <th></th>\n      <th>sci-fi</th>\n      <th>atmospheric</th>\n      <th>action</th>\n      <th>comedy</th>\n      <th>surreal</th>\n      <th>funny</th>\n      <th>based on a book</th>\n      <th>twist ending</th>\n      <th>visually appealing</th>\n      <th>dystopia</th>\n      <th>...</th>\n      <th>well-written</th>\n      <th>whiskey</th>\n      <th>william friedkin</th>\n      <th>william holden</th>\n      <th>women's rights</th>\n      <th>writers at work</th>\n      <th>yahoo top pick</th>\n      <th>young boy</th>\n      <th>yul brynner</th>\n      <th>max</th>\n    </tr>\n    <tr>\n      <th>movieId</th>\n      <th></th>\n      <th></th>\n      <th></th>\n      <th></th>\n      <th></th>\n      <th></th>\n      <th></th>\n      <th></th>\n      <th></th>\n      <th></th>\n      <th></th>\n      <th></th>\n      <th></th>\n      <th></th>\n      <th></th>\n      <th></th>\n      <th></th>\n      <th></th>\n      <th></th>\n      <th></th>\n      <th></th>\n    </tr>\n  </thead>\n  <tbody>\n    <tr>\n      <th>1</th>\n      <td>1.0</td>\n      <td>0.0</td>\n      <td>1.0</td>\n      <td>20.0</td>\n      <td>0.0</td>\n      <td>30.0</td>\n      <td>0.0</td>\n      <td>0.0</td>\n      <td>0.0</td>\n      <td>0.0</td>\n      <td>...</td>\n      <td>0.0</td>\n      <td>0.0</td>\n      <td>0.0</td>\n      <td>0.0</td>\n      <td>0.0</td>\n      <td>0.0</td>\n      <td>0.0</td>\n      <td>0.0</td>\n      <td>0.0</td>\n      <td>114.0</td>\n    </tr>\n    <tr>\n      <th>2</th>\n      <td>0.0</td>\n      <td>0.0</td>\n      <td>0.0</td>\n      <td>0.0</td>\n      <td>0.0</td>\n      <td>0.0</td>\n      <td>2.0</td>\n      <td>0.0</td>\n      <td>0.0</td>\n      <td>0.0</td>\n      <td>...</td>\n      <td>0.0</td>\n      <td>0.0</td>\n      <td>0.0</td>\n      <td>0.0</td>\n      <td>0.0</td>\n      <td>0.0</td>\n      <td>0.0</td>\n      <td>0.0</td>\n      <td>0.0</td>\n      <td>34.0</td>\n    </tr>\n    <tr>\n      <th>3</th>\n      <td>0.0</td>\n      <td>0.0</td>\n      <td>0.0</td>\n      <td>0.0</td>\n      <td>0.0</td>\n      <td>1.0</td>\n      <td>0.0</td>\n      <td>0.0</td>\n      <td>0.0</td>\n      <td>0.0</td>\n      <td>...</td>\n      <td>0.0</td>\n      <td>0.0</td>\n      <td>0.0</td>\n      <td>0.0</td>\n      <td>0.0</td>\n      <td>0.0</td>\n      <td>0.0</td>\n      <td>0.0</td>\n      <td>0.0</td>\n      <td>2.0</td>\n    </tr>\n    <tr>\n      <th>4</th>\n      <td>0.0</td>\n      <td>0.0</td>\n      <td>0.0</td>\n      <td>0.0</td>\n      <td>0.0</td>\n      <td>0.0</td>\n      <td>0.0</td>\n      <td>0.0</td>\n      <td>0.0</td>\n      <td>0.0</td>\n      <td>...</td>\n      <td>0.0</td>\n      <td>0.0</td>\n      <td>0.0</td>\n      <td>0.0</td>\n      <td>0.0</td>\n      <td>0.0</td>\n      <td>0.0</td>\n      <td>0.0</td>\n      <td>0.0</td>\n      <td>3.0</td>\n    </tr>\n    <tr>\n      <th>5</th>\n      <td>0.0</td>\n      <td>0.0</td>\n      <td>0.0</td>\n      <td>1.0</td>\n      <td>0.0</td>\n      <td>0.0</td>\n      <td>0.0</td>\n      <td>0.0</td>\n      <td>0.0</td>\n      <td>0.0</td>\n      <td>...</td>\n      <td>0.0</td>\n      <td>0.0</td>\n      <td>0.0</td>\n      <td>0.0</td>\n      <td>0.0</td>\n      <td>0.0</td>\n      <td>0.0</td>\n      <td>0.0</td>\n      <td>0.0</td>\n      <td>3.0</td>\n    </tr>\n    <tr>\n      <th>...</th>\n      <td>...</td>\n      <td>...</td>\n      <td>...</td>\n      <td>...</td>\n      <td>...</td>\n      <td>...</td>\n      <td>...</td>\n      <td>...</td>\n      <td>...</td>\n      <td>...</td>\n      <td>...</td>\n      <td>...</td>\n      <td>...</td>\n      <td>...</td>\n      <td>...</td>\n      <td>...</td>\n      <td>...</td>\n      <td>...</td>\n      <td>...</td>\n      <td>...</td>\n      <td>...</td>\n    </tr>\n    <tr>\n      <th>208385</th>\n      <td>0.0</td>\n      <td>0.0</td>\n      <td>0.0</td>\n      <td>0.0</td>\n      <td>0.0</td>\n      <td>0.0</td>\n      <td>0.0</td>\n      <td>0.0</td>\n      <td>0.0</td>\n      <td>0.0</td>\n      <td>...</td>\n      <td>0.0</td>\n      <td>0.0</td>\n      <td>0.0</td>\n      <td>0.0</td>\n      <td>0.0</td>\n      <td>0.0</td>\n      <td>0.0</td>\n      <td>0.0</td>\n      <td>0.0</td>\n      <td>0.0</td>\n    </tr>\n    <tr>\n      <th>208715</th>\n      <td>0.0</td>\n      <td>0.0</td>\n      <td>0.0</td>\n      <td>0.0</td>\n      <td>0.0</td>\n      <td>0.0</td>\n      <td>0.0</td>\n      <td>0.0</td>\n      <td>0.0</td>\n      <td>0.0</td>\n      <td>...</td>\n      <td>0.0</td>\n      <td>0.0</td>\n      <td>0.0</td>\n      <td>0.0</td>\n      <td>0.0</td>\n      <td>0.0</td>\n      <td>0.0</td>\n      <td>0.0</td>\n      <td>0.0</td>\n      <td>0.0</td>\n    </tr>\n    <tr>\n      <th>208737</th>\n      <td>0.0</td>\n      <td>0.0</td>\n      <td>0.0</td>\n      <td>0.0</td>\n      <td>0.0</td>\n      <td>0.0</td>\n      <td>0.0</td>\n      <td>0.0</td>\n      <td>0.0</td>\n      <td>0.0</td>\n      <td>...</td>\n      <td>0.0</td>\n      <td>0.0</td>\n      <td>0.0</td>\n      <td>0.0</td>\n      <td>0.0</td>\n      <td>0.0</td>\n      <td>0.0</td>\n      <td>0.0</td>\n      <td>0.0</td>\n      <td>1.0</td>\n    </tr>\n    <tr>\n      <th>208747</th>\n      <td>0.0</td>\n      <td>0.0</td>\n      <td>0.0</td>\n      <td>0.0</td>\n      <td>0.0</td>\n      <td>0.0</td>\n      <td>0.0</td>\n      <td>0.0</td>\n      <td>0.0</td>\n      <td>0.0</td>\n      <td>...</td>\n      <td>0.0</td>\n      <td>0.0</td>\n      <td>0.0</td>\n      <td>0.0</td>\n      <td>0.0</td>\n      <td>0.0</td>\n      <td>0.0</td>\n      <td>0.0</td>\n      <td>0.0</td>\n      <td>1.0</td>\n    </tr>\n    <tr>\n      <th>208939</th>\n      <td>0.0</td>\n      <td>0.0</td>\n      <td>0.0</td>\n      <td>0.0</td>\n      <td>0.0</td>\n      <td>0.0</td>\n      <td>0.0</td>\n      <td>0.0</td>\n      <td>0.0</td>\n      <td>0.0</td>\n      <td>...</td>\n      <td>0.0</td>\n      <td>0.0</td>\n      <td>0.0</td>\n      <td>0.0</td>\n      <td>0.0</td>\n      <td>0.0</td>\n      <td>0.0</td>\n      <td>0.0</td>\n      <td>0.0</td>\n      <td>0.0</td>\n    </tr>\n  </tbody>\n</table>\n<p>32720 rows × 5494 columns</p>\n</div>"
     },
     "metadata": {},
     "execution_count": 46
    }
   ],
   "source": [
    "movies_df2"
   ]
  },
  {
   "cell_type": "code",
   "execution_count": 47,
   "id": "b06db6f1",
   "metadata": {},
   "outputs": [
    {
     "output_type": "execute_result",
     "data": {
      "text/plain": [
       "         Adventure  Fantasy  Drama  Children  Comedy  Sci-Fi  Film-Noir  \\\n",
       "movieId                                                                   \n",
       "1                1        1      0         1       1       0          0   \n",
       "2                1        1      0         1       0       0          0   \n",
       "3                0        0      0         0       1       0          0   \n",
       "4                0        0      1         0       1       0          0   \n",
       "5                0        0      0         0       1       0          0   \n",
       "...            ...      ...    ...       ...     ...     ...        ...   \n",
       "208385           0        0      1         0       0       0          0   \n",
       "208715           0        0      0         0       1       0          0   \n",
       "208737           0        0      1         0       0       0          0   \n",
       "208747           0        0      1         0       0       0          0   \n",
       "208939           1        0      0         1       1       0          0   \n",
       "\n",
       "         Horror  War  Animation  Western  Romance  Crime  Musical  Mystery  \\\n",
       "movieId                                                                      \n",
       "1             0    0          1        0        0      0        0        0   \n",
       "2             0    0          0        0        0      0        0        0   \n",
       "3             0    0          0        0        1      0        0        0   \n",
       "4             0    0          0        0        1      0        0        0   \n",
       "5             0    0          0        0        0      0        0        0   \n",
       "...         ...  ...        ...      ...      ...    ...      ...      ...   \n",
       "208385        0    0          0        0        1      0        0        0   \n",
       "208715        0    0          0        0        1      0        0        0   \n",
       "208737        0    1          0        0        0      0        0        0   \n",
       "208747        0    0          0        0        0      0        0        1   \n",
       "208939        0    0          1        0        0      0        0        0   \n",
       "\n",
       "         Thriller  Action  Documentary  \n",
       "movieId                                 \n",
       "1               0       0            0  \n",
       "2               0       0            0  \n",
       "3               0       0            0  \n",
       "4               0       0            0  \n",
       "5               0       0            0  \n",
       "...           ...     ...          ...  \n",
       "208385          0       0            0  \n",
       "208715          0       0            0  \n",
       "208737          0       1            0  \n",
       "208747          0       0            0  \n",
       "208939          0       0            0  \n",
       "\n",
       "[32720 rows x 18 columns]"
      ],
      "text/html": "<div>\n<style scoped>\n    .dataframe tbody tr th:only-of-type {\n        vertical-align: middle;\n    }\n\n    .dataframe tbody tr th {\n        vertical-align: top;\n    }\n\n    .dataframe thead th {\n        text-align: right;\n    }\n</style>\n<table border=\"1\" class=\"dataframe\">\n  <thead>\n    <tr style=\"text-align: right;\">\n      <th></th>\n      <th>Adventure</th>\n      <th>Fantasy</th>\n      <th>Drama</th>\n      <th>Children</th>\n      <th>Comedy</th>\n      <th>Sci-Fi</th>\n      <th>Film-Noir</th>\n      <th>Horror</th>\n      <th>War</th>\n      <th>Animation</th>\n      <th>Western</th>\n      <th>Romance</th>\n      <th>Crime</th>\n      <th>Musical</th>\n      <th>Mystery</th>\n      <th>Thriller</th>\n      <th>Action</th>\n      <th>Documentary</th>\n    </tr>\n    <tr>\n      <th>movieId</th>\n      <th></th>\n      <th></th>\n      <th></th>\n      <th></th>\n      <th></th>\n      <th></th>\n      <th></th>\n      <th></th>\n      <th></th>\n      <th></th>\n      <th></th>\n      <th></th>\n      <th></th>\n      <th></th>\n      <th></th>\n      <th></th>\n      <th></th>\n      <th></th>\n    </tr>\n  </thead>\n  <tbody>\n    <tr>\n      <th>1</th>\n      <td>1</td>\n      <td>1</td>\n      <td>0</td>\n      <td>1</td>\n      <td>1</td>\n      <td>0</td>\n      <td>0</td>\n      <td>0</td>\n      <td>0</td>\n      <td>1</td>\n      <td>0</td>\n      <td>0</td>\n      <td>0</td>\n      <td>0</td>\n      <td>0</td>\n      <td>0</td>\n      <td>0</td>\n      <td>0</td>\n    </tr>\n    <tr>\n      <th>2</th>\n      <td>1</td>\n      <td>1</td>\n      <td>0</td>\n      <td>1</td>\n      <td>0</td>\n      <td>0</td>\n      <td>0</td>\n      <td>0</td>\n      <td>0</td>\n      <td>0</td>\n      <td>0</td>\n      <td>0</td>\n      <td>0</td>\n      <td>0</td>\n      <td>0</td>\n      <td>0</td>\n      <td>0</td>\n      <td>0</td>\n    </tr>\n    <tr>\n      <th>3</th>\n      <td>0</td>\n      <td>0</td>\n      <td>0</td>\n      <td>0</td>\n      <td>1</td>\n      <td>0</td>\n      <td>0</td>\n      <td>0</td>\n      <td>0</td>\n      <td>0</td>\n      <td>0</td>\n      <td>1</td>\n      <td>0</td>\n      <td>0</td>\n      <td>0</td>\n      <td>0</td>\n      <td>0</td>\n      <td>0</td>\n    </tr>\n    <tr>\n      <th>4</th>\n      <td>0</td>\n      <td>0</td>\n      <td>1</td>\n      <td>0</td>\n      <td>1</td>\n      <td>0</td>\n      <td>0</td>\n      <td>0</td>\n      <td>0</td>\n      <td>0</td>\n      <td>0</td>\n      <td>1</td>\n      <td>0</td>\n      <td>0</td>\n      <td>0</td>\n      <td>0</td>\n      <td>0</td>\n      <td>0</td>\n    </tr>\n    <tr>\n      <th>5</th>\n      <td>0</td>\n      <td>0</td>\n      <td>0</td>\n      <td>0</td>\n      <td>1</td>\n      <td>0</td>\n      <td>0</td>\n      <td>0</td>\n      <td>0</td>\n      <td>0</td>\n      <td>0</td>\n      <td>0</td>\n      <td>0</td>\n      <td>0</td>\n      <td>0</td>\n      <td>0</td>\n      <td>0</td>\n      <td>0</td>\n    </tr>\n    <tr>\n      <th>...</th>\n      <td>...</td>\n      <td>...</td>\n      <td>...</td>\n      <td>...</td>\n      <td>...</td>\n      <td>...</td>\n      <td>...</td>\n      <td>...</td>\n      <td>...</td>\n      <td>...</td>\n      <td>...</td>\n      <td>...</td>\n      <td>...</td>\n      <td>...</td>\n      <td>...</td>\n      <td>...</td>\n      <td>...</td>\n      <td>...</td>\n    </tr>\n    <tr>\n      <th>208385</th>\n      <td>0</td>\n      <td>0</td>\n      <td>1</td>\n      <td>0</td>\n      <td>0</td>\n      <td>0</td>\n      <td>0</td>\n      <td>0</td>\n      <td>0</td>\n      <td>0</td>\n      <td>0</td>\n      <td>1</td>\n      <td>0</td>\n      <td>0</td>\n      <td>0</td>\n      <td>0</td>\n      <td>0</td>\n      <td>0</td>\n    </tr>\n    <tr>\n      <th>208715</th>\n      <td>0</td>\n      <td>0</td>\n      <td>0</td>\n      <td>0</td>\n      <td>1</td>\n      <td>0</td>\n      <td>0</td>\n      <td>0</td>\n      <td>0</td>\n      <td>0</td>\n      <td>0</td>\n      <td>1</td>\n      <td>0</td>\n      <td>0</td>\n      <td>0</td>\n      <td>0</td>\n      <td>0</td>\n      <td>0</td>\n    </tr>\n    <tr>\n      <th>208737</th>\n      <td>0</td>\n      <td>0</td>\n      <td>1</td>\n      <td>0</td>\n      <td>0</td>\n      <td>0</td>\n      <td>0</td>\n      <td>0</td>\n      <td>1</td>\n      <td>0</td>\n      <td>0</td>\n      <td>0</td>\n      <td>0</td>\n      <td>0</td>\n      <td>0</td>\n      <td>0</td>\n      <td>1</td>\n      <td>0</td>\n    </tr>\n    <tr>\n      <th>208747</th>\n      <td>0</td>\n      <td>0</td>\n      <td>1</td>\n      <td>0</td>\n      <td>0</td>\n      <td>0</td>\n      <td>0</td>\n      <td>0</td>\n      <td>0</td>\n      <td>0</td>\n      <td>0</td>\n      <td>0</td>\n      <td>0</td>\n      <td>0</td>\n      <td>1</td>\n      <td>0</td>\n      <td>0</td>\n      <td>0</td>\n    </tr>\n    <tr>\n      <th>208939</th>\n      <td>1</td>\n      <td>0</td>\n      <td>0</td>\n      <td>1</td>\n      <td>1</td>\n      <td>0</td>\n      <td>0</td>\n      <td>0</td>\n      <td>0</td>\n      <td>1</td>\n      <td>0</td>\n      <td>0</td>\n      <td>0</td>\n      <td>0</td>\n      <td>0</td>\n      <td>0</td>\n      <td>0</td>\n      <td>0</td>\n    </tr>\n  </tbody>\n</table>\n<p>32720 rows × 18 columns</p>\n</div>"
     },
     "metadata": {},
     "execution_count": 47
    }
   ],
   "source": [
    "movies_df2 = novi\n",
    "movies_df1 = movies_df1.drop([\"genres\", \"title\"], axis=1)\n",
    "movies_df1"
   ]
  },
  {
   "cell_type": "code",
   "execution_count": 48,
   "id": "d3727237",
   "metadata": {},
   "outputs": [
    {
     "output_type": "execute_result",
     "data": {
      "text/plain": [
       "         Adventure  Fantasy  Drama  Children  Comedy  Sci-Fi  Film-Noir  \\\n",
       "movieId                                                                   \n",
       "1                1        1      0         1       1       0          0   \n",
       "2                1        1      0         1       0       0          0   \n",
       "3                0        0      0         0       1       0          0   \n",
       "4                0        0      1         0       1       0          0   \n",
       "5                0        0      0         0       1       0          0   \n",
       "...            ...      ...    ...       ...     ...     ...        ...   \n",
       "207888           0        0      1         0       0       0          0   \n",
       "208096           0        0      1         0       0       0          0   \n",
       "208295           0        0      0         0       1       0          0   \n",
       "208737           0        0      1         0       0       0          0   \n",
       "208747           0        0      1         0       0       0          0   \n",
       "\n",
       "         Horror  War  Animation  ...  watch-again  well-written  whiskey  \\\n",
       "movieId                          ...                                       \n",
       "1             0    0          1  ...          0.0           0.0      0.0   \n",
       "2             0    0          0  ...          0.0           0.0      0.0   \n",
       "3             0    0          0  ...          0.0           0.0      0.0   \n",
       "4             0    0          0  ...          0.0           0.0      0.0   \n",
       "5             0    0          0  ...          0.0           0.0      0.0   \n",
       "...         ...  ...        ...  ...          ...           ...      ...   \n",
       "207888        0    0          0  ...          0.0           0.0      0.0   \n",
       "208096        0    0          0  ...          0.0           0.0      0.0   \n",
       "208295        0    0          0  ...          0.0           0.0      0.0   \n",
       "208737        0    1          0  ...          0.0           0.0      0.0   \n",
       "208747        0    0          0  ...          0.0           0.0      0.0   \n",
       "\n",
       "         william friedkin  william holden  women's rights  writers at work  \\\n",
       "movieId                                                                      \n",
       "1                     0.0             0.0             0.0              0.0   \n",
       "2                     0.0             0.0             0.0              0.0   \n",
       "3                     0.0             0.0             0.0              0.0   \n",
       "4                     0.0             0.0             0.0              0.0   \n",
       "5                     0.0             0.0             0.0              0.0   \n",
       "...                   ...             ...             ...              ...   \n",
       "207888                0.0             0.0             0.0              0.0   \n",
       "208096                0.0             0.0             0.0              0.0   \n",
       "208295                0.0             0.0             0.0              0.0   \n",
       "208737                0.0             0.0             0.0              0.0   \n",
       "208747                0.0             0.0             0.0              0.0   \n",
       "\n",
       "         yahoo top pick  young boy  yul brynner  \n",
       "movieId                                          \n",
       "1                   0.0        0.0          0.0  \n",
       "2                   0.0        0.0          0.0  \n",
       "3                   0.0        0.0          0.0  \n",
       "4                   0.0        0.0          0.0  \n",
       "5                   0.0        0.0          0.0  \n",
       "...                 ...        ...          ...  \n",
       "207888              0.0        0.0          0.0  \n",
       "208096              0.0        0.0          0.0  \n",
       "208295              0.0        0.0          0.0  \n",
       "208737              0.0        0.0          0.0  \n",
       "208747              0.0        0.0          0.0  \n",
       "\n",
       "[27832 rows x 5511 columns]"
      ],
      "text/html": "<div>\n<style scoped>\n    .dataframe tbody tr th:only-of-type {\n        vertical-align: middle;\n    }\n\n    .dataframe tbody tr th {\n        vertical-align: top;\n    }\n\n    .dataframe thead th {\n        text-align: right;\n    }\n</style>\n<table border=\"1\" class=\"dataframe\">\n  <thead>\n    <tr style=\"text-align: right;\">\n      <th></th>\n      <th>Adventure</th>\n      <th>Fantasy</th>\n      <th>Drama</th>\n      <th>Children</th>\n      <th>Comedy</th>\n      <th>Sci-Fi</th>\n      <th>Film-Noir</th>\n      <th>Horror</th>\n      <th>War</th>\n      <th>Animation</th>\n      <th>...</th>\n      <th>watch-again</th>\n      <th>well-written</th>\n      <th>whiskey</th>\n      <th>william friedkin</th>\n      <th>william holden</th>\n      <th>women's rights</th>\n      <th>writers at work</th>\n      <th>yahoo top pick</th>\n      <th>young boy</th>\n      <th>yul brynner</th>\n    </tr>\n    <tr>\n      <th>movieId</th>\n      <th></th>\n      <th></th>\n      <th></th>\n      <th></th>\n      <th></th>\n      <th></th>\n      <th></th>\n      <th></th>\n      <th></th>\n      <th></th>\n      <th></th>\n      <th></th>\n      <th></th>\n      <th></th>\n      <th></th>\n      <th></th>\n      <th></th>\n      <th></th>\n      <th></th>\n      <th></th>\n      <th></th>\n    </tr>\n  </thead>\n  <tbody>\n    <tr>\n      <th>1</th>\n      <td>1</td>\n      <td>1</td>\n      <td>0</td>\n      <td>1</td>\n      <td>1</td>\n      <td>0</td>\n      <td>0</td>\n      <td>0</td>\n      <td>0</td>\n      <td>1</td>\n      <td>...</td>\n      <td>0.0</td>\n      <td>0.0</td>\n      <td>0.0</td>\n      <td>0.0</td>\n      <td>0.0</td>\n      <td>0.0</td>\n      <td>0.0</td>\n      <td>0.0</td>\n      <td>0.0</td>\n      <td>0.0</td>\n    </tr>\n    <tr>\n      <th>2</th>\n      <td>1</td>\n      <td>1</td>\n      <td>0</td>\n      <td>1</td>\n      <td>0</td>\n      <td>0</td>\n      <td>0</td>\n      <td>0</td>\n      <td>0</td>\n      <td>0</td>\n      <td>...</td>\n      <td>0.0</td>\n      <td>0.0</td>\n      <td>0.0</td>\n      <td>0.0</td>\n      <td>0.0</td>\n      <td>0.0</td>\n      <td>0.0</td>\n      <td>0.0</td>\n      <td>0.0</td>\n      <td>0.0</td>\n    </tr>\n    <tr>\n      <th>3</th>\n      <td>0</td>\n      <td>0</td>\n      <td>0</td>\n      <td>0</td>\n      <td>1</td>\n      <td>0</td>\n      <td>0</td>\n      <td>0</td>\n      <td>0</td>\n      <td>0</td>\n      <td>...</td>\n      <td>0.0</td>\n      <td>0.0</td>\n      <td>0.0</td>\n      <td>0.0</td>\n      <td>0.0</td>\n      <td>0.0</td>\n      <td>0.0</td>\n      <td>0.0</td>\n      <td>0.0</td>\n      <td>0.0</td>\n    </tr>\n    <tr>\n      <th>4</th>\n      <td>0</td>\n      <td>0</td>\n      <td>1</td>\n      <td>0</td>\n      <td>1</td>\n      <td>0</td>\n      <td>0</td>\n      <td>0</td>\n      <td>0</td>\n      <td>0</td>\n      <td>...</td>\n      <td>0.0</td>\n      <td>0.0</td>\n      <td>0.0</td>\n      <td>0.0</td>\n      <td>0.0</td>\n      <td>0.0</td>\n      <td>0.0</td>\n      <td>0.0</td>\n      <td>0.0</td>\n      <td>0.0</td>\n    </tr>\n    <tr>\n      <th>5</th>\n      <td>0</td>\n      <td>0</td>\n      <td>0</td>\n      <td>0</td>\n      <td>1</td>\n      <td>0</td>\n      <td>0</td>\n      <td>0</td>\n      <td>0</td>\n      <td>0</td>\n      <td>...</td>\n      <td>0.0</td>\n      <td>0.0</td>\n      <td>0.0</td>\n      <td>0.0</td>\n      <td>0.0</td>\n      <td>0.0</td>\n      <td>0.0</td>\n      <td>0.0</td>\n      <td>0.0</td>\n      <td>0.0</td>\n    </tr>\n    <tr>\n      <th>...</th>\n      <td>...</td>\n      <td>...</td>\n      <td>...</td>\n      <td>...</td>\n      <td>...</td>\n      <td>...</td>\n      <td>...</td>\n      <td>...</td>\n      <td>...</td>\n      <td>...</td>\n      <td>...</td>\n      <td>...</td>\n      <td>...</td>\n      <td>...</td>\n      <td>...</td>\n      <td>...</td>\n      <td>...</td>\n      <td>...</td>\n      <td>...</td>\n      <td>...</td>\n      <td>...</td>\n    </tr>\n    <tr>\n      <th>207888</th>\n      <td>0</td>\n      <td>0</td>\n      <td>1</td>\n      <td>0</td>\n      <td>0</td>\n      <td>0</td>\n      <td>0</td>\n      <td>0</td>\n      <td>0</td>\n      <td>0</td>\n      <td>...</td>\n      <td>0.0</td>\n      <td>0.0</td>\n      <td>0.0</td>\n      <td>0.0</td>\n      <td>0.0</td>\n      <td>0.0</td>\n      <td>0.0</td>\n      <td>0.0</td>\n      <td>0.0</td>\n      <td>0.0</td>\n    </tr>\n    <tr>\n      <th>208096</th>\n      <td>0</td>\n      <td>0</td>\n      <td>1</td>\n      <td>0</td>\n      <td>0</td>\n      <td>0</td>\n      <td>0</td>\n      <td>0</td>\n      <td>0</td>\n      <td>0</td>\n      <td>...</td>\n      <td>0.0</td>\n      <td>0.0</td>\n      <td>0.0</td>\n      <td>0.0</td>\n      <td>0.0</td>\n      <td>0.0</td>\n      <td>0.0</td>\n      <td>0.0</td>\n      <td>0.0</td>\n      <td>0.0</td>\n    </tr>\n    <tr>\n      <th>208295</th>\n      <td>0</td>\n      <td>0</td>\n      <td>0</td>\n      <td>0</td>\n      <td>1</td>\n      <td>0</td>\n      <td>0</td>\n      <td>0</td>\n      <td>0</td>\n      <td>0</td>\n      <td>...</td>\n      <td>0.0</td>\n      <td>0.0</td>\n      <td>0.0</td>\n      <td>0.0</td>\n      <td>0.0</td>\n      <td>0.0</td>\n      <td>0.0</td>\n      <td>0.0</td>\n      <td>0.0</td>\n      <td>0.0</td>\n    </tr>\n    <tr>\n      <th>208737</th>\n      <td>0</td>\n      <td>0</td>\n      <td>1</td>\n      <td>0</td>\n      <td>0</td>\n      <td>0</td>\n      <td>0</td>\n      <td>0</td>\n      <td>1</td>\n      <td>0</td>\n      <td>...</td>\n      <td>0.0</td>\n      <td>0.0</td>\n      <td>0.0</td>\n      <td>0.0</td>\n      <td>0.0</td>\n      <td>0.0</td>\n      <td>0.0</td>\n      <td>0.0</td>\n      <td>0.0</td>\n      <td>0.0</td>\n    </tr>\n    <tr>\n      <th>208747</th>\n      <td>0</td>\n      <td>0</td>\n      <td>1</td>\n      <td>0</td>\n      <td>0</td>\n      <td>0</td>\n      <td>0</td>\n      <td>0</td>\n      <td>0</td>\n      <td>0</td>\n      <td>...</td>\n      <td>0.0</td>\n      <td>0.0</td>\n      <td>0.0</td>\n      <td>0.0</td>\n      <td>0.0</td>\n      <td>0.0</td>\n      <td>0.0</td>\n      <td>0.0</td>\n      <td>0.0</td>\n      <td>0.0</td>\n    </tr>\n  </tbody>\n</table>\n<p>27832 rows × 5511 columns</p>\n</div>"
     },
     "metadata": {},
     "execution_count": 48
    }
   ],
   "source": [
    "movies_df = pd.concat([movies_df1, movies_df2], axis=1)\n",
    "movies_df = movies_df.dropna()\n",
    "movies_df"
   ]
  },
  {
   "cell_type": "code",
   "execution_count": 49,
   "id": "5e178dd8",
   "metadata": {},
   "outputs": [],
   "source": [
    "#few minutes\n",
    "movies_df.to_csv(\"movie_features1.csv\")"
   ]
  },
  {
   "cell_type": "code",
   "execution_count": 50,
   "id": "5fcff378",
   "metadata": {},
   "outputs": [
    {
     "output_type": "execute_result",
     "data": {
      "text/plain": [
       "          userId  movieId  rating\n",
       "0              1      296     5.0\n",
       "1              1      306     3.5\n",
       "2              1      307     5.0\n",
       "3              1      665     5.0\n",
       "4              1      899     3.5\n",
       "...          ...      ...     ...\n",
       "25000090  162541    50872     4.5\n",
       "25000091  162541    55768     2.5\n",
       "25000092  162541    56176     2.0\n",
       "25000093  162541    58559     4.0\n",
       "25000094  162541    63876     5.0\n",
       "\n",
       "[25000095 rows x 3 columns]"
      ],
      "text/html": "<div>\n<style scoped>\n    .dataframe tbody tr th:only-of-type {\n        vertical-align: middle;\n    }\n\n    .dataframe tbody tr th {\n        vertical-align: top;\n    }\n\n    .dataframe thead th {\n        text-align: right;\n    }\n</style>\n<table border=\"1\" class=\"dataframe\">\n  <thead>\n    <tr style=\"text-align: right;\">\n      <th></th>\n      <th>userId</th>\n      <th>movieId</th>\n      <th>rating</th>\n    </tr>\n  </thead>\n  <tbody>\n    <tr>\n      <th>0</th>\n      <td>1</td>\n      <td>296</td>\n      <td>5.0</td>\n    </tr>\n    <tr>\n      <th>1</th>\n      <td>1</td>\n      <td>306</td>\n      <td>3.5</td>\n    </tr>\n    <tr>\n      <th>2</th>\n      <td>1</td>\n      <td>307</td>\n      <td>5.0</td>\n    </tr>\n    <tr>\n      <th>3</th>\n      <td>1</td>\n      <td>665</td>\n      <td>5.0</td>\n    </tr>\n    <tr>\n      <th>4</th>\n      <td>1</td>\n      <td>899</td>\n      <td>3.5</td>\n    </tr>\n    <tr>\n      <th>...</th>\n      <td>...</td>\n      <td>...</td>\n      <td>...</td>\n    </tr>\n    <tr>\n      <th>25000090</th>\n      <td>162541</td>\n      <td>50872</td>\n      <td>4.5</td>\n    </tr>\n    <tr>\n      <th>25000091</th>\n      <td>162541</td>\n      <td>55768</td>\n      <td>2.5</td>\n    </tr>\n    <tr>\n      <th>25000092</th>\n      <td>162541</td>\n      <td>56176</td>\n      <td>2.0</td>\n    </tr>\n    <tr>\n      <th>25000093</th>\n      <td>162541</td>\n      <td>58559</td>\n      <td>4.0</td>\n    </tr>\n    <tr>\n      <th>25000094</th>\n      <td>162541</td>\n      <td>63876</td>\n      <td>5.0</td>\n    </tr>\n  </tbody>\n</table>\n<p>25000095 rows × 3 columns</p>\n</div>"
     },
     "metadata": {},
     "execution_count": 50
    }
   ],
   "source": [
    "ratings_df"
   ]
  },
  {
   "cell_type": "code",
   "execution_count": 51,
   "id": "526fb76e",
   "metadata": {},
   "outputs": [
    {
     "output_type": "execute_result",
     "data": {
      "text/plain": [
       "27832"
      ]
     },
     "metadata": {},
     "execution_count": 51
    }
   ],
   "source": [
    "moviesIds = set(movies_df.index)\n",
    "len(moviesIds)"
   ]
  },
  {
   "cell_type": "code",
   "execution_count": 52,
   "id": "be535154",
   "metadata": {},
   "outputs": [
    {
     "output_type": "execute_result",
     "data": {
      "text/plain": [
       "          userId  movieId  rating\n",
       "0              1      296     5.0\n",
       "1              1      306     3.5\n",
       "2              1      307     5.0\n",
       "3              1      665     5.0\n",
       "4              1      899     3.5\n",
       "...          ...      ...     ...\n",
       "25000090  162541    50872     4.5\n",
       "25000091  162541    55768     2.5\n",
       "25000092  162541    56176     2.0\n",
       "25000093  162541    58559     4.0\n",
       "25000094  162541    63876     5.0\n",
       "\n",
       "[24859484 rows x 3 columns]"
      ],
      "text/html": "<div>\n<style scoped>\n    .dataframe tbody tr th:only-of-type {\n        vertical-align: middle;\n    }\n\n    .dataframe tbody tr th {\n        vertical-align: top;\n    }\n\n    .dataframe thead th {\n        text-align: right;\n    }\n</style>\n<table border=\"1\" class=\"dataframe\">\n  <thead>\n    <tr style=\"text-align: right;\">\n      <th></th>\n      <th>userId</th>\n      <th>movieId</th>\n      <th>rating</th>\n    </tr>\n  </thead>\n  <tbody>\n    <tr>\n      <th>0</th>\n      <td>1</td>\n      <td>296</td>\n      <td>5.0</td>\n    </tr>\n    <tr>\n      <th>1</th>\n      <td>1</td>\n      <td>306</td>\n      <td>3.5</td>\n    </tr>\n    <tr>\n      <th>2</th>\n      <td>1</td>\n      <td>307</td>\n      <td>5.0</td>\n    </tr>\n    <tr>\n      <th>3</th>\n      <td>1</td>\n      <td>665</td>\n      <td>5.0</td>\n    </tr>\n    <tr>\n      <th>4</th>\n      <td>1</td>\n      <td>899</td>\n      <td>3.5</td>\n    </tr>\n    <tr>\n      <th>...</th>\n      <td>...</td>\n      <td>...</td>\n      <td>...</td>\n    </tr>\n    <tr>\n      <th>25000090</th>\n      <td>162541</td>\n      <td>50872</td>\n      <td>4.5</td>\n    </tr>\n    <tr>\n      <th>25000091</th>\n      <td>162541</td>\n      <td>55768</td>\n      <td>2.5</td>\n    </tr>\n    <tr>\n      <th>25000092</th>\n      <td>162541</td>\n      <td>56176</td>\n      <td>2.0</td>\n    </tr>\n    <tr>\n      <th>25000093</th>\n      <td>162541</td>\n      <td>58559</td>\n      <td>4.0</td>\n    </tr>\n    <tr>\n      <th>25000094</th>\n      <td>162541</td>\n      <td>63876</td>\n      <td>5.0</td>\n    </tr>\n  </tbody>\n</table>\n<p>24859484 rows × 3 columns</p>\n</div>"
     },
     "metadata": {},
     "execution_count": 52
    }
   ],
   "source": [
    "ratings_df = ratings_df[ratings_df[\"movieId\"].map(lambda id: id in moviesIds)]\n",
    "ratings_df"
   ]
  },
  {
   "cell_type": "code",
   "execution_count": 53,
   "id": "848490a6",
   "metadata": {},
   "outputs": [],
   "source": [
    "ratings_df.to_csv(\"rating_features1.csv\")"
   ]
  },
  {
   "cell_type": "code",
   "execution_count": null,
   "id": "c74e4598",
   "metadata": {},
   "outputs": [],
   "source": []
  }
 ],
 "metadata": {
  "kernelspec": {
   "name": "python3",
   "display_name": "Python 3.8.8 64-bit ('psiml2021': conda)"
  },
  "language_info": {
   "codemirror_mode": {
    "name": "ipython",
    "version": 3
   },
   "file_extension": ".py",
   "mimetype": "text/x-python",
   "name": "python",
   "nbconvert_exporter": "python",
   "pygments_lexer": "ipython3",
   "version": "3.8.8"
  },
  "interpreter": {
   "hash": "69a205db9aae4119a42a9d80f3530e8403e32af34de8d4ddc40822022be891a5"
  }
 },
 "nbformat": 4,
 "nbformat_minor": 5
}