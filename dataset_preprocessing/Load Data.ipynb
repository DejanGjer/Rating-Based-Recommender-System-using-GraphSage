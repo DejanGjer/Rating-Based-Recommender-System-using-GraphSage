{
 "cells": [
  {
   "cell_type": "code",
   "execution_count": 1,
   "source": [
    "import numpy as np\r\n",
    "import pandas as pd\r\n",
    "import json\r\n",
    "import gc\r\n",
    "from collections import defaultdict\r\n",
    "import sys\r\n",
    "from enum import Enum\r\n",
    "import random\r\n",
    "import pickle\r\n",
    "\r\n",
    "random.seed(824)\r\n",
    "\r\n",
    "print(\"Setup complete!\")"
   ],
   "outputs": [
    {
     "output_type": "stream",
     "name": "stdout",
     "text": [
      "Setup complete!\n"
     ]
    }
   ],
   "metadata": {}
  },
  {
   "cell_type": "code",
   "execution_count": 2,
   "source": [
    "ml_ratings_file = \"rating_features-small.csv\"\r\n",
    "ratings_df = pd.read_csv(ml_ratings_file)\r\n",
    "ratings_df"
   ],
   "outputs": [
    {
     "output_type": "execute_result",
     "data": {
      "text/plain": [
       "        Unnamed: 0  userId  movieId  rating\n",
       "0             4446       1       32     5.0\n",
       "1             4447       1      253     5.0\n",
       "2             4448       1      260     5.0\n",
       "3             4449       1      292     3.0\n",
       "4             4450       1      316     5.0\n",
       "...            ...     ...      ...     ...\n",
       "723899    24982749    4891     5992     4.0\n",
       "723900    24982750    4891     6027     5.0\n",
       "723901    24982751    4891     6242     3.5\n",
       "723902    24982753    4891     6345     4.0\n",
       "723903    24982755    4891     6502     3.0\n",
       "\n",
       "[723904 rows x 4 columns]"
      ],
      "text/html": [
       "<div>\n",
       "<style scoped>\n",
       "    .dataframe tbody tr th:only-of-type {\n",
       "        vertical-align: middle;\n",
       "    }\n",
       "\n",
       "    .dataframe tbody tr th {\n",
       "        vertical-align: top;\n",
       "    }\n",
       "\n",
       "    .dataframe thead th {\n",
       "        text-align: right;\n",
       "    }\n",
       "</style>\n",
       "<table border=\"1\" class=\"dataframe\">\n",
       "  <thead>\n",
       "    <tr style=\"text-align: right;\">\n",
       "      <th></th>\n",
       "      <th>Unnamed: 0</th>\n",
       "      <th>userId</th>\n",
       "      <th>movieId</th>\n",
       "      <th>rating</th>\n",
       "    </tr>\n",
       "  </thead>\n",
       "  <tbody>\n",
       "    <tr>\n",
       "      <th>0</th>\n",
       "      <td>4446</td>\n",
       "      <td>1</td>\n",
       "      <td>32</td>\n",
       "      <td>5.0</td>\n",
       "    </tr>\n",
       "    <tr>\n",
       "      <th>1</th>\n",
       "      <td>4447</td>\n",
       "      <td>1</td>\n",
       "      <td>253</td>\n",
       "      <td>5.0</td>\n",
       "    </tr>\n",
       "    <tr>\n",
       "      <th>2</th>\n",
       "      <td>4448</td>\n",
       "      <td>1</td>\n",
       "      <td>260</td>\n",
       "      <td>5.0</td>\n",
       "    </tr>\n",
       "    <tr>\n",
       "      <th>3</th>\n",
       "      <td>4449</td>\n",
       "      <td>1</td>\n",
       "      <td>292</td>\n",
       "      <td>3.0</td>\n",
       "    </tr>\n",
       "    <tr>\n",
       "      <th>4</th>\n",
       "      <td>4450</td>\n",
       "      <td>1</td>\n",
       "      <td>316</td>\n",
       "      <td>5.0</td>\n",
       "    </tr>\n",
       "    <tr>\n",
       "      <th>...</th>\n",
       "      <td>...</td>\n",
       "      <td>...</td>\n",
       "      <td>...</td>\n",
       "      <td>...</td>\n",
       "    </tr>\n",
       "    <tr>\n",
       "      <th>723899</th>\n",
       "      <td>24982749</td>\n",
       "      <td>4891</td>\n",
       "      <td>5992</td>\n",
       "      <td>4.0</td>\n",
       "    </tr>\n",
       "    <tr>\n",
       "      <th>723900</th>\n",
       "      <td>24982750</td>\n",
       "      <td>4891</td>\n",
       "      <td>6027</td>\n",
       "      <td>5.0</td>\n",
       "    </tr>\n",
       "    <tr>\n",
       "      <th>723901</th>\n",
       "      <td>24982751</td>\n",
       "      <td>4891</td>\n",
       "      <td>6242</td>\n",
       "      <td>3.5</td>\n",
       "    </tr>\n",
       "    <tr>\n",
       "      <th>723902</th>\n",
       "      <td>24982753</td>\n",
       "      <td>4891</td>\n",
       "      <td>6345</td>\n",
       "      <td>4.0</td>\n",
       "    </tr>\n",
       "    <tr>\n",
       "      <th>723903</th>\n",
       "      <td>24982755</td>\n",
       "      <td>4891</td>\n",
       "      <td>6502</td>\n",
       "      <td>3.0</td>\n",
       "    </tr>\n",
       "  </tbody>\n",
       "</table>\n",
       "<p>723904 rows × 4 columns</p>\n",
       "</div>"
      ]
     },
     "metadata": {},
     "execution_count": 2
    }
   ],
   "metadata": {}
  },
  {
   "cell_type": "code",
   "execution_count": 3,
   "source": [
    "users = set(ratings_df[\"userId\"])\r\n",
    "num_of_users = len(users)\r\n",
    "num_of_users"
   ],
   "outputs": [
    {
     "output_type": "execute_result",
     "data": {
      "text/plain": [
       "4891"
      ]
     },
     "metadata": {},
     "execution_count": 3
    }
   ],
   "metadata": {}
  },
  {
   "cell_type": "code",
   "execution_count": 4,
   "source": [
    "user_rating_counts = ratings_df[\"userId\"].value_counts().rename_axis('userId').reset_index(name='counts')\r\n",
    "user_rating_counts"
   ],
   "outputs": [
    {
     "output_type": "execute_result",
     "data": {
      "text/plain": [
       "      userId  counts\n",
       "0       4508    3507\n",
       "1        880    3346\n",
       "2       2550    2964\n",
       "3       4462    2627\n",
       "4       3346    2565\n",
       "...      ...     ...\n",
       "4886    4082      18\n",
       "4887    1102      18\n",
       "4888    3659      15\n",
       "4889    3762      15\n",
       "4890    2901      10\n",
       "\n",
       "[4891 rows x 2 columns]"
      ],
      "text/html": [
       "<div>\n",
       "<style scoped>\n",
       "    .dataframe tbody tr th:only-of-type {\n",
       "        vertical-align: middle;\n",
       "    }\n",
       "\n",
       "    .dataframe tbody tr th {\n",
       "        vertical-align: top;\n",
       "    }\n",
       "\n",
       "    .dataframe thead th {\n",
       "        text-align: right;\n",
       "    }\n",
       "</style>\n",
       "<table border=\"1\" class=\"dataframe\">\n",
       "  <thead>\n",
       "    <tr style=\"text-align: right;\">\n",
       "      <th></th>\n",
       "      <th>userId</th>\n",
       "      <th>counts</th>\n",
       "    </tr>\n",
       "  </thead>\n",
       "  <tbody>\n",
       "    <tr>\n",
       "      <th>0</th>\n",
       "      <td>4508</td>\n",
       "      <td>3507</td>\n",
       "    </tr>\n",
       "    <tr>\n",
       "      <th>1</th>\n",
       "      <td>880</td>\n",
       "      <td>3346</td>\n",
       "    </tr>\n",
       "    <tr>\n",
       "      <th>2</th>\n",
       "      <td>2550</td>\n",
       "      <td>2964</td>\n",
       "    </tr>\n",
       "    <tr>\n",
       "      <th>3</th>\n",
       "      <td>4462</td>\n",
       "      <td>2627</td>\n",
       "    </tr>\n",
       "    <tr>\n",
       "      <th>4</th>\n",
       "      <td>3346</td>\n",
       "      <td>2565</td>\n",
       "    </tr>\n",
       "    <tr>\n",
       "      <th>...</th>\n",
       "      <td>...</td>\n",
       "      <td>...</td>\n",
       "    </tr>\n",
       "    <tr>\n",
       "      <th>4886</th>\n",
       "      <td>4082</td>\n",
       "      <td>18</td>\n",
       "    </tr>\n",
       "    <tr>\n",
       "      <th>4887</th>\n",
       "      <td>1102</td>\n",
       "      <td>18</td>\n",
       "    </tr>\n",
       "    <tr>\n",
       "      <th>4888</th>\n",
       "      <td>3659</td>\n",
       "      <td>15</td>\n",
       "    </tr>\n",
       "    <tr>\n",
       "      <th>4889</th>\n",
       "      <td>3762</td>\n",
       "      <td>15</td>\n",
       "    </tr>\n",
       "    <tr>\n",
       "      <th>4890</th>\n",
       "      <td>2901</td>\n",
       "      <td>10</td>\n",
       "    </tr>\n",
       "  </tbody>\n",
       "</table>\n",
       "<p>4891 rows × 2 columns</p>\n",
       "</div>"
      ]
     },
     "metadata": {},
     "execution_count": 4
    }
   ],
   "metadata": {}
  },
  {
   "cell_type": "code",
   "execution_count": 5,
   "source": [
    "valid = True\r\n",
    "def check_valid_users(row):\r\n",
    "    if row[\"counts\"] < 5:\r\n",
    "        print(row[\"userId\"])\r\n",
    "        valid = False\r\n",
    "user_rating_counts.apply(check_valid_users, axis=1)\r\n",
    "print(valid)"
   ],
   "outputs": [
    {
     "output_type": "stream",
     "name": "stdout",
     "text": [
      "True\n"
     ]
    }
   ],
   "metadata": {}
  },
  {
   "cell_type": "code",
   "execution_count": 6,
   "source": [
    "\r\n",
    "class Split(Enum):\r\n",
    "    TRAIN = 1\r\n",
    "    VALID = 2\r\n",
    "    TEST = 3\r\n",
    "\r\n",
    "def build_edges(row):\r\n",
    "    user_id = int(row[\"userId\"])\r\n",
    "    movie_id = int(row[\"movieId\"])\r\n",
    "    user = user_id - 1\r\n",
    "    movie = movie_map[movie_id]\r\n",
    "    rating = row[\"rating\"]\r\n",
    "    split = random.choices(list(Split), weights=(70,10,20), k=1)[0].value\r\n",
    "    movie_adj_list_test[movie].add((user, rating))\r\n",
    "    user_adj_list_test[user].add((movie, rating))\r\n",
    "    if split == Split.TEST.value:\r\n",
    "        edge_list_test.append((user, movie, rating))\r\n",
    "    elif split == Split.VALID.value:\r\n",
    "        movie_adj_list_valid[movie].add((user, rating))\r\n",
    "        user_adj_list_valid[user].add((movie, rating))\r\n",
    "        edge_list_valid.append((user, movie, rating))\r\n",
    "    elif split == Split.TRAIN.value:\r\n",
    "        movie_adj_list_valid[movie].add((user, rating))\r\n",
    "        user_adj_list_valid[user].add((movie, rating))\r\n",
    "        movie_adj_list_train[movie].add((user, rating))\r\n",
    "        user_adj_list_train[user].add((movie, rating))\r\n",
    "        edge_list_train.append((user, movie, rating))\r\n",
    "    "
   ],
   "outputs": [],
   "metadata": {}
  },
  {
   "cell_type": "code",
   "execution_count": 7,
   "source": [
    "ml_movies_file = \"movie_features-small.csv\"\r\n",
    "movies_df = pd.read_csv(ml_movies_file)\r\n",
    "\r\n",
    "user_feat = []\r\n",
    "movie_map = {} # map movieId to position in movies_feat\r\n",
    "\r\n",
    "movies_feat = movies_df.iloc[:, 1:].to_numpy().tolist()\r\n",
    "\r\n",
    "i = 0\r\n",
    "for idx in movies_df.movieId:\r\n",
    "\tmovie_map[int(idx)] = i\r\n",
    "\ti += 1\r\n",
    "\r\n",
    "del movies_df\r\n",
    "gc.collect()\r\n",
    "\r\n",
    "num_of_movies = len(movies_feat)\r\n",
    "\r\n",
    "#ml_ratings_file = \"rating_features1.csv\"\r\n",
    "#ratings_df = pd.read_csv(ml_ratings_file)\r\n",
    "\r\n",
    "movie_adj_list_train = [set() for _ in range(num_of_movies)]\r\n",
    "movie_adj_list_valid = [set() for _ in range(num_of_movies)]\r\n",
    "movie_adj_list_test = [set() for _ in range(num_of_movies)]\r\n",
    "user_adj_list_train = [set() for _ in range(num_of_users)]\r\n",
    "user_adj_list_valid = [set() for _ in range(num_of_users)]\r\n",
    "user_adj_list_test = [set() for _ in range(num_of_users)]\r\n",
    "edge_list_train = []\r\n",
    "edge_list_valid = []\r\n",
    "edge_list_test = []\r\n",
    "\r\n",
    "ratings_df.apply(build_edges, axis=1)\r\n",
    "\r\n",
    "del ratings_df\r\n",
    "gc.collect()\r\n",
    "\r\n"
   ],
   "outputs": [
    {
     "output_type": "execute_result",
     "data": {
      "text/plain": [
       "0"
      ]
     },
     "metadata": {},
     "execution_count": 7
    }
   ],
   "metadata": {}
  },
  {
   "cell_type": "code",
   "execution_count": 8,
   "source": [
    "print(len(movies_feat))\r\n",
    "print(len(movies_feat[0]))\r\n",
    "print(len(movie_adj_list_train))\r\n",
    "print(len(movie_adj_list_valid))\r\n",
    "print(len(movie_adj_list_test))\r\n",
    "print(len(user_adj_list_train))\r\n",
    "print(len(user_adj_list_valid))\r\n",
    "print(len(user_adj_list_test))\r\n",
    "print(len(edge_list_train))\r\n",
    "print(len(edge_list_valid))\r\n",
    "print(len(edge_list_test))"
   ],
   "outputs": [
    {
     "output_type": "stream",
     "name": "stdout",
     "text": [
      "8726\n",
      "4564\n",
      "8726\n",
      "8726\n",
      "8726\n",
      "4891\n",
      "4891\n",
      "4891\n",
      "506526\n",
      "72332\n",
      "145046\n"
     ]
    }
   ],
   "metadata": {}
  },
  {
   "cell_type": "code",
   "execution_count": 14,
   "source": [
    "def find_in_valid(movie):\r\n",
    "    j = 0\r\n",
    "    user = None\r\n",
    "    rating = None\r\n",
    "    for edge in edge_list_valid:\r\n",
    "        if movie == edge[1]:\r\n",
    "            user = edge[0]\r\n",
    "            rating = edge[2]\r\n",
    "            break\r\n",
    "        j += 1\r\n",
    "    return (user, movie, rating)\r\n",
    "\r\n",
    "def find_in_test(movie):\r\n",
    "    j = 0\r\n",
    "    user = None\r\n",
    "    rating = None\r\n",
    "    for edge in edge_list_test:\r\n",
    "        if movie == edge[1]:\r\n",
    "            user = edge[0]\r\n",
    "            rating = edge[2]\r\n",
    "            break\r\n",
    "        j += 1\r\n",
    "    return (user, movie, rating)\r\n",
    "\r\n",
    "def update_valid(el):\r\n",
    "    edge_list_valid.remove(el)\r\n",
    "    edge_list_train.append(el)\r\n",
    "    movie_adj_list_train[el[1]].add((el[0], el[2]))\r\n",
    "    user_adj_list_train[el[0]].add((el[1], el[2]))\r\n",
    "\r\n",
    "def update_test(el):\r\n",
    "    edge_list_test.remove(el)\r\n",
    "    edge_list_train.append(el)\r\n",
    "    movie_adj_list_train[el[1]].add((el[0], el[2]))\r\n",
    "    user_adj_list_train[el[0]].add((el[1], el[2]))\r\n",
    "\r\n",
    "neg_idx = []\r\n",
    "i = 0\r\n",
    "for neigh in movie_adj_list_train:\r\n",
    "    if len(neigh) < 2:\r\n",
    "        neg_idx.append(i)\r\n",
    "    i += 1\r\n",
    "print(neg_idx)\r\n"
   ],
   "outputs": [
    {
     "output_type": "stream",
     "name": "stdout",
     "text": [
      "[]\n"
     ]
    }
   ],
   "metadata": {}
  },
  {
   "cell_type": "code",
   "execution_count": 13,
   "source": [
    "for idx in neg_idx:\r\n",
    "    print(\"For idx\")\r\n",
    "    edge1 = find_in_test(idx)\r\n",
    "    print(f\"Edge 1: {edge1}\")\r\n",
    "    if edge1[0] != None:\r\n",
    "        update_test(edge1)\r\n",
    "    if len(movie_adj_list_train[idx]) < 2:\r\n",
    "        edge2 = find_in_valid(idx)\r\n",
    "        print(f\"Edge 2: {edge2}\")\r\n",
    "        update_valid(edge2)"
   ],
   "outputs": [
    {
     "output_type": "stream",
     "name": "stdout",
     "text": [
      "For idx\n",
      "Edge 1: (None, 5268, None)\n",
      "Edge 2: (2382, 5268, 3.0)\n",
      "For idx\n",
      "Edge 1: (373, 5322, 3.0)\n",
      "For idx\n",
      "Edge 1: (946, 5629, 1.0)\n",
      "For idx\n",
      "Edge 1: (4507, 5676, 3.5)\n",
      "Edge 2: (1346, 5676, 2.0)\n",
      "For idx\n",
      "Edge 1: (2525, 5704, 5.0)\n",
      "For idx\n",
      "Edge 1: (2171, 5716, 3.0)\n",
      "For idx\n",
      "Edge 1: (3051, 5858, 4.0)\n",
      "For idx\n",
      "Edge 1: (879, 5987, 2.5)\n",
      "For idx\n",
      "Edge 1: (951, 6196, 0.5)\n",
      "For idx\n",
      "Edge 1: (879, 6550, 1.5)\n",
      "For idx\n",
      "Edge 1: (879, 6771, 2.5)\n",
      "For idx\n",
      "Edge 1: (879, 6839, 3.0)\n",
      "For idx\n",
      "Edge 1: (713, 7286, 3.5)\n",
      "For idx\n",
      "Edge 1: (135, 7298, 3.0)\n",
      "For idx\n",
      "Edge 1: (3044, 7455, 5.0)\n",
      "For idx\n",
      "Edge 1: (510, 7577, 3.0)\n",
      "For idx\n",
      "Edge 1: (946, 7636, 4.5)\n",
      "For idx\n",
      "Edge 1: (879, 7833, 2.5)\n",
      "For idx\n",
      "Edge 1: (879, 8119, 1.5)\n",
      "For idx\n",
      "Edge 1: (1175, 8186, 3.0)\n",
      "For idx\n",
      "Edge 1: (713, 8196, 2.5)\n",
      "For idx\n",
      "Edge 1: (370, 8505, 5.0)\n"
     ]
    }
   ],
   "metadata": {}
  },
  {
   "cell_type": "code",
   "execution_count": 15,
   "source": [
    "def find_in_valid(user):\r\n",
    "    j = 0\r\n",
    "    user = None\r\n",
    "    rating = None\r\n",
    "    for edge in edge_list_valid:\r\n",
    "        if user == edge[0]:\r\n",
    "            movie = edge[1]\r\n",
    "            rating = edge[2]\r\n",
    "            break\r\n",
    "        j += 1\r\n",
    "    return (user, movie, rating)\r\n",
    "\r\n",
    "def find_in_test(user):\r\n",
    "    j = 0\r\n",
    "    user = None\r\n",
    "    rating = None\r\n",
    "    for edge in edge_list_test:\r\n",
    "        if user == edge[0]:\r\n",
    "            movie = edge[1]\r\n",
    "            rating = edge[2]\r\n",
    "            break\r\n",
    "        j += 1\r\n",
    "    return (user, movie, rating)\r\n",
    "\r\n",
    "neg_idx = []\r\n",
    "i = 0\r\n",
    "for neigh in user_adj_list_train:\r\n",
    "    if len(neigh) < 2:\r\n",
    "        neg_idx.append(i)\r\n",
    "    i += 1\r\n",
    "print(neg_idx)"
   ],
   "outputs": [
    {
     "output_type": "stream",
     "name": "stdout",
     "text": [
      "[]\n"
     ]
    }
   ],
   "metadata": {}
  },
  {
   "cell_type": "code",
   "execution_count": 40,
   "source": [
    "train = 0\r\n",
    "valid = 0\r\n",
    "test = 0\r\n",
    "for i in range(100):\r\n",
    "    split = random.choices(list(Split), weights=(70,10,20), k=1)[0].value\r\n",
    "    if split == Split.TRAIN.value:\r\n",
    "       train += 1\r\n",
    "    elif split == Split.VALID.value:\r\n",
    "        valid += 1\r\n",
    "    elif split == Split.TEST.value:\r\n",
    "        test += 1\r\n",
    "print(f\"train: {train}\")\r\n",
    "print(f\"valid: {valid}\")\r\n",
    "print(f\"test: {test}\")"
   ],
   "outputs": [
    {
     "output_type": "stream",
     "name": "stdout",
     "text": [
      "train: 71\n",
      "valid: 8\n",
      "test: 21\n"
     ]
    }
   ],
   "metadata": {}
  },
  {
   "cell_type": "code",
   "execution_count": 16,
   "source": [
    "data = dict()\r\n",
    "data[\"movies_feat\"] = movies_feat\r\n",
    "data[\"movie_map\"] = movie_map\r\n",
    "data[\"movie_adj_list_train\"] = movie_adj_list_train\r\n",
    "data[\"movie_adj_list_valid\"] = movie_adj_list_valid\r\n",
    "data[\"movie_adj_list_test\"] = movie_adj_list_test\r\n",
    "data[\"user_adj_list_train\"] = user_adj_list_train\r\n",
    "data[\"user_adj_list_valid\"] = user_adj_list_valid\r\n",
    "data[\"user_adj_list_test\"] = user_adj_list_test\r\n",
    "data[\"edge_list_train\"] = edge_list_train\r\n",
    "data[\"edge_list_valid\"] = edge_list_valid\r\n",
    "data[\"edge_list_test\"] = edge_list_test\r\n",
    "\r\n",
    "a_file = open(\"prepared_data/data-small.pkl\", \"wb\")\r\n",
    "pickle.dump(data, a_file)\r\n",
    "a_file.close()\r\n"
   ],
   "outputs": [],
   "metadata": {}
  },
  {
   "cell_type": "code",
   "execution_count": 8,
   "source": [
    "a_file = open(\"prepared_data/data1.pkl\", \"rb\")\r\n",
    "data = pickle.load(a_file)\r\n",
    "a_file.close()\r\n",
    "movies_feat = data[\"movies_feat\"]\r\n",
    "movie_map = data[\"movie_map\"]\r\n",
    "movie_adj_list = data[\"movie_adj_list\"]\r\n",
    "user_adj_list = data[\"user_adj_list\"]\r\n",
    "edge_list = data[\"edge_list\"]"
   ],
   "outputs": [],
   "metadata": {}
  },
  {
   "cell_type": "code",
   "execution_count": 15,
   "source": [
    "print(len(user_adj_list))"
   ],
   "outputs": [
    {
     "output_type": "stream",
     "name": "stdout",
     "text": [
      "162541\n"
     ]
    }
   ],
   "metadata": {}
  },
  {
   "cell_type": "code",
   "execution_count": 6,
   "source": [
    "list(Split)"
   ],
   "outputs": [
    {
     "output_type": "execute_result",
     "data": {
      "text/plain": [
       "[<Split.TRAIN: 1>, <Split.VALID: 2>, <Split.TEST: 3>]"
      ]
     },
     "metadata": {},
     "execution_count": 6
    }
   ],
   "metadata": {}
  },
  {
   "cell_type": "code",
   "execution_count": 4,
   "source": [
    "dictionary_data = {\"a\": [4,5], \"b\": {\"g\": [1,7]}}\r\n",
    "\r\n",
    "a_file = open(\"prepared_data/data.pkl\", \"wb\")\r\n",
    "pickle.dump(dictionary_data, a_file)\r\n",
    "a_file.close()\r\n",
    "\r\n",
    "a_file = open(\"prepared_data/data.pkl\", \"rb\")\r\n",
    "output = pickle.load(a_file)\r\n",
    "print(output)\r\n",
    "a_file.close()"
   ],
   "outputs": [
    {
     "output_type": "stream",
     "name": "stdout",
     "text": [
      "{'a': [4, 5], 'b': {'g': [1, 7]}}\n"
     ]
    }
   ],
   "metadata": {}
  },
  {
   "cell_type": "code",
   "execution_count": null,
   "source": [],
   "outputs": [],
   "metadata": {}
  }
 ],
 "metadata": {
  "kernelspec": {
   "name": "python3",
   "display_name": "Python 3.8.8 64-bit ('psiml2021': conda)"
  },
  "language_info": {
   "codemirror_mode": {
    "name": "ipython",
    "version": 3
   },
   "file_extension": ".py",
   "mimetype": "text/x-python",
   "name": "python",
   "nbconvert_exporter": "python",
   "pygments_lexer": "ipython3",
   "version": "3.8.8"
  },
  "interpreter": {
   "hash": "69a205db9aae4119a42a9d80f3530e8403e32af34de8d4ddc40822022be891a5"
  }
 },
 "nbformat": 4,
 "nbformat_minor": 5
}