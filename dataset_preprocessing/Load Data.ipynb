{
 "cells": [
  {
   "cell_type": "code",
   "execution_count": 50,
   "id": "c47edcea",
   "metadata": {},
   "outputs": [
    {
     "output_type": "stream",
     "name": "stdout",
     "text": [
      "Setup complete!\n"
     ]
    }
   ],
   "source": [
    "import numpy as np\n",
    "import pandas as pd\n",
    "import json\n",
    "import gc\n",
    "from collections import defaultdict\n",
    "import sys\n",
    "from enum import Enum\n",
    "import random\n",
    "import pickle\n",
    "\n",
    "random.seed(824)\n",
    "\n",
    "print(\"Setup complete!\")"
   ]
  },
  {
   "cell_type": "code",
   "execution_count": 51,
   "metadata": {},
   "outputs": [
    {
     "output_type": "execute_result",
     "data": {
      "text/plain": [
       "          Unnamed: 0  userId  movieId  rating\n",
       "0                  0       1      296     5.0\n",
       "1                  1       1      306     3.5\n",
       "2                  2       1      307     5.0\n",
       "3                  3       1      665     5.0\n",
       "4                  4       1      899     3.5\n",
       "...              ...     ...      ...     ...\n",
       "24859479    25000090  162541    50872     4.5\n",
       "24859480    25000091  162541    55768     2.5\n",
       "24859481    25000092  162541    56176     2.0\n",
       "24859482    25000093  162541    58559     4.0\n",
       "24859483    25000094  162541    63876     5.0\n",
       "\n",
       "[24859484 rows x 4 columns]"
      ],
      "text/html": "<div>\n<style scoped>\n    .dataframe tbody tr th:only-of-type {\n        vertical-align: middle;\n    }\n\n    .dataframe tbody tr th {\n        vertical-align: top;\n    }\n\n    .dataframe thead th {\n        text-align: right;\n    }\n</style>\n<table border=\"1\" class=\"dataframe\">\n  <thead>\n    <tr style=\"text-align: right;\">\n      <th></th>\n      <th>Unnamed: 0</th>\n      <th>userId</th>\n      <th>movieId</th>\n      <th>rating</th>\n    </tr>\n  </thead>\n  <tbody>\n    <tr>\n      <th>0</th>\n      <td>0</td>\n      <td>1</td>\n      <td>296</td>\n      <td>5.0</td>\n    </tr>\n    <tr>\n      <th>1</th>\n      <td>1</td>\n      <td>1</td>\n      <td>306</td>\n      <td>3.5</td>\n    </tr>\n    <tr>\n      <th>2</th>\n      <td>2</td>\n      <td>1</td>\n      <td>307</td>\n      <td>5.0</td>\n    </tr>\n    <tr>\n      <th>3</th>\n      <td>3</td>\n      <td>1</td>\n      <td>665</td>\n      <td>5.0</td>\n    </tr>\n    <tr>\n      <th>4</th>\n      <td>4</td>\n      <td>1</td>\n      <td>899</td>\n      <td>3.5</td>\n    </tr>\n    <tr>\n      <th>...</th>\n      <td>...</td>\n      <td>...</td>\n      <td>...</td>\n      <td>...</td>\n    </tr>\n    <tr>\n      <th>24859479</th>\n      <td>25000090</td>\n      <td>162541</td>\n      <td>50872</td>\n      <td>4.5</td>\n    </tr>\n    <tr>\n      <th>24859480</th>\n      <td>25000091</td>\n      <td>162541</td>\n      <td>55768</td>\n      <td>2.5</td>\n    </tr>\n    <tr>\n      <th>24859481</th>\n      <td>25000092</td>\n      <td>162541</td>\n      <td>56176</td>\n      <td>2.0</td>\n    </tr>\n    <tr>\n      <th>24859482</th>\n      <td>25000093</td>\n      <td>162541</td>\n      <td>58559</td>\n      <td>4.0</td>\n    </tr>\n    <tr>\n      <th>24859483</th>\n      <td>25000094</td>\n      <td>162541</td>\n      <td>63876</td>\n      <td>5.0</td>\n    </tr>\n  </tbody>\n</table>\n<p>24859484 rows × 4 columns</p>\n</div>"
     },
     "metadata": {},
     "execution_count": 51
    }
   ],
   "source": [
    "ml_ratings_file = \"rating_features1.csv\"\n",
    "ratings_df = pd.read_csv(ml_ratings_file)\n",
    "ratings_df"
   ]
  },
  {
   "cell_type": "code",
   "execution_count": 52,
   "metadata": {},
   "outputs": [
    {
     "output_type": "execute_result",
     "data": {
      "text/plain": [
       "162541"
      ]
     },
     "metadata": {},
     "execution_count": 52
    }
   ],
   "source": [
    "users = set(ratings_df[\"userId\"])\n",
    "num_of_users = len(users)\n",
    "num_of_users"
   ]
  },
  {
   "cell_type": "code",
   "execution_count": 45,
   "metadata": {},
   "outputs": [
    {
     "output_type": "execute_result",
     "data": {
      "text/plain": [
       "        userId  counts\n",
       "0        72315   19822\n",
       "1        80974    8566\n",
       "2       137293    8109\n",
       "3        33844    7412\n",
       "4        20055    7352\n",
       "...        ...     ...\n",
       "162536   75043      15\n",
       "162537  121732      15\n",
       "162538  122860      14\n",
       "162539   84947      12\n",
       "162540   10861      10\n",
       "\n",
       "[162541 rows x 2 columns]"
      ],
      "text/html": "<div>\n<style scoped>\n    .dataframe tbody tr th:only-of-type {\n        vertical-align: middle;\n    }\n\n    .dataframe tbody tr th {\n        vertical-align: top;\n    }\n\n    .dataframe thead th {\n        text-align: right;\n    }\n</style>\n<table border=\"1\" class=\"dataframe\">\n  <thead>\n    <tr style=\"text-align: right;\">\n      <th></th>\n      <th>userId</th>\n      <th>counts</th>\n    </tr>\n  </thead>\n  <tbody>\n    <tr>\n      <th>0</th>\n      <td>72315</td>\n      <td>19822</td>\n    </tr>\n    <tr>\n      <th>1</th>\n      <td>80974</td>\n      <td>8566</td>\n    </tr>\n    <tr>\n      <th>2</th>\n      <td>137293</td>\n      <td>8109</td>\n    </tr>\n    <tr>\n      <th>3</th>\n      <td>33844</td>\n      <td>7412</td>\n    </tr>\n    <tr>\n      <th>4</th>\n      <td>20055</td>\n      <td>7352</td>\n    </tr>\n    <tr>\n      <th>...</th>\n      <td>...</td>\n      <td>...</td>\n    </tr>\n    <tr>\n      <th>162536</th>\n      <td>75043</td>\n      <td>15</td>\n    </tr>\n    <tr>\n      <th>162537</th>\n      <td>121732</td>\n      <td>15</td>\n    </tr>\n    <tr>\n      <th>162538</th>\n      <td>122860</td>\n      <td>14</td>\n    </tr>\n    <tr>\n      <th>162539</th>\n      <td>84947</td>\n      <td>12</td>\n    </tr>\n    <tr>\n      <th>162540</th>\n      <td>10861</td>\n      <td>10</td>\n    </tr>\n  </tbody>\n</table>\n<p>162541 rows × 2 columns</p>\n</div>"
     },
     "metadata": {},
     "execution_count": 45
    }
   ],
   "source": [
    "user_rating_counts = ratings_df[\"userId\"].value_counts().rename_axis('userId').reset_index(name='counts')\n",
    "user_rating_counts"
   ]
  },
  {
   "cell_type": "code",
   "execution_count": 47,
   "metadata": {},
   "outputs": [
    {
     "output_type": "stream",
     "name": "stdout",
     "text": [
      "True\n"
     ]
    }
   ],
   "source": [
    "valid = True\n",
    "def check_valid_users(row):\n",
    "    if row[\"counts\"] < 5:\n",
    "        print(row[\"userId\"])\n",
    "        valid = False\n",
    "user_rating_counts.apply(check_valid_users, axis=1)\n",
    "print(valid)"
   ]
  },
  {
   "cell_type": "code",
   "execution_count": 53,
   "id": "2fb8ad03",
   "metadata": {},
   "outputs": [],
   "source": [
    "\n",
    "class Split(Enum):\n",
    "    TRAIN = 1\n",
    "    VALID = 2\n",
    "    TEST = 3\n",
    "\n",
    "def build_edges(row):\n",
    "    user_id = int(row[\"userId\"])\n",
    "    movie_id = int(row[\"movieId\"])\n",
    "    user = user_id - 1\n",
    "    movie = movie_map[movie_id]\n",
    "    rating = row[\"rating\"]\n",
    "    split = random.choices(list(Split), weights=(70,10,20), k=1)[0].value\n",
    "    movie_adj_list_test[movie].add((user, rating))\n",
    "    user_adj_list_test[user].add((movie, rating))\n",
    "    if split == Split.TEST.value:\n",
    "        edge_list_test.append((user, movie, rating))\n",
    "    elif split == Split.VALID.value:\n",
    "        movie_adj_list_valid[movie].add((user, rating))\n",
    "        user_adj_list_valid[user].add((movie, rating))\n",
    "        edge_list_valid.append((user, movie, rating))\n",
    "    elif split == Split.TRAIN.value:\n",
    "        movie_adj_list_valid[movie].add((user, rating))\n",
    "        user_adj_list_valid[user].add((movie, rating))\n",
    "        movie_adj_list_train[movie].add((user, rating))\n",
    "        user_adj_list_train[user].add((movie, rating))\n",
    "        edge_list_train.append((user, movie, rating))\n",
    "    "
   ]
  },
  {
   "cell_type": "code",
   "execution_count": 54,
   "id": "07e1dc5f",
   "metadata": {},
   "outputs": [
    {
     "output_type": "execute_result",
     "data": {
      "text/plain": [
       "0"
      ]
     },
     "metadata": {},
     "execution_count": 54
    }
   ],
   "source": [
    "ml_movies_file = \"movie_features1.csv\"\n",
    "movies_df = pd.read_csv(ml_movies_file)\n",
    "\n",
    "user_feat = []\n",
    "movie_map = {} # map movieId to position in movies_feat\n",
    "\n",
    "movies_feat = movies_df.iloc[:, 1:].to_numpy().tolist()\n",
    "\n",
    "i = 0\n",
    "for idx in movies_df.movieId:\n",
    "\tmovie_map[int(idx)] = i\n",
    "\ti += 1\n",
    "\n",
    "del movies_df\n",
    "gc.collect()\n",
    "\n",
    "num_of_movies = len(movies_feat)\n",
    "\n",
    "#ml_ratings_file = \"rating_features1.csv\"\n",
    "#ratings_df = pd.read_csv(ml_ratings_file)\n",
    "\n",
    "movie_adj_list_train = [set() for _ in range(num_of_movies)]\n",
    "movie_adj_list_valid = [set() for _ in range(num_of_movies)]\n",
    "movie_adj_list_test = [set() for _ in range(num_of_movies)]\n",
    "user_adj_list_train = [set() for _ in range(num_of_users)]\n",
    "user_adj_list_valid = [set() for _ in range(num_of_users)]\n",
    "user_adj_list_test = [set() for _ in range(num_of_users)]\n",
    "edge_list_train = []\n",
    "edge_list_valid = []\n",
    "edge_list_test = []\n",
    "\n",
    "ratings_df.apply(build_edges, axis=1)\n",
    "\n",
    "del ratings_df\n",
    "gc.collect()\n",
    "\n"
   ]
  },
  {
   "cell_type": "code",
   "execution_count": 55,
   "metadata": {},
   "outputs": [
    {
     "output_type": "stream",
     "name": "stdout",
     "text": [
      "27832\n5511\n27832\n27832\n27832\n162541\n162541\n162541\n17402244\n2485517\n4971723\n"
     ]
    }
   ],
   "source": [
    "print(len(movies_feat))\n",
    "print(len(movies_feat[0]))\n",
    "print(len(movie_adj_list_train))\n",
    "print(len(movie_adj_list_valid))\n",
    "print(len(movie_adj_list_test))\n",
    "print(len(user_adj_list_train))\n",
    "print(len(user_adj_list_valid))\n",
    "print(len(user_adj_list_test))\n",
    "print(len(edge_list_train))\n",
    "print(len(edge_list_valid))\n",
    "print(len(edge_list_test))"
   ]
  },
  {
   "cell_type": "code",
   "execution_count": 68,
   "metadata": {},
   "outputs": [
    {
     "output_type": "stream",
     "name": "stdout",
     "text": [
      "[]\n"
     ]
    }
   ],
   "source": [
    "def find_in_valid(movie):\n",
    "    j = 0\n",
    "    user = None\n",
    "    rating = None\n",
    "    for edge in edge_list_valid:\n",
    "        if movie == edge[1]:\n",
    "            user = edge[0]\n",
    "            rating = edge[2]\n",
    "            break\n",
    "        j += 1\n",
    "    return (user, movie, rating)\n",
    "\n",
    "def find_in_test(movie):\n",
    "    j = 0\n",
    "    user = None\n",
    "    rating = None\n",
    "    for edge in edge_list_test:\n",
    "        if movie == edge[1]:\n",
    "            user = edge[0]\n",
    "            rating = edge[2]\n",
    "            break\n",
    "        j += 1\n",
    "    return (user, movie, rating)\n",
    "\n",
    "def update_valid(el):\n",
    "    edge_list_valid.remove(el)\n",
    "    edge_list_train.append(el)\n",
    "    movie_adj_list_train[el[1]].add((el[0], el[2]))\n",
    "    user_adj_list_train[el[0]].add((el[1], el[2]))\n",
    "\n",
    "def update_test(el):\n",
    "    edge_list_test.remove(el)\n",
    "    edge_list_train.append(el)\n",
    "    movie_adj_list_train[el[1]].add((el[0], el[2]))\n",
    "    user_adj_list_train[el[0]].add((el[1], el[2]))\n",
    "\n",
    "neg_idx = []\n",
    "i = 0\n",
    "for neigh in movie_adj_list_train:\n",
    "    if len(neigh) < 2:\n",
    "        neg_idx.append(i)\n",
    "    i += 1\n",
    "print(neg_idx)\n"
   ]
  },
  {
   "cell_type": "code",
   "execution_count": 67,
   "metadata": {},
   "outputs": [
    {
     "output_type": "stream",
     "name": "stdout",
     "text": [
      "For idx\n",
      "Edge 1: (49973, 16977, 3.0)\n",
      "For idx\n",
      "Edge 1: (39741, 17096, 1.5)\n",
      "For idx\n",
      "Edge 1: (19462, 17885, 3.0)\n",
      "For idx\n",
      "Edge 1: (14538, 18082, 2.5)\n",
      "For idx\n",
      "Edge 1: (72314, 18427, 3.5)\n",
      "For idx\n",
      "Edge 1: (12856, 18821, 1.5)\n",
      "For idx\n",
      "Edge 1: (11756, 18897, 3.5)\n",
      "For idx\n",
      "Edge 1: (65771, 19657, 3.5)\n",
      "For idx\n",
      "Edge 1: (12263, 19767, 4.0)\n",
      "For idx\n",
      "Edge 1: (39741, 19805, 2.5)\n",
      "For idx\n",
      "Edge 1: (42406, 19837, 4.0)\n",
      "For idx\n",
      "Edge 1: (24609, 20107, 3.5)\n",
      "For idx\n",
      "Edge 1: (22174, 20485, 4.0)\n",
      "For idx\n",
      "Edge 1: (30878, 20792, 3.5)\n",
      "For idx\n",
      "Edge 1: (42485, 20969, 4.0)\n",
      "For idx\n",
      "Edge 1: (34691, 21804, 2.5)\n",
      "For idx\n",
      "Edge 1: (2083, 21968, 4.5)\n",
      "For idx\n",
      "Edge 1: (7864, 22490, 1.0)\n",
      "For idx\n",
      "Edge 1: (72314, 22834, 2.5)\n",
      "For idx\n",
      "Edge 1: (78333, 22943, 3.0)\n",
      "For idx\n",
      "Edge 1: (116134, 22980, 0.5)\n",
      "For idx\n",
      "Edge 1: (14538, 23038, 4.5)\n",
      "Edge 2: (67361, 23038, 5.0)\n",
      "For idx\n",
      "Edge 1: (69810, 23484, 0.5)\n",
      "Edge 2: (19462, 23484, 2.5)\n",
      "For idx\n",
      "Edge 1: (23762, 23864, 3.5)\n",
      "For idx\n",
      "Edge 1: (79192, 24250, 2.5)\n",
      "For idx\n",
      "Edge 1: (24868, 24597, 4.0)\n",
      "For idx\n",
      "Edge 1: (30935, 24716, 3.0)\n",
      "For idx\n",
      "Edge 1: (78783, 24797, 2.0)\n",
      "For idx\n",
      "Edge 1: (23762, 24958, 2.0)\n",
      "For idx\n",
      "Edge 1: (60421, 25163, 2.0)\n",
      "For idx\n",
      "Edge 1: (19462, 25222, 3.5)\n",
      "For idx\n",
      "Edge 1: (24609, 25303, 4.0)\n",
      "For idx\n",
      "Edge 1: (3893, 25375, 0.5)\n",
      "For idx\n",
      "Edge 1: (121960, 25470, 2.0)\n",
      "For idx\n",
      "Edge 1: (46863, 25582, 2.5)\n",
      "For idx\n",
      "Edge 1: (38450, 25911, 1.5)\n",
      "For idx\n",
      "Edge 1: (12856, 26299, 2.0)\n",
      "For idx\n",
      "Edge 1: (21187, 26302, 1.5)\n",
      "For idx\n",
      "Edge 1: (29995, 26561, 4.0)\n",
      "For idx\n",
      "Edge 1: (27559, 26674, 2.0)\n",
      "For idx\n",
      "Edge 1: (72314, 26909, 3.5)\n",
      "For idx\n",
      "Edge 1: (72314, 27007, 3.5)\n",
      "For idx\n",
      "Edge 1: (10622, 27256, 3.0)\n",
      "For idx\n",
      "Edge 1: (10918, 27525, 0.5)\n",
      "For idx\n",
      "Edge 1: (7035, 27744, 1.0)\n"
     ]
    }
   ],
   "source": [
    "for idx in neg_idx:\n",
    "    print(\"For idx\")\n",
    "    edge1 = find_in_test(idx)\n",
    "    print(f\"Edge 1: {edge1}\")\n",
    "    update_test(edge1)\n",
    "    if len(movie_adj_list_train[idx]) < 2:\n",
    "        edge2 = find_in_valid(idx)\n",
    "        print(f\"Edge 2: {edge2}\")\n",
    "        update_valid(edge2)"
   ]
  },
  {
   "cell_type": "code",
   "execution_count": 69,
   "metadata": {},
   "outputs": [
    {
     "output_type": "stream",
     "name": "stdout",
     "text": [
      "[]\n"
     ]
    }
   ],
   "source": [
    "def find_in_valid(user):\n",
    "    j = 0\n",
    "    user = None\n",
    "    rating = None\n",
    "    for edge in edge_list_valid:\n",
    "        if movie == edge[1]:\n",
    "            user = edge[0]\n",
    "            rating = edge[2]\n",
    "            break\n",
    "        j += 1\n",
    "    return (user, movie, rating)\n",
    "\n",
    "def find_in_test(user):\n",
    "    j = 0\n",
    "    user = None\n",
    "    rating = None\n",
    "    for edge in edge_list_test:\n",
    "        if movie == edge[1]:\n",
    "            user = edge[0]\n",
    "            rating = edge[2]\n",
    "            break\n",
    "        j += 1\n",
    "    return (user, movie, rating)\n",
    "\n",
    "neg_idx = []\n",
    "i = 0\n",
    "for neigh in user_adj_list_train:\n",
    "    if len(neigh) < 2:\n",
    "        neg_idx.append(i)\n",
    "    i += 1\n",
    "print(neg_idx)"
   ]
  },
  {
   "cell_type": "code",
   "execution_count": 40,
   "metadata": {},
   "outputs": [
    {
     "output_type": "stream",
     "name": "stdout",
     "text": [
      "train: 71\nvalid: 8\ntest: 21\n"
     ]
    }
   ],
   "source": [
    "train = 0\n",
    "valid = 0\n",
    "test = 0\n",
    "for i in range(100):\n",
    "    split = random.choices(list(Split), weights=(70,10,20), k=1)[0].value\n",
    "    if split == Split.TRAIN.value:\n",
    "       train += 1\n",
    "    elif split == Split.VALID.value:\n",
    "        valid += 1\n",
    "    elif split == Split.TEST.value:\n",
    "        test += 1\n",
    "print(f\"train: {train}\")\n",
    "print(f\"valid: {valid}\")\n",
    "print(f\"test: {test}\")"
   ]
  },
  {
   "cell_type": "code",
   "execution_count": 70,
   "metadata": {},
   "outputs": [],
   "source": [
    "data = dict()\n",
    "data[\"movies_feat\"] = movies_feat\n",
    "data[\"movie_map\"] = movie_map\n",
    "data[\"movie_adj_list_train\"] = movie_adj_list_train\n",
    "data[\"movie_adj_list_valid\"] = movie_adj_list_valid\n",
    "data[\"movie_adj_list_test\"] = movie_adj_list_test\n",
    "data[\"user_adj_list_train\"] = user_adj_list_train\n",
    "data[\"user_adj_list_valid\"] = user_adj_list_valid\n",
    "data[\"user_adj_list_test\"] = user_adj_list_test\n",
    "data[\"edge_list_train\"] = edge_list_train\n",
    "data[\"edge_list_valid\"] = edge_list_valid\n",
    "data[\"edge_list_test\"] = edge_list_test\n",
    "\n",
    "a_file = open(\"prepared_data/data1.pkl\", \"wb\")\n",
    "pickle.dump(data, a_file)\n",
    "a_file.close()\n"
   ]
  },
  {
   "cell_type": "code",
   "execution_count": 8,
   "id": "ea7a01bf",
   "metadata": {},
   "outputs": [],
   "source": [
    "a_file = open(\"prepared_data/data.pkl\", \"rb\")\n",
    "data = pickle.load(a_file)\n",
    "a_file.close()\n",
    "movies_feat = data[\"movies_feat\"]\n",
    "movie_map = data[\"movie_map\"]\n",
    "movie_adj_list = data[\"movie_adj_list\"]\n",
    "user_adj_list = data[\"user_adj_list\"]\n",
    "edge_list = data[\"edge_list\"]"
   ]
  },
  {
   "cell_type": "code",
   "execution_count": 15,
   "id": "90b0765a",
   "metadata": {},
   "outputs": [
    {
     "name": "stdout",
     "output_type": "stream",
     "text": [
      "162541\n"
     ]
    }
   ],
   "source": [
    "print(len(user_adj_list))"
   ]
  },
  {
   "cell_type": "code",
   "execution_count": 6,
   "id": "14ea42f3",
   "metadata": {},
   "outputs": [
    {
     "data": {
      "text/plain": [
       "[<Split.TRAIN: 1>, <Split.VALID: 2>, <Split.TEST: 3>]"
      ]
     },
     "execution_count": 6,
     "metadata": {},
     "output_type": "execute_result"
    }
   ],
   "source": [
    "list(Split)"
   ]
  },
  {
   "cell_type": "code",
   "execution_count": 4,
   "id": "349ab624",
   "metadata": {},
   "outputs": [
    {
     "name": "stdout",
     "output_type": "stream",
     "text": [
      "{'a': [4, 5], 'b': {'g': [1, 7]}}\n"
     ]
    }
   ],
   "source": [
    "dictionary_data = {\"a\": [4,5], \"b\": {\"g\": [1,7]}}\n",
    "\n",
    "a_file = open(\"prepared_data/data.pkl\", \"wb\")\n",
    "pickle.dump(dictionary_data, a_file)\n",
    "a_file.close()\n",
    "\n",
    "a_file = open(\"prepared_data/data.pkl\", \"rb\")\n",
    "output = pickle.load(a_file)\n",
    "print(output)\n",
    "a_file.close()"
   ]
  },
  {
   "cell_type": "code",
   "execution_count": null,
   "id": "cfc2608c",
   "metadata": {},
   "outputs": [],
   "source": []
  }
 ],
 "metadata": {
  "kernelspec": {
   "name": "python3",
   "display_name": "Python 3.8.8 64-bit ('psiml2021': conda)"
  },
  "language_info": {
   "codemirror_mode": {
    "name": "ipython",
    "version": 3
   },
   "file_extension": ".py",
   "mimetype": "text/x-python",
   "name": "python",
   "nbconvert_exporter": "python",
   "pygments_lexer": "ipython3",
   "version": "3.8.8"
  },
  "interpreter": {
   "hash": "69a205db9aae4119a42a9d80f3530e8403e32af34de8d4ddc40822022be891a5"
  }
 },
 "nbformat": 4,
 "nbformat_minor": 5
}