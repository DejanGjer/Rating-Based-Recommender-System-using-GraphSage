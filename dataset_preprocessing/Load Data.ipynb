{
 "cells": [
  {
   "cell_type": "code",
   "execution_count": 5,
   "id": "c47edcea",
   "metadata": {},
   "outputs": [
    {
     "name": "stdout",
     "output_type": "stream",
     "text": [
      "Setup complete!\n"
     ]
    }
   ],
   "source": [
    "import numpy as np\n",
    "import pandas as pd\n",
    "import json\n",
    "import gc\n",
    "from collections import defaultdict\n",
    "import sys\n",
    "from enum import Enum\n",
    "import random\n",
    "import pickle\n",
    "\n",
    "random.seed(824)\n",
    "\n",
    "print(\"Setup complete!\")"
   ]
  },
  {
   "cell_type": "code",
   "execution_count": 6,
   "id": "2fb8ad03",
   "metadata": {},
   "outputs": [],
   "source": [
    "\n",
    "class Split(Enum):\n",
    "    TRAIN = 1\n",
    "    VALID = 2\n",
    "    TEST = 3\n",
    "\n",
    "def build_edges(row):\n",
    "    user_id = int(row[\"userId\"])\n",
    "    movie_id = int(row[\"movieId\"])\n",
    "    user = user_id - 1\n",
    "    movie = movie_map[movie_id]\n",
    "    rating = row[\"rating\"]\n",
    "    split = random.choices(list(Split), weights=(70,10,20), k=1)[0].value\n",
    "    movie_adj_list[movie].add((user, rating, split))\n",
    "    user_adj_list[user].add((movie, rating, split))\n",
    "    edge_list.append((user, movie, rating, split))\n",
    "    \n",
    "    \n",
    "class Data:\n",
    "    def __init__(self, movies_feat, movie_map, movie_adj_list, user_adj_list, edge_list):\n",
    "        self.movies_feat = movies_feat\n",
    "        self.movie_map = movie_map\n",
    "        self.movie_adj_list = movie_adj_list\n",
    "        self.user_adj_list = user_adj_list\n",
    "        self.edge_list = edge_list"
   ]
  },
  {
   "cell_type": "code",
   "execution_count": 7,
   "id": "07e1dc5f",
   "metadata": {},
   "outputs": [],
   "source": [
    "ml_movies_file = \"movie_features.csv\"\n",
    "movies_df = pd.read_csv(ml_movies_file)\n",
    "\n",
    "user_feat = []\n",
    "movie_map = {} # map movieId to position in movies_feat\n",
    "\n",
    "movies_feat = movies_df.iloc[:, 1:].to_numpy().tolist()\n",
    "\n",
    "i = 0\n",
    "for idx in movies_df.movieId:\n",
    "\tmovie_map[int(idx)] = i\n",
    "\ti += 1\n",
    "\n",
    "del movies_df\n",
    "gc.collect()\n",
    "\n",
    "ml_ratings_file = \"rating_features.csv\"\n",
    "ratings_df = pd.read_csv(ml_ratings_file)\n",
    "\n",
    "movie_adj_list = defaultdict(set)\n",
    "user_adj_list = defaultdict(set)\n",
    "edge_list = []\n",
    "\n",
    "ratings_df.apply(build_edges, axis=1)\n",
    "\n",
    "del ratings_df\n",
    "gc.collect()\n",
    "\n",
    "data = dict()\n",
    "data[\"movies_feat\"] = movies_feat\n",
    "data[\"movie_map\"] = movie_map\n",
    "data[\"movie_adj_list\"] = movie_adj_list\n",
    "data[\"user_adj_list\"] = user_adj_list\n",
    "data[\"edge_list\"] = edge_list\n",
    "\n",
    "a_file = open(\"prepared_data/data.pkl\", \"wb\")\n",
    "pickle.dump(data, a_file)\n",
    "a_file.close()\n"
   ]
  },
  {
   "cell_type": "code",
   "execution_count": 12,
   "id": "c0e03982",
   "metadata": {},
   "outputs": [
    {
     "ename": "NameError",
     "evalue": "name 'close' is not defined",
     "output_type": "error",
     "traceback": [
      "\u001b[1;31m---------------------------------------------------------------------------\u001b[0m",
      "\u001b[1;31mNameError\u001b[0m                                 Traceback (most recent call last)",
      "\u001b[1;32m<ipython-input-12-3ff5cc2c9e11>\u001b[0m in \u001b[0;36m<module>\u001b[1;34m\u001b[0m\n\u001b[0;32m      5\u001b[0m \u001b[1;32mwith\u001b[0m \u001b[0mopen\u001b[0m\u001b[1;33m(\u001b[0m\u001b[1;34m'app.json'\u001b[0m\u001b[1;33m,\u001b[0m \u001b[1;34m'w'\u001b[0m\u001b[1;33m)\u001b[0m \u001b[1;32mas\u001b[0m \u001b[0mf\u001b[0m\u001b[1;33m:\u001b[0m\u001b[1;33m\u001b[0m\u001b[1;33m\u001b[0m\u001b[0m\n\u001b[0;32m      6\u001b[0m     \u001b[0mjson\u001b[0m\u001b[1;33m.\u001b[0m\u001b[0mdump\u001b[0m\u001b[1;33m(\u001b[0m\u001b[0mdata\u001b[0m\u001b[1;33m,\u001b[0m \u001b[0mf\u001b[0m\u001b[1;33m)\u001b[0m\u001b[1;33m\u001b[0m\u001b[1;33m\u001b[0m\u001b[0m\n\u001b[1;32m----> 7\u001b[1;33m     \u001b[0mclose\u001b[0m\u001b[1;33m(\u001b[0m\u001b[1;33m)\u001b[0m\u001b[1;33m\u001b[0m\u001b[1;33m\u001b[0m\u001b[0m\n\u001b[0m",
      "\u001b[1;31mNameError\u001b[0m: name 'close' is not defined"
     ]
    }
   ],
   "source": [
    "import json\n",
    "\n",
    "data = [1, 5, 7, 2]\n",
    "\n",
    "with open('app.json', 'w') as f:\n",
    "    json.dump(data, f)"
   ]
  },
  {
   "cell_type": "code",
   "execution_count": 11,
   "id": "aeb10eef",
   "metadata": {},
   "outputs": [
    {
     "name": "stdout",
     "output_type": "stream",
     "text": [
      "[1, 5, 7, 2]\n"
     ]
    }
   ],
   "source": [
    "with open('app.json', 'r') as f:\n",
    "    data = json.load(f)\n",
    "print(data)"
   ]
  },
  {
   "cell_type": "code",
   "execution_count": 8,
   "id": "ea7a01bf",
   "metadata": {},
   "outputs": [],
   "source": [
    "a_file = open(\"prepared_data/data.pkl\", \"rb\")\n",
    "data = pickle.load(a_file)\n",
    "a_file.close()\n",
    "movies_feat = data[\"movies_feat\"]\n",
    "movie_map = data[\"movie_map\"]\n",
    "movie_adj_list = data[\"movie_adj_list\"]\n",
    "user_adj_list = data[\"user_adj_list\"]\n",
    "edge_list = data[\"edge_list\"]"
   ]
  },
  {
   "cell_type": "code",
   "execution_count": 15,
   "id": "90b0765a",
   "metadata": {},
   "outputs": [
    {
     "name": "stdout",
     "output_type": "stream",
     "text": [
      "162541\n"
     ]
    }
   ],
   "source": [
    "print(len(user_adj_list))"
   ]
  },
  {
   "cell_type": "code",
   "execution_count": 6,
   "id": "14ea42f3",
   "metadata": {},
   "outputs": [
    {
     "data": {
      "text/plain": [
       "[<Split.TRAIN: 1>, <Split.VALID: 2>, <Split.TEST: 3>]"
      ]
     },
     "execution_count": 6,
     "metadata": {},
     "output_type": "execute_result"
    }
   ],
   "source": [
    "list(Split)"
   ]
  },
  {
   "cell_type": "code",
   "execution_count": 4,
   "id": "349ab624",
   "metadata": {},
   "outputs": [
    {
     "name": "stdout",
     "output_type": "stream",
     "text": [
      "{'a': [4, 5], 'b': {'g': [1, 7]}}\n"
     ]
    }
   ],
   "source": [
    "dictionary_data = {\"a\": [4,5], \"b\": {\"g\": [1,7]}}\n",
    "\n",
    "a_file = open(\"prepared_data/data.pkl\", \"wb\")\n",
    "pickle.dump(dictionary_data, a_file)\n",
    "a_file.close()\n",
    "\n",
    "a_file = open(\"prepared_data/data.pkl\", \"rb\")\n",
    "output = pickle.load(a_file)\n",
    "print(output)\n",
    "a_file.close()"
   ]
  },
  {
   "cell_type": "code",
   "execution_count": null,
   "id": "cfc2608c",
   "metadata": {},
   "outputs": [],
   "source": []
  }
 ],
 "metadata": {
  "kernelspec": {
   "display_name": "Python 3",
   "language": "python",
   "name": "python3"
  },
  "language_info": {
   "codemirror_mode": {
    "name": "ipython",
    "version": 3
   },
   "file_extension": ".py",
   "mimetype": "text/x-python",
   "name": "python",
   "nbconvert_exporter": "python",
   "pygments_lexer": "ipython3",
   "version": "3.8.8"
  }
 },
 "nbformat": 4,
 "nbformat_minor": 5
}
