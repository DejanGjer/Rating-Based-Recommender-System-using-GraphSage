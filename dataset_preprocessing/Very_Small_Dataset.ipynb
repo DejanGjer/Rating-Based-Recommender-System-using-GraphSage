{
 "cells": [
  {
   "cell_type": "code",
   "execution_count": 1,
   "source": [
    "import numpy as np\r\n",
    "import pandas as pd\r\n",
    "import json\r\n",
    "import gc\r\n",
    "from collections import defaultdict\r\n",
    "import sys\r\n",
    "from enum import Enum\r\n",
    "import random\r\n",
    "import pickle\r\n",
    "\r\n",
    "random.seed(824)\r\n",
    "\r\n",
    "print(\"Setup complete!\")"
   ],
   "outputs": [
    {
     "output_type": "stream",
     "name": "stdout",
     "text": [
      "Setup complete!\n"
     ]
    }
   ],
   "metadata": {}
  },
  {
   "cell_type": "code",
   "execution_count": 2,
   "source": [
    "movie_feats = [[1,0,0.2,0],\r\n",
    "\t\t\t\t\t\t   [0.4,1,0,0.1],\r\n",
    "\t\t\t\t\t\t   [1,0.1,0.3,0],\r\n",
    "\t\t\t\t\t\t   [0,0.8,0,0.5],\r\n",
    "\t\t\t\t\t\t   [0.6,0,1,0],\r\n",
    "\t\t\t\t\t\t   [0,0,0,1]]\r\n",
    "\r\n",
    "movie_adj_list_train = [{(0,4.5), (1,4.5), (3,4), (5,3.5), (6,4.5), (7,3.5)},\r\n",
    "        \t\t\t\t    {(0,3.5), (1,3), (2,5), (4,4.5), (5,4), (6,4.5), (7,2.5)},\r\n",
    "\t\t\t\t\t\t\t{(0,5), (2,4), (3,4.5), (4,4.5), (6,5), (7,4)},\r\n",
    "\t\t\t\t\t\t\t{(1,2), (2,4.5), (4,4), (6,4.5)},\r\n",
    "\t\t\t\t\t\t\t{(0,4), (1,4.5), (2,3.5), (4,3.5), (5,4), (6,3.5), (7,4)},\r\n",
    "\t\t\t\t\t\t\t{(2,4),(5,2)}]\r\n",
    "\r\n",
    "user_adj_list_train = [{(0,4.5), (1,3.5), (2,5), (4,4)},\r\n",
    "\t\t\t\t\t\t\t {(0,4.5), (1,3), (3,2), (4,4.5)},\r\n",
    "\t\t\t\t\t\t\t {(1,5), (2,4), (3,4.5), (4,3.5), (5,4)},\r\n",
    "\t\t\t\t\t\t\t {(0,4), (2,4.5)},\r\n",
    "\t\t\t\t\t\t\t {(1,4.5), (2,4.5), (3,4), (4,3.5)},\r\n",
    "\t\t\t\t\t\t\t {(0,3.5), (1,4), (4,4), (5,2)},\r\n",
    "\t\t\t\t\t\t\t {(0,4.5), (1,4.5), (2,5), (3,4.5), (4,3.5)},\r\n",
    "\t\t\t\t\t\t\t {(0,3.5), (1,2.5), (2,4), (4,4)}]\r\n",
    "\r\n",
    "\r\n",
    "edge_list_train = [(0,0,4.5),\r\n",
    "\t\t\t\t\t    (0,1,3.5),\r\n",
    "\t\t\t\t\t\t (0,2,5),\r\n",
    "\t\t\t\t\t\t (0,4,4),\r\n",
    "\t\t\t\t\t\t (1,0,4.5),\r\n",
    "\t\t\t\t\t\t (1,1,3),\r\n",
    "\t\t\t\t\t\t (1,3,2),\r\n",
    "\t\t\t\t\t\t (1,4,4.5),\r\n",
    "\t\t\t\t\t\t (2,1,5),\r\n",
    "\t\t\t\t\t\t (2,2,4),\r\n",
    "\t\t\t\t\t\t (2,3,4.5),\r\n",
    "\t\t\t\t\t\t (2,4,3.5),\r\n",
    "\t\t\t\t\t\t (2,5,4),\r\n",
    "\t\t\t\t\t\t (3,0,4),\r\n",
    "\t\t\t\t\t\t (3,2,4.5),\r\n",
    "\t\t\t\t\t\t (4,1,4.5),\r\n",
    "\t\t\t\t\t\t (4,2,4.5),\r\n",
    "\t\t\t\t\t\t (4,3,4),\r\n",
    "\t\t\t\t\t\t (4,4,3.5),\r\n",
    "\t\t\t\t\t\t (5,0,3.5),\r\n",
    "\t\t\t\t\t\t (5,1,4),\r\n",
    "\t\t\t\t\t\t (5,4,4),\r\n",
    "\t\t\t\t\t\t (5,5,2),\r\n",
    "\t\t\t\t\t\t (6,0,4.5),\r\n",
    "\t\t\t\t\t\t (6,1,4.5),\r\n",
    "\t\t\t\t\t\t (6,2,5),\r\n",
    "\t\t\t\t\t\t (6,3,4.5),\r\n",
    "\t\t\t\t\t\t (6,4,3.5),\r\n",
    "\t\t\t\t\t\t (7,0,3.5),\r\n",
    "\t\t\t\t\t\t (7,1,2.5),\r\n",
    "\t\t\t\t\t\t (7,2,4),\r\n",
    "\t\t\t\t\t\t (7,4,4)]\r\n",
    "\r\n",
    "edge_list_valid = [(0,3,3),\r\n",
    "\t\t\t\t\t\t  (1,2,5),\r\n",
    "\t\t\t\t\t\t  (3,3,3.5),\r\n",
    "\t\t\t\t\t\t  (5,2,4)]"
   ],
   "outputs": [],
   "metadata": {}
  },
  {
   "cell_type": "code",
   "execution_count": 3,
   "source": [
    "rating_distrib_movie = []\r\n",
    "rating_distrib_user = []\r\n",
    "for movie in range(len(movie_feats)):\r\n",
    "    rating_distrib_movie.append([0 for i in range(10)])\r\n",
    "for user in range(len(user_adj_list_train)):\r\n",
    "    rating_distrib_user.append([0 for i in range(10)])\r\n",
    "\r\n",
    "print(f\"{len(rating_distrib_movie)} x {len(rating_distrib_movie[0])}\")\r\n",
    "print(f\"{len(rating_distrib_user)} x {len(rating_distrib_user[0])}\")"
   ],
   "outputs": [
    {
     "output_type": "stream",
     "name": "stdout",
     "text": [
      "6 x 10\n",
      "8 x 10\n"
     ]
    }
   ],
   "metadata": {}
  },
  {
   "cell_type": "code",
   "execution_count": 4,
   "source": [
    "i = 0\r\n",
    "for movie_neighs in movie_adj_list_train:\r\n",
    "    for neigh in movie_neighs:\r\n",
    "        rating_distrib_movie[i][int(neigh[1] * 2 - 1)] += 1\r\n",
    "    i += 1\r\n",
    "i = 0\r\n",
    "for user_neighs in user_adj_list_train:\r\n",
    "    for neigh in user_neighs:\r\n",
    "        rating_distrib_user[i][int(neigh[1] * 2 - 1)] += 1\r\n",
    "    i += 1\r\n",
    "print(rating_distrib_movie)\r\n",
    "print(rating_distrib_user)"
   ],
   "outputs": [
    {
     "output_type": "stream",
     "name": "stdout",
     "text": [
      "[[0, 0, 0, 0, 0, 0, 2, 1, 3, 0], [0, 0, 0, 0, 1, 1, 1, 1, 2, 1], [0, 0, 0, 0, 0, 0, 0, 2, 2, 2], [0, 0, 0, 1, 0, 0, 0, 1, 2, 0], [0, 0, 0, 0, 0, 0, 3, 3, 1, 0], [0, 0, 0, 1, 0, 0, 0, 1, 0, 0]]\n",
      "[[0, 0, 0, 0, 0, 0, 1, 1, 1, 1], [0, 0, 0, 1, 0, 1, 0, 0, 2, 0], [0, 0, 0, 0, 0, 0, 1, 2, 1, 1], [0, 0, 0, 0, 0, 0, 0, 1, 1, 0], [0, 0, 0, 0, 0, 0, 1, 1, 2, 0], [0, 0, 0, 1, 0, 0, 1, 2, 0, 0], [0, 0, 0, 0, 0, 0, 1, 0, 3, 1], [0, 0, 0, 0, 1, 0, 1, 2, 0, 0]]\n"
     ]
    }
   ],
   "metadata": {}
  },
  {
   "cell_type": "code",
   "execution_count": 5,
   "source": [
    "data = dict()\r\n",
    "data[\"movies_feat\"] = movie_feats\r\n",
    "data[\"movie_adj_list_train\"] = movie_adj_list_train\r\n",
    "data[\"user_adj_list_train\"] = user_adj_list_train\r\n",
    "data[\"edge_list_train\"] = edge_list_train\r\n",
    "data[\"edge_list_valid\"] = edge_list_valid\r\n",
    "data[\"edge_list_test\"] = []\r\n",
    "data[\"rating_distrib_movie\"] = rating_distrib_movie\r\n",
    "data[\"rating_distrib_user\"] = rating_distrib_user\r\n",
    "\r\n",
    "a_file = open(\"prepared_data/data-very-small.pkl\", \"wb\")\r\n",
    "pickle.dump(data, a_file)\r\n",
    "a_file.close()"
   ],
   "outputs": [],
   "metadata": {}
  },
  {
   "cell_type": "code",
   "execution_count": null,
   "source": [],
   "outputs": [],
   "metadata": {}
  }
 ],
 "metadata": {
  "orig_nbformat": 4,
  "language_info": {
   "name": "python",
   "version": "3.8.8",
   "mimetype": "text/x-python",
   "codemirror_mode": {
    "name": "ipython",
    "version": 3
   },
   "pygments_lexer": "ipython3",
   "nbconvert_exporter": "python",
   "file_extension": ".py"
  },
  "kernelspec": {
   "name": "python3",
   "display_name": "Python 3.8.8 64-bit ('psiml2021': conda)"
  },
  "interpreter": {
   "hash": "69a205db9aae4119a42a9d80f3530e8403e32af34de8d4ddc40822022be891a5"
  }
 },
 "nbformat": 4,
 "nbformat_minor": 2
}